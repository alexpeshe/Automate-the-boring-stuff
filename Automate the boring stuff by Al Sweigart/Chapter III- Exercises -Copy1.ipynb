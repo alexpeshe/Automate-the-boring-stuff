{
 "cells": [
  {
   "cell_type": "markdown",
   "id": "3868939f-5f1c-41df-8693-66bb3b047b2e",
   "metadata": {
    "tags": []
   },
   "source": [
    "# Functions "
   ]
  },
  {
   "cell_type": "code",
   "execution_count": null,
   "id": "4838f569-5c70-4bf7-9885-0bd61c408a5a",
   "metadata": {},
   "outputs": [],
   "source": [
    "# helloFunc.py\n",
    "\n",
    "def hello():\n",
    "    print('Howdy!')\n",
    "    print('Howdy!!!')\n",
    "    print('Hello there.')\n",
    "\n",
    "hello()\n",
    "hello()\n",
    "hello()"
   ]
  },
  {
   "cell_type": "code",
   "execution_count": null,
   "id": "25d03129-722c-4f13-b2ee-35bc57ccb169",
   "metadata": {},
   "outputs": [],
   "source": [
    "def hello(name):\n",
    "    print('Hello ' + name)\n",
    "\n",
    "hello(Alex)\n",
    "hello(Ros)\n"
   ]
  },
  {
   "cell_type": "markdown",
   "id": "020fa7c1-03e7-409b-87ce-2a10a84579cf",
   "metadata": {},
   "source": [
    "- Argument = The value passed in the function call.\n",
    "\n",
    "- Parameter = The variable inside the function."
   ]
  },
  {
   "cell_type": "markdown",
   "id": "bb0a09f9-cbc5-4c32-b0ef-277080e0623b",
   "metadata": {},
   "source": [
    "# def Statements with Parameters"
   ]
  },
  {
   "cell_type": "markdown",
   "id": "620b85da-d8fa-4bef-852d-6165202b6db9",
   "metadata": {},
   "source": [
    "# Return Values and return Statements"
   ]
  },
  {
   "cell_type": "markdown",
   "id": "6eabb186-ba04-4b86-ba9c-ea06b0be3788",
   "metadata": {},
   "source": [
    "When creating a function using the def statement, you can specify what the return value should be with a return statement. A return statement consists of the following:\n",
    "\n",
    "- The return keyword\n",
    "\n",
    "- The value or expression that the function should return"
   ]
  },
  {
   "cell_type": "code",
   "execution_count": 3,
   "id": "dac89028-2d85-4bd4-a5c3-ca9174a4b4fc",
   "metadata": {},
   "outputs": [
    {
     "data": {
      "text/plain": [
       "\"➊ import random\\n\\n➋ def getAnswer(answerNumber):\\n    ➌ if answerNumber == 1:\\n           return 'It is certain'\\n       elif answerNumber == 2:\\n           return 'It is decidedly so'\\n       elif answerNumber == 3:\\n           return 'Yes'\\n       elif answerNumber == 4:\\n           return 'Reply hazy try again'\\n       elif answerNumber == 5:\\n           return 'Ask again later'\\n       elif answerNumber == 6:\\n           return 'Concentrate and ask again'\\n       elif answerNumber == 7:\\n           return 'My reply is no'\\n       elif answerNumber == 8:\\n           return 'Outlook not so good'\\n       elif answerNumber == 9:\\n           return 'Very doubtful'\\n\\n➍ r = random.randint(1, 9)\\n➎ fortune = getAnswer(r)\\n➏ print(fortune)\""
      ]
     },
     "execution_count": 3,
     "metadata": {},
     "output_type": "execute_result"
    }
   ],
   "source": [
    "import random\n",
    "\n",
    "def getAnswer(answerNumber):\n",
    "    if answerNumber == 1:\n",
    "        return 'It is certain'\n",
    "    elif answerNumber == 2:\n",
    "        return 'It is decidedly so'\n",
    "    elif answerNumber == 3:\n",
    "        return 'Yes'\n",
    "    elif answerNumber == 4:\n",
    "        return 'Reply hazy try again'\n",
    "    elif answerNumber == 5:\n",
    "        return 'Ask again later'\n",
    "    elif answerNumber == 6:\n",
    "        return 'Concentrate and ask again'\n",
    "    elif answerNumber == 7:\n",
    "        return 'My reply is no'\n",
    "    elif answerNumber == 8:\n",
    "        return 'Outlook not so good'\n",
    "    elif answerNumber == 9:\n",
    "        return 'Very doubtful'\n",
    "\n",
    "r = random.randint(1, 9)\n",
    "fortune = getAnswer(r)\n",
    "print(fortune)'''"
   ]
  },
  {
   "cell_type": "markdown",
   "id": "58f9975f-6afa-4171-aca3-cfd14d6fafd7",
   "metadata": {},
   "source": [
    "# Code explanation\n",
    "\n",
    "➊ import random\n",
    "This line imports the Python random module, which provides functions for generating random numbers.\n",
    "➋ def getAnswer(answerNumber):\n",
    "This defines a function named getAnswer that takes one parameter answerNumber.\n",
    "➌ The function body:\n",
    "This is a series of if and elif (else if) statements. Depending on the value of answerNumber, the function returns a different string (like a Magic 8-Ball response).\n",
    "➍ r = random.randint(1, 9)\n",
    "This line generates a random integer between 1 and 9 (inclusive) using the randint function from the random module, and assigns it to the variable r.\n",
    "➎ fortune = getAnswer(r)\n",
    "This calls the getAnswer function with the random number r as its argument, and assigns the returned string to the variable fortune.\n",
    "➏ print(fortune)\n",
    "This prints the value of fortune to the console.\n",
    "In essence, this code simulates a Magic 8-Ball:\n",
    "It generates a random number between 1 and 9.\n",
    "It uses this number to select one of nine possible responses.\n",
    "It prints the selected response."
   ]
  },
  {
   "cell_type": "markdown",
   "id": "a99d1656-f91d-4584-82eb-7cee0b004f04",
   "metadata": {
    "tags": []
   },
   "source": [
    "# Recap"
   ]
  },
  {
   "cell_type": "markdown",
   "id": "2377f48a-ae2d-4a89-bb66-cace428e3386",
   "metadata": {},
   "source": [
    "- Functions are like a mini-program inside your program.\n",
    "\n",
    "- The main point of functions is to get rid of duplicate code.\n",
    "\n",
    "- The def statement defines a function.\n",
    "\n",
    "- The input to functions are arguments. The output is the return value. - The parameters are the variables in between the function'sparentheses in the def statement.\n",
    "\n",
    "- The return value is specified using the return statement. - Every function has a return value. If your function doesn't have areturn statement, the default return value is None.\n",
    "\n",
    "- Keyword arguments to functions are usually for optional arguments. The print) function has keyword arguments end and sep."
   ]
  },
  {
   "cell_type": "markdown",
   "id": "08f8a612-c8d2-4d2d-946e-baf1b0cbd61b",
   "metadata": {
    "tags": []
   },
   "source": [
    "# The None Value\n",
    "\n"
   ]
  },
  {
   "cell_type": "markdown",
   "id": "cbe5c178-1be9-4a3c-8417-1c485c543636",
   "metadata": {},
   "source": [
    "In Python there is a value called None, which represents the absence of a value. None is the only value of the NoneType data type."
   ]
  },
  {
   "cell_type": "code",
   "execution_count": null,
   "id": "2ea2c5c1-95b3-4712-a96e-733a3d1191bc",
   "metadata": {},
   "outputs": [],
   "source": []
  },
  {
   "cell_type": "code",
   "execution_count": null,
   "id": "13cf0d5e-ef16-4396-b81c-fca286e9c765",
   "metadata": {},
   "outputs": [],
   "source": []
  },
  {
   "cell_type": "markdown",
   "id": "2b288a52-8bd8-4063-bf75-2bc47f9c6cee",
   "metadata": {},
   "source": [
    "# The Call Stack"
   ]
  },
  {
   "cell_type": "markdown",
   "id": "69ea34c9-3c65-40a7-8f1b-18ad927c336c",
   "metadata": {},
   "source": [
    "Think of the Call Stack like a stack of plates in a cafeteria:\n",
    "\n",
    "Basic Concept:\n",
    "The Call Stack is like a stack of plates where each plate represents a function call.\n",
    "When you call a function, it's like adding a plate to the top of the stack.\n",
    "When a function finishes, it's like removing a plate from the top.\n",
    "\n",
    "How it Works:\n",
    "When your program starts, the main script is like the first plate on the stack.\n",
    "Each time you call a function, Python adds a new plate (function) on top.\n",
    "If that function calls another function, another plate goes on top, and so on.\n",
    "When a function finishes, its plate is removed, and you return to the function below it.\n",
    "Example:"
   ]
  },
  {
   "cell_type": "code",
   "execution_count": 4,
   "id": "982bbab7-1a6c-4881-95d5-1c4ad626cd00",
   "metadata": {},
   "outputs": [
    {
     "name": "stdout",
     "output_type": "stream",
     "text": [
      "Starting main program\n",
      "In function1\n",
      "In function2\n",
      "Back in function1\n",
      "Back in main program\n"
     ]
    }
   ],
   "source": [
    "def function1():\n",
    "    print(\"In function1\")\n",
    "    function2()\n",
    "    print(\"Back in function1\")\n",
    "\n",
    "def function2():\n",
    "    print(\"In function2\")\n",
    "\n",
    "print(\"Starting main program\")\n",
    "function1()\n",
    "print(\"Back in main program\")"
   ]
  },
  {
   "cell_type": "markdown",
   "id": "bb9dbbdc-4889-4112-8689-4d8bfde56e1b",
   "metadata": {},
   "source": [
    "The Call Stack would work like this:\n",
    "\n",
    "Start with \"main program\" (bottom plate)\n",
    "Call function1 (add a plate)\n",
    "Inside function1, call function2 (add another plate)\n",
    "function2 finishes (remove top plate)\n",
    "Back to function1, it finishes (remove its plate)\n",
    "Back to main program (original plate)"
   ]
  },
  {
   "cell_type": "markdown",
   "id": "90e5d06f-1485-4a03-86a3-880085ac1766",
   "metadata": {},
   "source": [
    "Why it's Important:\n",
    "\n",
    "It keeps track of where to return after each function call.\n",
    "It maintains local variables for each function.\n",
    "It helps in debugging by showing the path of execution.\n",
    "\n",
    "Limitations:\n",
    "The stack has a limit (like a stack of plates might topple if too high).\n",
    "If you call too many functions without returning (like in infinite recursion), you get a \"stack overflow\" error."
   ]
  },
  {
   "cell_type": "markdown",
   "id": "dfa00b19-59e6-4fff-8da2-6c46d9523d54",
   "metadata": {},
   "source": [
    "# Example 2"
   ]
  },
  {
   "cell_type": "code",
   "execution_count": null,
   "id": "3435e993-b592-497b-9ba6-d8529b1c6d57",
   "metadata": {},
   "outputs": [],
   "source": [
    "# This program demonstrates the concept of the call stack in Python\n",
    "\n",
    "def function1():\n",
    "    # When function1 is called, it's added to the call stack\n",
    "    print(\"Entering function1\")  # This print statement executes first\n",
    "    function2()  # function2 is called, so it's added on top of function1 in the call stack\n",
    "    # After function2 completes, we return here\n",
    "    print(\"Exiting function1\")  # This prints after returning from function2\n",
    "\n",
    "def function2():\n",
    "    # When function2 is called, it's added to the top of the call stack\n",
    "    print(\"Entering function2\")  # This prints when we enter function2\n",
    "    # function2 does its work...\n",
    "    print(\"Exiting function2\")  # This prints just before function2 returns\n",
    "    # When function2 returns, it's removed from the call stack\n",
    "\n",
    "# Main program starts here\n",
    "print(\"Starting main program\")  # This is the first line to execute\n",
    "\n",
    "# When we call function1, it's added to the call stack\n",
    "function1()\n",
    "\n",
    "# After function1 (and function2) complete, we return here\n",
    "print(\"Back in main program\")  # This is the last line to execute\n",
    "\n",
    "# Call stack visualization throughout the program execution:\n",
    "# 1. [Main]\n",
    "# 2. [Main, function1]\n",
    "# 3. [Main, function1, function2]\n",
    "# 4. [Main, function1]\n",
    "# 5. [Main]"
   ]
  },
  {
   "cell_type": "markdown",
   "id": "cd6815d6-2c5d-45b9-9775-fe704496a104",
   "metadata": {},
   "source": [
    "# Local and Global Scope"
   ]
  },
  {
   "cell_type": "code",
   "execution_count": 5,
   "id": "4ab8906b-0fd6-4904-882c-fecf7c22d2cd",
   "metadata": {},
   "outputs": [
    {
     "name": "stdout",
     "output_type": "stream",
     "text": [
      "I'm a global variable\n",
      "I'm a global variable\n",
      "I'm local to function1\n",
      "I'm a global variable\n",
      "I'm local to function2\n"
     ]
    }
   ],
   "source": [
    "# Global scope\n",
    "global_var = \"I'm a global variable\"\n",
    "\n",
    "def function1():\n",
    "    # Local scope of function1\n",
    "    local_var = \"I'm local to function1\"\n",
    "    print(global_var)  # Can access global variables\n",
    "    print(local_var)   # Can access its own local variables\n",
    "\n",
    "def function2():\n",
    "    # Local scope of function2\n",
    "    local_var = \"I'm local to function2\"\n",
    "    print(global_var)  # Can access global variables\n",
    "    print(local_var)   # Can access its own local variables\n",
    "    # print(function1.local_var)  # This would raise an error\n",
    "\n",
    "print(global_var)  # Works fine\n",
    "# print(local_var)  # This would raise an error\n",
    "\n",
    "function1()\n",
    "function2()"
   ]
  },
  {
   "cell_type": "markdown",
   "id": "662bd060-f40d-4dab-aead-ab76e9bda2b8",
   "metadata": {},
   "source": [
    "# Explanation:\n"
   ]
  },
  {
   "cell_type": "markdown",
   "id": "33bcdfb6-fad7-422b-84ff-100ee60db610",
   "metadata": {},
   "source": [
    "- Global Scope:\n",
    "    \n",
    "Variables defined outside of any function have global scope.\n",
    "In this example, global_var is in the global scope.\n",
    "Global variables can be accessed from anywhere in the code, including inside functions.\n",
    "\n",
    "Local Scope:\n",
    "Variables defined inside a function have local scope.\n",
    "In this example, each local_var is local to its respective function.\n",
    "Local variables can only be accessed within the function they're defined in.\n",
    "Each function has its own local scope, separate from other functions.\n",
    "\n",
    "Accessing Variables:\n",
    "Functions can access global variables, but they can't modify them unless declared as global inside the function.\n",
    "Functions can't access local variables from other functions.\n",
    "The global scope can't access local variables from functions.\n",
    "\n",
    "Name Resolution:\n",
    "Python looks for variables in this order: local scope, enclosing functions, global scope, built-in scope.\n",
    "If a local variable has the same name as a global variable, the local variable takes precedence within its scope.\n",
    "\n",
    "Modifying Global Variables:\n",
    "If you want to modify a global variable inside a function, you need to use the global keyword:"
   ]
  },
  {
   "cell_type": "markdown",
   "id": "093a1e5f-3a79-441e-8e99-1eb97b5575d0",
   "metadata": {},
   "source": [
    "# To recap:\n",
    "\n",
    "- A divide-by-zero error happens when Python divides a number by zero.\n",
    "\n",
    "- Errors cause the program to crash.\n",
    "\n",
    "- An error that happens inside a try block will cause code in the except block to execute. That code can handle the error or display a message to the user so tha the program can keep"
   ]
  },
  {
   "cell_type": "markdown",
   "id": "ad70cc7c-5d1c-4f3e-b2b6-b2327af7f850",
   "metadata": {},
   "source": [
    "# A Short Program: Guess the Number\n",
    "\n"
   ]
  },
  {
   "cell_type": "markdown",
   "id": "db6b4c0d-1731-4d24-ad04-503a6199ea78",
   "metadata": {},
   "source": [
    "When you run this program, the output will look something like this:\n",
    "\n",
    "I am thinking of a number between 1 and 20.\n",
    "Take a guess.\n",
    "10\n",
    "\n",
    "Your guess is too low.\n",
    "Take a guess.\n",
    "15\n",
    "\n",
    "Your guess is too low.\n",
    "Take a guess.\n",
    "17\n",
    "\n",
    "Your guess is too high.\n",
    "Take a guess.\n",
    "16\n",
    "\n",
    "Good job! You guessed my number in 4 guesses!"
   ]
  },
  {
   "cell_type": "code",
   "execution_count": 2,
   "id": "a49f6b9f-0502-4ec6-9197-4db3ea6a3eda",
   "metadata": {},
   "outputs": [
    {
     "name": "stdout",
     "output_type": "stream",
     "text": [
      "I am thinking of a number between 1 and 20.\n",
      "Take a guess.\n"
     ]
    },
    {
     "name": "stdin",
     "output_type": "stream",
     "text": [
      " 1\n"
     ]
    },
    {
     "name": "stdout",
     "output_type": "stream",
     "text": [
      "Your guess is too low.\n",
      "Take a guess.\n"
     ]
    },
    {
     "name": "stdin",
     "output_type": "stream",
     "text": [
      " 0\n"
     ]
    },
    {
     "name": "stdout",
     "output_type": "stream",
     "text": [
      "Your guess is too low.\n",
      "Take a guess.\n"
     ]
    },
    {
     "ename": "KeyboardInterrupt",
     "evalue": "Interrupted by user",
     "output_type": "error",
     "traceback": [
      "\u001b[0;31m---------------------------------------------------------------------------\u001b[0m",
      "\u001b[0;31mKeyboardInterrupt\u001b[0m                         Traceback (most recent call last)",
      "Input \u001b[0;32mIn [2]\u001b[0m, in \u001b[0;36m<cell line: 10>\u001b[0;34m()\u001b[0m\n\u001b[1;32m     10\u001b[0m \u001b[38;5;28;01mfor\u001b[39;00m guess \u001b[38;5;129;01min\u001b[39;00m \u001b[38;5;28mrange\u001b[39m(\u001b[38;5;241m1\u001b[39m, \u001b[38;5;241m11\u001b[39m):\n\u001b[1;32m     11\u001b[0m     \u001b[38;5;28mprint\u001b[39m(\u001b[38;5;124m'\u001b[39m\u001b[38;5;124mTake a guess.\u001b[39m\u001b[38;5;124m'\u001b[39m)\n\u001b[0;32m---> 12\u001b[0m     guess \u001b[38;5;241m=\u001b[39m \u001b[38;5;28mint\u001b[39m(\u001b[38;5;28;43minput\u001b[39;49m\u001b[43m(\u001b[49m\u001b[43m)\u001b[49m)\n\u001b[1;32m     15\u001b[0m     \u001b[38;5;28;01mif\u001b[39;00m guess \u001b[38;5;241m<\u001b[39m secretNumber:\n\u001b[1;32m     16\u001b[0m         \u001b[38;5;28mprint\u001b[39m(\u001b[38;5;124m'\u001b[39m\u001b[38;5;124mYour guess is too low.\u001b[39m\u001b[38;5;124m'\u001b[39m)\n",
      "File \u001b[0;32m~/opt/anaconda3/lib/python3.9/site-packages/ipykernel/kernelbase.py:1075\u001b[0m, in \u001b[0;36mKernel.raw_input\u001b[0;34m(self, prompt)\u001b[0m\n\u001b[1;32m   1071\u001b[0m \u001b[38;5;28;01mif\u001b[39;00m \u001b[38;5;129;01mnot\u001b[39;00m \u001b[38;5;28mself\u001b[39m\u001b[38;5;241m.\u001b[39m_allow_stdin:\n\u001b[1;32m   1072\u001b[0m     \u001b[38;5;28;01mraise\u001b[39;00m StdinNotImplementedError(\n\u001b[1;32m   1073\u001b[0m         \u001b[38;5;124m\"\u001b[39m\u001b[38;5;124mraw_input was called, but this frontend does not support input requests.\u001b[39m\u001b[38;5;124m\"\u001b[39m\n\u001b[1;32m   1074\u001b[0m     )\n\u001b[0;32m-> 1075\u001b[0m \u001b[38;5;28;01mreturn\u001b[39;00m \u001b[38;5;28;43mself\u001b[39;49m\u001b[38;5;241;43m.\u001b[39;49m\u001b[43m_input_request\u001b[49m\u001b[43m(\u001b[49m\n\u001b[1;32m   1076\u001b[0m \u001b[43m    \u001b[49m\u001b[38;5;28;43mstr\u001b[39;49m\u001b[43m(\u001b[49m\u001b[43mprompt\u001b[49m\u001b[43m)\u001b[49m\u001b[43m,\u001b[49m\n\u001b[1;32m   1077\u001b[0m \u001b[43m    \u001b[49m\u001b[38;5;28;43mself\u001b[39;49m\u001b[38;5;241;43m.\u001b[39;49m\u001b[43m_parent_ident\u001b[49m\u001b[43m[\u001b[49m\u001b[38;5;124;43m\"\u001b[39;49m\u001b[38;5;124;43mshell\u001b[39;49m\u001b[38;5;124;43m\"\u001b[39;49m\u001b[43m]\u001b[49m\u001b[43m,\u001b[49m\n\u001b[1;32m   1078\u001b[0m \u001b[43m    \u001b[49m\u001b[38;5;28;43mself\u001b[39;49m\u001b[38;5;241;43m.\u001b[39;49m\u001b[43mget_parent\u001b[49m\u001b[43m(\u001b[49m\u001b[38;5;124;43m\"\u001b[39;49m\u001b[38;5;124;43mshell\u001b[39;49m\u001b[38;5;124;43m\"\u001b[39;49m\u001b[43m)\u001b[49m\u001b[43m,\u001b[49m\n\u001b[1;32m   1079\u001b[0m \u001b[43m    \u001b[49m\u001b[43mpassword\u001b[49m\u001b[38;5;241;43m=\u001b[39;49m\u001b[38;5;28;43;01mFalse\u001b[39;49;00m\u001b[43m,\u001b[49m\n\u001b[1;32m   1080\u001b[0m \u001b[43m\u001b[49m\u001b[43m)\u001b[49m\n",
      "File \u001b[0;32m~/opt/anaconda3/lib/python3.9/site-packages/ipykernel/kernelbase.py:1120\u001b[0m, in \u001b[0;36mKernel._input_request\u001b[0;34m(self, prompt, ident, parent, password)\u001b[0m\n\u001b[1;32m   1117\u001b[0m             \u001b[38;5;28;01mbreak\u001b[39;00m\n\u001b[1;32m   1118\u001b[0m \u001b[38;5;28;01mexcept\u001b[39;00m \u001b[38;5;167;01mKeyboardInterrupt\u001b[39;00m:\n\u001b[1;32m   1119\u001b[0m     \u001b[38;5;66;03m# re-raise KeyboardInterrupt, to truncate traceback\u001b[39;00m\n\u001b[0;32m-> 1120\u001b[0m     \u001b[38;5;28;01mraise\u001b[39;00m \u001b[38;5;167;01mKeyboardInterrupt\u001b[39;00m(\u001b[38;5;124m\"\u001b[39m\u001b[38;5;124mInterrupted by user\u001b[39m\u001b[38;5;124m\"\u001b[39m) \u001b[38;5;28;01mfrom\u001b[39;00m \u001b[38;5;28mNone\u001b[39m\n\u001b[1;32m   1121\u001b[0m \u001b[38;5;28;01mexcept\u001b[39;00m \u001b[38;5;167;01mException\u001b[39;00m:\n\u001b[1;32m   1122\u001b[0m     \u001b[38;5;28mself\u001b[39m\u001b[38;5;241m.\u001b[39mlog\u001b[38;5;241m.\u001b[39mwarning(\u001b[38;5;124m\"\u001b[39m\u001b[38;5;124mInvalid Message:\u001b[39m\u001b[38;5;124m\"\u001b[39m, exc_info\u001b[38;5;241m=\u001b[39m\u001b[38;5;28;01mTrue\u001b[39;00m)\n",
      "\u001b[0;31mKeyboardInterrupt\u001b[0m: Interrupted by user"
     ]
    }
   ],
   "source": [
    "# guessTheNumber.py\n",
    "# This is a guess the number game.\n",
    "\n",
    "import random\n",
    "secretNumber = random.randint(1, 20)\n",
    "print('I am thinking of a number between 1 and 20.')\n",
    "\n",
    "# Ask the player to guess 6 times.\n",
    "for guess in range(1, 7):\n",
    "    print('Take a guess.')\n",
    "    guess = int(input())\n",
    "    \n",
    "\n",
    "    if guess < secretNumber:\n",
    "        print('Your guess is too low.')\n",
    "    elif guess > secretNumber:\n",
    "        print('Your guess is too high.')\n",
    "    else:\n",
    "        break    # This condition is the correct guess!\n",
    "        \n",
    "\n",
    "if guess == secretNumber:\n",
    "    print('Good job! You guessed my number in ' + str(guessesTaken) + ' guesses!')\n",
    "else:\n",
    "    print('Nope. The number I was thinking of was ' + str(secretNumber))\n",
    "    \n"
   ]
  },
  {
   "cell_type": "markdown",
   "id": "505cbdb0-d2af-4fe3-a548-69a19f8c0c5d",
   "metadata": {},
   "source": [
    "# Explanation "
   ]
  },
  {
   "cell_type": "code",
   "execution_count": null,
   "id": "33944c75-2528-4e15-b8f2-3281a00bd507",
   "metadata": {},
   "outputs": [],
   "source": [
    "# guessTheNumber.py\n",
    "\n",
    "# This is a guess the number game.\n",
    "\n",
    "import random\n",
    "secretNumber = random.randint(1, 20)\n",
    "print('I am thinking of a number between 1 and 20.')\n",
    "\n",
    "''' This imports the random module.\n",
    "It generates a random number between 1 and 20 and stores it in secretNumber.\n",
    "It prints a message to the user.'''\n",
    "\n",
    "# Ask the player to guess 6 times.\n",
    "for guessesTaken in range(1, 7):\n",
    "    print('Take a guess.')\n",
    "    guess = int(input())\n",
    "    \n",
    "''' Main Game Loop:\n",
    "\n",
    "This starts a loop that will run 6 times (from 1 to 6).\n",
    "guessesTaken keeps track of the number of guesses.\n",
    "\n",
    "User Input:\n",
    "\n",
    "Prompts the user to make a guess.\n",
    "Converts the input to an integer. '''\n",
    "\n",
    "    if guess < secretNumber:\n",
    "        print('Your guess is too low.')\n",
    "    elif guess > secretNumber:\n",
    "        print('Your guess is too high.')\n",
    "    else:\n",
    "        break    # This condition is the correct guess!\n",
    "        \n",
    "''' Compares the guess to the secret number.\n",
    "Provides feedback if the guess is too low or too high.\n",
    "If the guess is correct, it breaks out of the loop. '''\n",
    "\n",
    "if guess == secretNumber:\n",
    "    print('Good job! You guessed my number in ' + str(guessesTaken) + ' guesses!')\n",
    "else:\n",
    "    print('Nope. The number I was thinking of was ' + str(secretNumber))\n",
    "    \n",
    "    \n",
    "''' After the loop ends (either by guessing correctly or running out of guesses), this code determines the outcome.\n",
    "If the last guess was correct, it congratulates the player.\n",
    "If not, it reveals the secret number. '''"
   ]
  },
  {
   "cell_type": "markdown",
   "id": "bead35cd-b270-409e-93f5-6959c0eb98ad",
   "metadata": {},
   "source": [
    "# This is a guess the number game.\n",
    "\n",
    "''' import random\n",
    "\n",
    "secretNumber = random.randint(1, 20)'''\n",
    "\n",
    "First, a comment at the top of the code explains what the program does. \n",
    "Then, the program imports the random module so that it can use the random.randint() function to generate a number for the user to guess. \n",
    "The return value, a random integer between 1 and 20, is stored in the variable secretNumber.\n",
    "\n"
   ]
  },
  {
   "cell_type": "markdown",
   "id": "8a2b5cdb-3acb-4fe1-9edd-a873468cdaad",
   "metadata": {},
   "source": [
    "''' print('I am thinking of a number between 1 and 20.')\n",
    "\n",
    "# Ask the player to guess 6 times.\n",
    "\n",
    "for guessesTaken in range(1, 7):\n",
    "\n",
    "    print('Take a guess.')\n",
    "    \n",
    "    guess = int(input())'''\n",
    "\n",
    "The program tells the player that it has come up with a secret number and will give the player six chances to guess it.\n",
    "The code that lets the player enter a guess and checks that guess is in a for loop that will loop at most six times. \n",
    "The first thing that happens in the loop is that the player types in a guess. \n",
    "Since input() returns a string, its return value is passed straight into int(), which translates the string into an integer value. This gets stored in a variable named guess."
   ]
  },
  {
   "cell_type": "markdown",
   "id": "d3f2ab17-6106-4cf2-be47-dd1377a6781d",
   "metadata": {
    "tags": []
   },
   "source": [
    "# Error handling"
   ]
  },
  {
   "cell_type": "code",
   "execution_count": 1,
   "id": "389f5e49-4ec6-403b-b887-c29211c09b5b",
   "metadata": {},
   "outputs": [
    {
     "ename": "NameError",
     "evalue": "name 'div42by' is not defined",
     "output_type": "error",
     "traceback": [
      "\u001b[0;31m---------------------------------------------------------------------------\u001b[0m",
      "\u001b[0;31mNameError\u001b[0m                                 Traceback (most recent call last)",
      "Input \u001b[0;32mIn [1]\u001b[0m, in \u001b[0;36m<cell line: 4>\u001b[0;34m()\u001b[0m\n\u001b[1;32m      1\u001b[0m \u001b[38;5;28;01mdef\u001b[39;00m \u001b[38;5;21mdivezby\u001b[39m (divideBy) :\n\u001b[1;32m      2\u001b[0m     \u001b[38;5;28;01mreturn\u001b[39;00m \u001b[38;5;241m42\u001b[39m \u001b[38;5;241m/\u001b[39m divideBy\n\u001b[0;32m----> 4\u001b[0m \u001b[38;5;28mprint\u001b[39m (\u001b[43mdiv42by\u001b[49m(\u001b[38;5;241m2\u001b[39m))\n\u001b[1;32m      5\u001b[0m \u001b[38;5;28mprint\u001b[39m (div42by(\u001b[38;5;241m12\u001b[39m)) \n\u001b[1;32m      6\u001b[0m \u001b[38;5;28mprint\u001b[39m (div42by(\u001b[38;5;241m0\u001b[39m))\n",
      "\u001b[0;31mNameError\u001b[0m: name 'div42by' is not defined"
     ]
    }
   ],
   "source": [
    "def divezby (divideBy) :\n",
    "    return 42 / divideBy\n",
    "\n",
    "print (div42by(2))\n",
    "print (div42by(12)) \n",
    "print (div42by(0))\n",
    "print (div42by(1))"
   ]
  },
  {
   "cell_type": "markdown",
   "id": "fbddaf36-a23f-47a4-baa7-57ff973a7609",
   "metadata": {},
   "source": [
    "- The way to handle the error is to put divide-by-zero code in a try clause and have an except clause contain code to handle what happens when this error occurs"
   ]
  },
  {
   "cell_type": "code",
   "execution_count": 2,
   "id": "d52aa9cc-e5e4-45a0-9686-687c619c2c65",
   "metadata": {},
   "outputs": [
    {
     "name": "stdout",
     "output_type": "stream",
     "text": [
      "21.0\n",
      "3.5\n",
      "Error: Invalid argument.\n",
      "None\n",
      "42.0\n"
     ]
    }
   ],
   "source": [
    "def spam(divideBy):\n",
    "    try:\n",
    "        return 42 / divideBy\n",
    "    except ZeroDivisionError:\n",
    "        print('Error: Invalid argument.')\n",
    "\n",
    "print(spam(2))\n",
    "print(spam(12))\n",
    "print(spam(0))\n",
    "print(spam(1))"
   ]
  },
  {
   "cell_type": "code",
   "execution_count": null,
   "id": "d6c370e9-a815-48c0-839c-784a8e85eb22",
   "metadata": {},
   "outputs": [],
   "source": []
  },
  {
   "cell_type": "code",
   "execution_count": null,
   "id": "023cc169-33b5-4a62-b299-3cf03fc947ba",
   "metadata": {},
   "outputs": [],
   "source": []
  },
  {
   "cell_type": "markdown",
   "id": "ddd70f70-cd83-416b-a641-6bcf8e16e778",
   "metadata": {},
   "source": [
    "# Summary"
   ]
  },
  {
   "cell_type": "markdown",
   "id": "1ecf9497-a167-46ea-83e9-6a82ffef0bd1",
   "metadata": {},
   "source": [
    "Functions are the primary way to compartmentalize your code into logical groups. Since the variables in functions exist in their own local scopes, the code in one function cannot directly affect the values of variables in other functions. This limits what code could be changing the values of your variables, which can be helpful when it comes to debugging your code.\n",
    "\n",
    "Functions are a great tool to help you organize your code. You can think of them as black boxes: They have inputs in the form of parameters and outputs in the form of return values, and the code in them doesn’t affect variables in other functions.\n",
    "\n",
    "In previous chapters, a single error could cause your programs to crash. In this chapter, you learned about try and except statements, which can run code when an error has been detected. This can make your programs more resilient to common error cases.\n",
    "\n"
   ]
  },
  {
   "cell_type": "markdown",
   "id": "de15fc88-cecc-4398-b3ab-e35a6cd329e5",
   "metadata": {},
   "source": [
    "# Practice Questions\n",
    "\n"
   ]
  },
  {
   "cell_type": "markdown",
   "id": "5b50bc25-f0b5-440a-b840-8783f1aad695",
   "metadata": {},
   "source": [
    "# 1. Why are functions advantageous to have in your programs?\n",
    "\n",
    "- Functions reduce the need for duplicate code. This makes programs\n",
    "shorter, easier to read, and easier to update."
   ]
  },
  {
   "cell_type": "markdown",
   "id": "d211366c-9212-4cc2-8566-6e968fdac033",
   "metadata": {},
   "source": [
    "# 2. When does the code in a function execute: when the function is defined or when the function is called?\n",
    "\n",
    "The code in a function executes when the function is called, not when it is defined.\n",
    "\n",
    "Check the example below"
   ]
  },
  {
   "cell_type": "code",
   "execution_count": null,
   "id": "8bfbce35-b15c-4234-838a-0f249b66b501",
   "metadata": {},
   "outputs": [],
   "source": [
    "''' Function Definition:\n",
    "When you define a function, you're essentially creating a named block of code. \n",
    "At this point, Python recognizes the function exists, but doesn't execute its contents.'''\n",
    "\n",
    "def calculate_square(number):\n",
    "    print(f\"Calculating square of {number}\")\n",
    "    return number ** 2\n",
    "\n",
    "''' Function Call:\n",
    "The code inside the function only runs when you call (invoke) the function.'''\n",
    "\n",
    "print(\"Function is defined\")\n",
    "result = calculate_square(5)\n",
    "print(f\"Result: {result}\")"
   ]
  },
  {
   "cell_type": "markdown",
   "id": "62ce5020-952d-4b3f-854c-47d67f431ebf",
   "metadata": {},
   "source": [
    "# 3. What statement creates a function?\n",
    "\n",
    "It is the def statement that creates functions"
   ]
  },
  {
   "cell_type": "markdown",
   "id": "e64f5981-2f4c-442d-a866-dd60082392ef",
   "metadata": {},
   "source": [
    "# 4. What is the difference between a function and a function call?\n"
   ]
  },
  {
   "cell_type": "code",
   "execution_count": null,
   "id": "4f696b85-9f89-4c96-b58e-82b0dbb563a6",
   "metadata": {},
   "outputs": [],
   "source": [
    "''' Function:\n",
    "A function is a block of reusable code that performs a specific task. It's like a recipe or a set of instructions. \n",
    "Functions are defined using the def keyword in Python. '''\n",
    "\n",
    "def greet(name):\n",
    "    return f\"Hello, {name}!\"\n",
    "\n",
    "''' Key points about functions:\n",
    "\n",
    "They have a name (in this case, 'greet')\n",
    "They can take parameters (like 'name' in this example)\n",
    "They can return a value (the greeting string in this case)\n",
    "They are defined once but can be used multiple times.'''"
   ]
  },
  {
   "cell_type": "code",
   "execution_count": null,
   "id": "fee86e71-5d5b-4b70-a434-72c8603b4abc",
   "metadata": {},
   "outputs": [],
   "source": [
    "''' Function Call:\n",
    "A function call is the actual use or execution of a function. \n",
    "It's when you tell Python to run the code inside the function.'''\n",
    "\n",
    "message = greet(\"Alice\")\n",
    "print(message)  # Output: Hello, Alice!\n",
    "\n",
    "''' Key points about function calls:\n",
    "\n",
    "They use the function's name followed by parentheses\n",
    "\n",
    "They can include arguments that are passed to the function's parameters\n",
    "\n",
    "They may be assigned to a variable to capture the return value\n",
    "\n",
    "They trigger the execution of the function's code '''\n",
    "\n"
   ]
  },
  {
   "cell_type": "markdown",
   "id": "ffc273ea-4945-4781-813a-4d3b1aaac13d",
   "metadata": {},
   "source": [
    "# The Key differences:\n",
    "\n",
    "- Definition vs. Execution:\n",
    "\n",
    "A function is a definition of what should happen\n",
    "\n",
    "A function call is the actual execution of that definition\n",
    "\n",
    "- Reusability:\n",
    "\n",
    "A function is defined once\n",
    "\n",
    "A function call can be made multiple times with different arguments\n",
    "\n",
    "- Timing:\n",
    "\n",
    "Functions are typically defined at the beginning of a script or in a separate module\n",
    "\n",
    "Function calls occur when that part of the code is reached during execution\n",
    "\n",
    "- Purpose:\n",
    "\n",
    "Functions organize and structure code\n",
    "\n",
    "Function calls use that organized code to perform actions"
   ]
  },
  {
   "cell_type": "markdown",
   "id": "6eaad4e0-ab98-4d61-ade5-9be5287f2bf5",
   "metadata": {},
   "source": [
    "# 5. How many global scopes are there in a Python program? How many local scopes?\n",
    "\n"
   ]
  },
  {
   "cell_type": "markdown",
   "id": "6331c313-38ca-4a20-923a-9b684db066d8",
   "metadata": {},
   "source": [
    "- Global Scope:\n",
    "\n",
    "There is only one global scope in a Python program. It's created when the program starts and remains in existence until the program terminates. The global scope contains names defined at the top level of the script or module.\n",
    "\n",
    "- Local Scopes:\n",
    "\n",
    "There can be multiple local scopes in a Python program. A new local scope is created whenever a function is called. Each function call creates its own local scope.\n"
   ]
  },
  {
   "cell_type": "code",
   "execution_count": null,
   "id": "d54246ba-be8e-4137-853c-a12017149ebd",
   "metadata": {},
   "outputs": [],
   "source": [
    "# The following example illustrates this.\n",
    "\n",
    "x = 10  # This is in the global scope\n",
    "\n",
    "def outer_function():\n",
    "    y = 20  # This is in the local scope of outer_function\n",
    "    \n",
    "    def inner_function():\n",
    "        z = 30  # This is in the local scope of inner_function\n",
    "        print(x, y, z)\n",
    "    \n",
    "    inner_function()\n",
    "\n",
    "outer_function()"
   ]
  },
  {
   "cell_type": "markdown",
   "id": "e4339d2c-1676-4d51-a905-533ebdcc732d",
   "metadata": {},
   "source": [
    "- in this example:\n",
    "\n",
    "There's one global scope containing the variable x.\n",
    "\n",
    "When outer_function() is called, a new local scope is created containing y.\n",
    "\n",
    "When inner_function() is called inside outer_function(), another local scope is created containing z.\n",
    "\n",
    "- Key points to remember:\n",
    "\n",
    "The global scope exists for the entire duration of the program.\n",
    "\n",
    "Local scopes are created when functions are called and destroyed when the function call completes.\n",
    "\n",
    "You can have as many local scopes as you have function calls, including nested functions.\n",
    "\n",
    "Each function call creates a new instance of that function's local scope."
   ]
  },
  {
   "cell_type": "markdown",
   "id": "b9418a3c-237b-4e1b-aeb5-79312c05d440",
   "metadata": {
    "jp-MarkdownHeadingCollapsed": true,
    "tags": []
   },
   "source": [
    "# 6. What happens to variables in a local scope when the function call returns?\n",
    "\n",
    "When a function call returns, the local scope for that function is destroyed, and all the variables defined within that local scope cease to exist. This process is known as \"garbage collection\" in Python.\n"
   ]
  },
  {
   "cell_type": "markdown",
   "id": "bb885c63-e353-4abb-8865-5c7e807162d4",
   "metadata": {},
   "source": [
    "# Here's a detailed explanation:\n",
    "\n",
    "- Creation of Local Scope:\n",
    "\n",
    "When a function is called, Python creates a new local scope for that function.\n",
    "\n",
    "- Variables in Local Scope:\n",
    "\n",
    "Any variables defined within the function exist only within this local scope.\n",
    "\n",
    "- Function Execution:\n",
    "\n",
    "The function executes, using these local variables.\n",
    "\n",
    "- Function Return:\n",
    "\n",
    "- When the function returns (either by reaching the end or via a return statement), the following occurs:\n",
    "\n",
    "The return value (if any) is passed back to the caller.\n",
    "\n",
    "The local scope is destroyed.\n",
    "\n",
    "All local variables are deleted.\n",
    "\n",
    "- Garbage Collection:\n",
    "\n",
    "Python's garbage collector reclaims the memory used by these local variables.\n"
   ]
  },
  {
   "cell_type": "code",
   "execution_count": null,
   "id": "ad617774-7e9e-458d-8a44-88157970f2aa",
   "metadata": {},
   "outputs": [],
   "source": [
    "# Here's an example to illustrate this:\n",
    "\n",
    "def example_function():\n",
    "    x = 10  # Local variable\n",
    "    y = 20  # Local variable\n",
    "    return x + y\n",
    "\n",
    "''' x and y are created when example_function() is called. \n",
    "They exist only during the function's execution.'''\n",
    "\n",
    "result = example_function()\n",
    "print(result)  # Outputs: 30\n",
    "print(x)  # This would raise a NameError because x no longer exists\n",
    "\n",
    "''' After the function returns, x and y are destroyed.\n",
    "Trying to access x or y outside the function will raise a NameError.'''"
   ]
  },
  {
   "cell_type": "markdown",
   "id": "10aa03f6-2857-4ea8-ad55-915101dd1d76",
   "metadata": {},
   "source": [
    "# Key points to remember:\n",
    "\n",
    "Local variables have a limited lifetime, existing only during the function's execution.\n",
    "\n",
    "This behavior helps manage memory efficiently.\n",
    "\n",
    "If you need to retain values after a function returns, you should return them or use other mechanisms\n",
    "like global variables (though this is generally discouraged for maintainability reasons)."
   ]
  },
  {
   "cell_type": "markdown",
   "id": "6ae1c076-9217-47cd-9863-75b4d108082b",
   "metadata": {},
   "source": [
    "# 7. A return value is the value that a function call evaluates to. Like any value, a return value can be used as part of an expression.\n",
    "\n",
    "A return value is the value that a function call evaluates to or \"gives back\" when it completes its execution. It's essentially the output of a function.\n"
   ]
  },
  {
   "cell_type": "markdown",
   "id": "30e842b6-0788-4396-8e11-e1cb6c11c350",
   "metadata": {},
   "source": [
    "# Key points about return values:\n",
    "\n",
    "- Definition:\n",
    "    \n",
    "A return value is specified using the return statement in a function.\n",
    "\n",
    "It's what the function produces as its result.\n",
    "\n",
    "- Usage in Expressions:\n",
    "    \n",
    "Yes, a return value can absolutely be part of an expression.\n",
    "\n",
    "You can use a function call anywhere you would use a value of the type the function returns.\n",
    "\n",
    "- Flexibility:\n",
    "    \n",
    "Functions can return any type of data: numbers, strings, lists, dictionaries, objects, or even other functions.\n",
    "\n",
    "- Optional:\n",
    "    \n",
    "Not all functions need to return a value. If no return statement is used, the function returns None by default."
   ]
  },
  {
   "cell_type": "code",
   "execution_count": null,
   "id": "8735bd3e-ca25-4f0e-8748-baa160709d19",
   "metadata": {},
   "outputs": [],
   "source": [
    "def add(a, b):\n",
    "    return a + b\n",
    "\n",
    "# Using the return value in an expression\n",
    "result = add(3, 4) * 2\n",
    "print(result)  \n",
    "# Output: 14\n",
    "\n",
    "# Using the return value directly in a print statement\n",
    "print(add(5, 6))  \n",
    "# Output: 11\n",
    "\n",
    "# Using the return value in a condition\n",
    "if add(10, -5) > 0:\n",
    "    print(\"The result is positive\")\n",
    "\n",
    "# Function that returns a string\n",
    "def greet(name):\n",
    "    return f\"Hello, {name}!\"\n",
    "\n",
    "message = greet(\"Alice\") + \" Welcome!\"\n",
    "print(message)  # Output: Hello, Alice! Welcome!"
   ]
  },
  {
   "cell_type": "markdown",
   "id": "f5d20ca7-614d-4336-bff5-dcd5277fc09b",
   "metadata": {},
   "source": [
    "- In these examples, you can see how the return values are used in various expressions:\n",
    "\n",
    "As part of a mathematical calculation\n",
    "Directly in a print statement\n",
    "In a conditional statement\n",
    "Concatenated with another string\n",
    "\n",
    "- Understanding return values is crucial because it allows you to:\n",
    "\n",
    "Create modular code where functions can provide results to other parts of your program.\n",
    "Build complex expressions using the results of function calls.\n",
    "Design functions that can be flexibly used in different contexts."
   ]
  },
  {
   "cell_type": "markdown",
   "id": "fbadc7fe-5ea4-4a7e-b149-d835ebffbfa7",
   "metadata": {},
   "source": [
    "# 8. If a function does not have a return statement, what is the return value of a call to that function?\n",
    "\n",
    "- Key Point: If a function does not have a return statement, the return value of a call to that function is None.\n",
    "\n",
    "# Here's a detailed explanation:\n",
    "\n",
    "- Implicit Return:\n",
    "\n",
    "In Python, every function call produces a return value.\n",
    "\n",
    "If you don't explicitly specify a return value using a return statement, Python automatically adds an implicit return None at the end of the function.\n",
    "\n",
    "- The None Value: (This is the answer in the book)\n",
    "\n",
    "None is a special object in Python that represents the absence of a value.\n",
    "\n",
    "It's often used to indicate that a variable or function doesn't have a meaningful value to return."
   ]
  },
  {
   "cell_type": "code",
   "execution_count": null,
   "id": "e295b53d-dcb1-41b4-8043-8958d360de14",
   "metadata": {},
   "outputs": [],
   "source": [
    "# Example:\n",
    "\n",
    "def greet(name):\n",
    "    print(f\"Hello, {name}!\")\n",
    "\n",
    "result = greet(\"Alice\")\n",
    "print(result)\n",
    "\n",
    "''' Output:\n",
    "\n",
    "Hello, Alice!\n",
    "None '''"
   ]
  },
  {
   "cell_type": "markdown",
   "id": "c5bb0698-2b3f-4579-8e57-061b9b399a70",
   "metadata": {},
   "source": [
    "- Explanation:\n",
    "    \n",
    "The greet function prints a greeting but doesn't explicitly return anything.\n",
    "\n",
    "When we assign the result of greet(\"Alice\") to result, it captures the implicit return value, which is None.\n",
    "\n",
    "- Practical Implications:\n",
    "    \n",
    "Functions that perform actions (like printing) without needing to return data often don't include a return statement.\n",
    "\n",
    "It's important to be aware of this behavior to avoid unexpected None values in your code.\n",
    "\n",
    "- Checking for None:\n",
    "    \n",
    "You can use this behavior to check if a function returned a meaningful value:\n"
   ]
  },
  {
   "cell_type": "code",
   "execution_count": null,
   "id": "d8be9c40-48b3-498e-91fc-523a4ab375ec",
   "metadata": {},
   "outputs": [],
   "source": [
    "if result is not None:\n",
    "    # Do something with the result\n",
    "else:\n",
    "    # Handle the case where no value was returned"
   ]
  },
  {
   "cell_type": "markdown",
   "id": "ae23a4ec-ce91-4f01-9c03-c7ef2ff60031",
   "metadata": {},
   "source": [
    "- Best Practices:\n",
    "    \n",
    "If your function is meant to return a value, always include an explicit return statement.\n",
    "\n",
    "If your function is not meant to return anything meaningful, it's often clearer to explicitly return None, though it's not strictly necessary.\n"
   ]
  },
  {
   "cell_type": "markdown",
   "id": "663d6790-cdd0-4a22-90cd-47958c600283",
   "metadata": {},
   "source": [
    "# 9. How can you force a variable in a function to refer to the global variable?\n",
    "\n",
    "To force a variable in a function to refer to the global variable, you can use the global keyword. \n",
    "This tells Python that the variable should be treated as a global variable within the function, rather than creating a new local variable.\n"
   ]
  },
  {
   "cell_type": "code",
   "execution_count": null,
   "id": "81f7cf57-e563-4ec4-b87b-75aaeeecc80c",
   "metadata": {},
   "outputs": [],
   "source": [
    "x = 10  # This is a global variable\n",
    "\n",
    "def modify_global():\n",
    "    global x  # This line tells Python to use the global x\n",
    "    print(f\"Inside function, x is {x}\")\n",
    "    x = 20  # This modifies the global x\n",
    "    print(f\"Inside function, x is now {x}\")\n",
    "\n",
    "print(f\"Before function call, x is {x}\")\n",
    "modify_global()\n",
    "print(f\"After function call, x is {x}\")\n",
    "\n",
    "''' When this code is ran, you'll see:\n",
    "\n",
    "Before function call, x is 10\n",
    "Inside function, x is 10\n",
    "Inside function, x is now 20\n",
    "After function call, x is 20 '''\n",
    "\n",
    "''' Explanation:\n",
    "\n",
    "We start with a global variable x set to 10.\n",
    "\n",
    "Inside the modify_global() function, we use global x to indicate we want to use the global x.\n",
    "\n",
    "Without the global keyword, assigning to x inside the function would create a new local variable, leaving the global x unchanged.\n",
    "\n",
    "With global x, we can both read and modify the global variable inside the function.\n",
    "\n",
    "After the function call, the global x has been changed to 20.'''\n",
    "\n",
    "\n"
   ]
  },
  {
   "cell_type": "markdown",
   "id": "44dd062a-c6ca-4667-829b-cd25d540209a",
   "metadata": {},
   "source": [
    "# Key points:\n",
    "\n",
    "Use global when you need to modify a global variable inside a function.\n",
    "\n",
    "It's generally better to avoid modifying global variables from within functions, as it can make code harder to understand and maintain.\n",
    "\n",
    "If you only need to read (not modify) a global variable, you don't need the global keyword."
   ]
  },
  {
   "cell_type": "markdown",
   "id": "34c162ff-ee58-4990-87fb-89476df218ba",
   "metadata": {},
   "source": [
    "# 10. What is the data type of None?\n",
    "\n",
    "The data type of None is NoneType. None is a special object in Python that represents the absence of a value or a null value. It's the only instance of the NoneType class.\n"
   ]
  },
  {
   "cell_type": "code",
   "execution_count": null,
   "id": "d0c1b735-7a2a-4f31-bff4-56108c3d766d",
   "metadata": {},
   "outputs": [],
   "source": [
    "# Example\n",
    "\n",
    "# Assigning None to a variable\n",
    "x = None\n",
    "\n",
    "# Checking the type of None\n",
    "print(type(x))\n",
    "\n",
    "# Comparing None\n",
    "y = None\n",
    "print(x == y)\n",
    "print(x is y)\n",
    "\n",
    "# Checking if a variable is None\n",
    "if x is None:\n",
    "    print(\"x is None\")\n",
    "else:\n",
    "    print(\"x is not None\")\n",
    "    \n",
    "''' <class 'NoneType'>\n",
    "True\n",
    "True\n",
    "x is None '''\n",
    "\n",
    "''' breaking down what's happening:\n",
    "\n",
    "type(x) returns <class 'NoneType'>, showing that None is an instance of NoneType.\n",
    "x == y returns True because None is a singleton object, meaning there's only one None object in Python.\n",
    "x is y also returns True for the same reason. The is operator checks if two variables refer to the same object in memory, which is always true for None.\n",
    "The if x is None: statement is the recommended way to check if a variable is None. It's more explicit and slightly faster than using '=='.'''\n"
   ]
  },
  {
   "cell_type": "markdown",
   "id": "f04a2b78-480a-434f-8428-d405858f2af6",
   "metadata": {},
   "source": [
    "# Key points about None and NoneType:\n",
    "\n",
    "None is the only instance of NoneType.\n",
    "\n",
    "You can't create new NoneType objects.\n",
    "\n",
    "None is often used to represent the absence of a value or as a default value for function arguments.\n",
    "\n",
    "Functions without an explicit return statement return None by default."
   ]
  },
  {
   "cell_type": "markdown",
   "id": "35730c07-78ee-48d7-949a-4bb123bf55bd",
   "metadata": {},
   "source": [
    "# 11. What does the import areallyourpetsnamederic statement do?\n",
    "\n",
    "The import statement imports a module named, however this isn't  a real statement"
   ]
  },
  {
   "cell_type": "markdown",
   "id": "1a4910a7-322c-4fb6-ab96-1bafcd3cef0c",
   "metadata": {},
   "source": [
    "# 12. If you had a function named bacon() in a module named spam, how would you call it after importing spam?\n",
    "\n",
    "spam.bacon()"
   ]
  },
  {
   "cell_type": "markdown",
   "id": "27bcdbc6-37f6-45aa-8ad5-e4c6c000494c",
   "metadata": {},
   "source": [
    "# 13. How can you prevent a program from crashing when it gets an error?\n",
    "\n",
    "To prevent a program from crashing when it encounters an error, place the line of code in a try-clause to catch and handle potential errors.\n"
   ]
  },
  {
   "cell_type": "markdown",
   "id": "b80864be-9687-4fbe-86ba-f0fc7b58d299",
   "metadata": {},
   "source": [
    "# 14. What goes in the try clause? What goes in the except clause?\n",
    "\n",
    "\n",
    "the code that could potentially cause an error goes in the try clause. The\n",
    "code that executes if an error happens goes in the except clause."
   ]
  },
  {
   "cell_type": "markdown",
   "id": "f04a3d75-dd80-4b2c-a7cb-9ff882ecd129",
   "metadata": {},
   "source": [
    "# Practice Projects\n",
    "\n",
    "For practice, write programs to do the following tasks.\n",
    "\n",
    "The Collatz Sequence\n",
    "\n"
   ]
  },
  {
   "cell_type": "code",
   "execution_count": 32,
   "id": "309d17ae-c4f0-4d58-be55-0eaa2829dd8a",
   "metadata": {},
   "outputs": [
    {
     "name": "stdout",
     "output_type": "stream",
     "text": [
      "Welcome to the Collatz Sequence.\n"
     ]
    },
    {
     "name": "stdin",
     "output_type": "stream",
     "text": [
      "Please insert your number below:  5\n"
     ]
    },
    {
     "name": "stdout",
     "output_type": "stream",
     "text": [
      "16\n",
      "8\n",
      "4\n",
      "2\n",
      "1\n",
      "16\n"
     ]
    },
    {
     "data": {
      "text/plain": [
       "16"
      ]
     },
     "execution_count": 32,
     "metadata": {},
     "output_type": "execute_result"
    }
   ],
   "source": [
    "#TheCollatzSequence.py\n",
    "\n",
    "print('Welcome to the Collatz Sequence.')\n",
    "\n",
    "def collatz(number):\n",
    "        if number % 2 == 0:\n",
    "            print(number // 2)\n",
    "            return(number // 2)\n",
    "        else:\n",
    "            result = 3 * number + 1\n",
    "            print(result)\n",
    "            return(result)\n",
    "        \n",
    "try:\n",
    "    n = int(input(\"Please insert your number below: \"))\n",
    "    while n != 1:\n",
    "        n = collatz(n)\n",
    "except ValueError:\n",
    "    print(\"Please enter a valid integer.\")\n",
    "\n",
    "''' old solution\n",
    "\n",
    "try:\n",
    "    n = input(\"Please insert your number below: \")\n",
    "except ValueError:\n",
    "          print(\"Please enter a valid number.\")\n",
    "        \n",
    "while n != 1:\n",
    "    n = collatz(int(n))'''\n",
    "\n",
    "collatz(number)"
   ]
  },
  {
   "cell_type": "markdown",
   "id": "6eb9f82f-0fa5-48b2-8c25-3169af981688",
   "metadata": {
    "tags": []
   },
   "source": [
    "# Important notes\n",
    "\n",
    "\n",
    "- Here are the improvements and explanations:\n",
    "\n",
    "The import sys statement isn't used in this program, so it can be removed.\n",
    "\n",
    "In the collatz function, we can use else instead of elif number % 2 == 1 because if a number is not even, it must be odd.\n",
    "\n",
    "The try-except block should encompass both the input and the while loop. \n",
    "This way, it catches ValueError for both the initial input and any potential errors during the sequence calculation.\n",
    "\n",
    "Convert the input to an integer immediately using int(input(...)). This ensures n is always an integer.\n",
    "\n",
    "The while loop should be inside the try block to handle potential errors during the sequence calculation.\n",
    "\n",
    "Remove the last line collatz(number) as it's not needed and would cause an error (number is not defined).\n",
    "\n",
    "Your original implementation was very close! The main issues were with error handling and the placement of the while loop. The core logic of the Collatz sequence was correct.\n",
    "\n",
    "Remember, it's normal to encounter errors when programming. The process of debugging and improving your code is an essential part of learning. Great job on getting this far on your own!\n",
    "\n",
    "The main program logic is contained within the try-except block, which handles the input and the Collatz sequence calculation. \n"
   ]
  },
  {
   "cell_type": "code",
   "execution_count": 35,
   "id": "da9c1d08-6c2a-4df4-a97d-1dd43878a22a",
   "metadata": {},
   "outputs": [
    {
     "name": "stdout",
     "output_type": "stream",
     "text": [
      "Welcome to the Collatz Sequence.\n"
     ]
    },
    {
     "name": "stdin",
     "output_type": "stream",
     "text": [
      "Please insert your number below:  44\n"
     ]
    },
    {
     "name": "stdout",
     "output_type": "stream",
     "text": [
      "22\n",
      "11\n",
      "34\n",
      "17\n",
      "52\n",
      "26\n",
      "13\n",
      "40\n",
      "20\n",
      "10\n",
      "5\n",
      "16\n",
      "8\n",
      "4\n",
      "2\n",
      "1\n",
      "16\n"
     ]
    },
    {
     "data": {
      "text/plain": [
       "16"
      ]
     },
     "execution_count": 35,
     "metadata": {},
     "output_type": "execute_result"
    }
   ],
   "source": [
    "# TheCollatzSequence.py\n",
    "# This is the filename of the Python script.\n",
    "\n",
    "print('Welcome to the Collatz Sequence.')\n",
    "# Prints a welcome message to the user.\n",
    "\n",
    "def collatz(number):\n",
    "    # Defines a function named 'collatz' that takes one parameter 'number'.\n",
    "    \n",
    "    if number % 2 == 0:\n",
    "        # Checks if the number is even (divisible by 2 with no remainder).\n",
    "        print(number // 2)\n",
    "        # Prints the result of integer division of the number by 2.\n",
    "        return(number // 2)\n",
    "        # Returns the result of integer division of the number by 2.\n",
    "    else:\n",
    "        # If the number is odd (not divisible by 2).\n",
    "        result = 3 * number + 1\n",
    "        # Calculates 3 times the number plus 1.\n",
    "        print(result)\n",
    "        # Prints the calculated result.\n",
    "        return(result)\n",
    "        # Returns the calculated result.\n",
    "\n",
    "try:\n",
    "    # Starts a try block to handle potential errors.\n",
    "    n = int(input(\"Please insert your number below: \"))\n",
    "    # Prompts the user for input, converts it to an integer, and assigns it to 'n'.\n",
    "    \n",
    "    while n != 1:\n",
    "        # Starts a loop that continues until 'n' becomes 1.\n",
    "        n = collatz(n)\n",
    "        # Calls the collatz function with 'n' and updates 'n' with the returned value.\n",
    "\n",
    "except ValueError:\n",
    "    # Catches the ValueError that occurs if the input can't be converted to an integer.\n",
    "    print(\"Please enter a valid integer.\")\n",
    "    # Prints an error message asking for a valid integer input.\n",
    "\n",
    "# The following lines are commented out, an old version of the code:\n",
    "'''\n",
    "try:\n",
    "    n = input(\"Please insert your number below: \")\n",
    "except ValueError:\n",
    "          print(\"Please enter a valid number.\")\n",
    "        \n",
    "while n != 1:\n",
    "    n = collatz(int(n))\n",
    "'''\n",
    "\n",
    "# This line is incorrectly placed and would cause an error:\n",
    "collatz(number)\n",
    "# It attempts to call the collatz function with 'number', which is not defined."
   ]
  },
  {
   "cell_type": "markdown",
   "id": "a609b4d1-13d9-4c2d-a169-7a2db6ec7555",
   "metadata": {},
   "source": [
    "# The End"
   ]
  },
  {
   "cell_type": "code",
   "execution_count": null,
   "id": "a1f2c00f-c6df-4b7a-96d4-31fc564e21af",
   "metadata": {},
   "outputs": [],
   "source": []
  }
 ],
 "metadata": {
  "kernelspec": {
   "display_name": "Python 3 (ipykernel)",
   "language": "python",
   "name": "python3"
  },
  "language_info": {
   "codemirror_mode": {
    "name": "ipython",
    "version": 3
   },
   "file_extension": ".py",
   "mimetype": "text/x-python",
   "name": "python",
   "nbconvert_exporter": "python",
   "pygments_lexer": "ipython3",
   "version": "3.9.12"
  }
 },
 "nbformat": 4,
 "nbformat_minor": 5
}
