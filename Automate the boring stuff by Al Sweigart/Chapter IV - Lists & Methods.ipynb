{
 "cells": [
  {
   "cell_type": "markdown",
   "id": "0d9bb1dc-8dd2-4b6f-8c3e-d705d77213f4",
   "metadata": {
    "tags": []
   },
   "source": [
    "# LISTS"
   ]
  },
  {
   "cell_type": "markdown",
   "id": "8c82bcd7-4ab2-4fe8-bf55-21f418a6c276",
   "metadata": {},
   "source": [
    "# Lists, Indexes, Slices, and the list() Function"
   ]
  },
  {
   "cell_type": "markdown",
   "id": "47d7e5a5-c64a-439c-8bdd-286785ed33a2",
   "metadata": {},
   "source": [
    "- A list is a value that contains multiple values in an ordered sequence.\n",
    "\n",
    "- Values inside the list are also called items. Items are separated with commas(or comma-delimited).\n",
    "\n",
    "- An example list value looks like this in python: \n",
    "\n",
    "    ['cat', 'bat', 'rat', 'elephant']"
   ]
  },
  {
   "cell_type": "code",
   "execution_count": 26,
   "id": "4f9f9952-9c08-4b5d-9314-2490cbc1cb9e",
   "metadata": {},
   "outputs": [
    {
     "data": {
      "text/plain": [
       "['cat', 'bat', 'rat', 'elephant']"
      ]
     },
     "execution_count": 26,
     "metadata": {},
     "output_type": "execute_result"
    }
   ],
   "source": [
    "# this is a list when assigned to a value\n",
    "\n",
    "my_list = ['cat', 'bat', 'rat', 'elephant']\n",
    "my_list"
   ]
  },
  {
   "cell_type": "code",
   "execution_count": 27,
   "id": "54bbdf9b-153d-4eaf-a78f-0330e3caa91e",
   "metadata": {},
   "outputs": [
    {
     "data": {
      "text/plain": [
       "'rat'"
      ]
     },
     "execution_count": 27,
     "metadata": {},
     "output_type": "execute_result"
    }
   ],
   "source": [
    "# lists can also be sliced the following way\n",
    "\n",
    "my_list[2]"
   ]
  },
  {
   "cell_type": "code",
   "execution_count": 28,
   "id": "dbf56ee2-6427-4c95-9ff5-3ab95093089a",
   "metadata": {},
   "outputs": [
    {
     "data": {
      "text/plain": [
       "'cat'"
      ]
     },
     "execution_count": 28,
     "metadata": {},
     "output_type": "execute_result"
    }
   ],
   "source": [
    "my_list[0]\n",
    "\n",
    "# etc. etc. \n"
   ]
  },
  {
   "cell_type": "markdown",
   "id": "da0be361-fbc2-4d8a-99b0-71783925e184",
   "metadata": {},
   "source": [
    "# Getting Individual Values in a List with Indexes [Lists within Lists]\n",
    "\n",
    "- this can be done in the following way\n",
    "\n",
    "- The integer inside the square brackets that follows the list is called an index. The first value in the list is at index 0, the second value is at index 1, the third value is at index 2, and so on. \n",
    "\n",
    "-This is called indexing\n",
    "\n"
   ]
  },
  {
   "cell_type": "code",
   "execution_count": 29,
   "id": "2e261887-ce11-402c-9041-85e434b5ff74",
   "metadata": {},
   "outputs": [],
   "source": [
    "list = [['cat', 'bat', 'rat', 'elephant'], [20, 40, 60, 80]]\n"
   ]
  },
  {
   "cell_type": "code",
   "execution_count": 30,
   "id": "f40afdef-c974-47cb-9491-2ad84c4202e6",
   "metadata": {},
   "outputs": [
    {
     "data": {
      "text/plain": [
       "(['cat', 'bat', 'rat', 'elephant'], [3])"
      ]
     },
     "execution_count": 30,
     "metadata": {},
     "output_type": "execute_result"
    }
   ],
   "source": [
    "list [0],[3]"
   ]
  },
  {
   "cell_type": "code",
   "execution_count": 37,
   "id": "ef8783bc-2647-43f6-b35c-81dae636723b",
   "metadata": {},
   "outputs": [
    {
     "data": {
      "text/plain": [
       "(['cat', 'bat', 'rat', 'elephant'], [-3])"
      ]
     },
     "execution_count": 37,
     "metadata": {},
     "output_type": "execute_result"
    }
   ],
   "source": [
    "list [-2],[-3]"
   ]
  },
  {
   "cell_type": "code",
   "execution_count": 35,
   "id": "b1177f68-ac6a-47f5-bbce-d6cab05dd222",
   "metadata": {},
   "outputs": [],
   "source": [
    "new_list = [20, 40, 60, 80]"
   ]
  },
  {
   "cell_type": "code",
   "execution_count": 38,
   "id": "1fa876d0-e740-4be7-8498-61d558db9972",
   "metadata": {},
   "outputs": [
    {
     "data": {
      "text/plain": [
       "60"
      ]
     },
     "execution_count": 38,
     "metadata": {},
     "output_type": "execute_result"
    }
   ],
   "source": [
    "new_list [-2]\n",
    "\n",
    "# etc, etc this is the backwards and values count as negatives starting -1 as first, whereas positives is starting from 0"
   ]
  },
  {
   "cell_type": "markdown",
   "id": "8648683f-8242-4d21-b2dc-622472f6df80",
   "metadata": {},
   "source": [
    "# Slicing\n",
    "\n",
    "- As an index can get a single value from a list, a slice can get several values from a list, in the form of a new list.\n",
    "\n",
    "- A slice is typed between square brackets, like an index, but it has two integers separated by a colon."
   ]
  },
  {
   "cell_type": "code",
   "execution_count": 43,
   "id": "c7c24558-a433-47e4-9d0f-cf7759e71a69",
   "metadata": {},
   "outputs": [],
   "source": [
    "imp_list = ['cat', 'bat', 'rat', 'elephant', 'lion', 'tiger', 'zebra', 'wolf', 'dog', 'bird']\n"
   ]
  },
  {
   "cell_type": "code",
   "execution_count": 48,
   "id": "eda7d23a-da50-46dc-8ce7-f23d4d159ebf",
   "metadata": {},
   "outputs": [
    {
     "data": {
      "text/plain": [
       "['lion', 'tiger', 'zebra', 'wolf', 'dog']"
      ]
     },
     "execution_count": 48,
     "metadata": {},
     "output_type": "execute_result"
    }
   ],
   "source": [
    "# the difference between indexes and slices.\n",
    "\n",
    "imp_list[3]\n",
    "imp_list[4:9]"
   ]
  },
  {
   "cell_type": "code",
   "execution_count": 47,
   "id": "3cfebe10-7417-410d-9cab-a123efc0a751",
   "metadata": {},
   "outputs": [
    {
     "data": {
      "text/plain": [
       "10"
      ]
     },
     "execution_count": 47,
     "metadata": {},
     "output_type": "execute_result"
    }
   ],
   "source": [
    "len(imp_list)"
   ]
  },
  {
   "cell_type": "markdown",
   "id": "e9be8172-7775-4250-bc31-e38dd3ceadeb",
   "metadata": {},
   "source": [
    "# Changing Values in a List with Indexes\n",
    "\n",
    "- Normally a variable name goes on the left side of an assignment statement, like animal = 42.\n",
    "\n",
    "- However, you can also use an index of a list to change the value at that index. list1 [5] = 'shark'"
   ]
  },
  {
   "cell_type": "code",
   "execution_count": 50,
   "id": "a1527cb8-09ec-4519-8139-0b31a72f1486",
   "metadata": {},
   "outputs": [],
   "source": [
    "list1 = ['cat', 'bat', 'rat', 'elephant', 'lion', 'tiger', 'zebra', 'wolf', 'dog', 'bird', 'snake', 'monkey', 'turtle']\n"
   ]
  },
  {
   "cell_type": "code",
   "execution_count": 51,
   "id": "49914ad4-7934-41b1-b5d4-5a0928cae266",
   "metadata": {},
   "outputs": [],
   "source": [
    "list1 [5] = 'shark'"
   ]
  },
  {
   "cell_type": "code",
   "execution_count": 53,
   "id": "c0e0b9c6-b1f3-4058-b0e3-a3304325a84d",
   "metadata": {},
   "outputs": [
    {
     "data": {
      "text/plain": [
       "['cat',\n",
       " 'bat',\n",
       " 'rat',\n",
       " 'elephant',\n",
       " 'lion',\n",
       " 'shark',\n",
       " 'zebra',\n",
       " 'wolf',\n",
       " 'dog',\n",
       " 'bird',\n",
       " 'snake',\n",
       " 'monkey',\n",
       " 'turtle']"
      ]
     },
     "execution_count": 53,
     "metadata": {},
     "output_type": "execute_result"
    }
   ],
   "source": [
    "list1"
   ]
  },
  {
   "cell_type": "markdown",
   "id": "667ccaeb-3e43-409f-adb4-af6c2f3c9043",
   "metadata": {},
   "source": [
    "# List Concatenation and List Replication\n",
    "\n",
    "- The + operator can combine two lists to create a new list value in the same way it combines two strings into a new string value. \n",
    "\n",
    "- The * operator can also be used with a list and an integer value to replicate the list.\n",
    "\n",
    "- Many of the thngs that can be done with strings can be done with lists.\n",
    "\n",
    "- Things like using functions: int(),str(), list()\n",
    "\n",
    "- in and not in operators"
   ]
  },
  {
   "cell_type": "code",
   "execution_count": 54,
   "id": "fe007af8-a86a-4499-b825-446475311a06",
   "metadata": {},
   "outputs": [
    {
     "data": {
      "text/plain": [
       "['cat', 'bat', 'rat', 'elephant', 20, 40, 60, 80]"
      ]
     },
     "execution_count": 54,
     "metadata": {},
     "output_type": "execute_result"
    }
   ],
   "source": [
    "['cat', 'bat', 'rat', 'elephant'] + [20, 40, 60, 80]"
   ]
  },
  {
   "cell_type": "code",
   "execution_count": 58,
   "id": "d1a894ab-b974-46c8-8b79-a856930699f8",
   "metadata": {},
   "outputs": [
    {
     "ename": "TypeError",
     "evalue": "'list' object is not callable",
     "output_type": "error",
     "traceback": [
      "\u001b[0;31m---------------------------------------------------------------------------\u001b[0m",
      "\u001b[0;31mTypeError\u001b[0m                                 Traceback (most recent call last)",
      "Input \u001b[0;32mIn [58]\u001b[0m, in \u001b[0;36m<cell line: 1>\u001b[0;34m()\u001b[0m\n\u001b[0;32m----> 1\u001b[0m \u001b[38;5;28;43mlist\u001b[39;49m\u001b[43m(\u001b[49m\u001b[38;5;124;43m'\u001b[39;49m\u001b[38;5;124;43mshark\u001b[39;49m\u001b[38;5;124;43m'\u001b[39;49m\u001b[43m)\u001b[49m\n",
      "\u001b[0;31mTypeError\u001b[0m: 'list' object is not callable"
     ]
    }
   ],
   "source": [
    "list('shark')"
   ]
  },
  {
   "cell_type": "code",
   "execution_count": 59,
   "id": "2843638b-ba93-4227-ba43-2f85a3527dfe",
   "metadata": {},
   "outputs": [
    {
     "data": {
      "text/plain": [
       "'[20, 40, 60, 80]'"
      ]
     },
     "execution_count": 59,
     "metadata": {},
     "output_type": "execute_result"
    }
   ],
   "source": [
    "list0 = [20, 40, 60, 80]\n",
    "\n",
    "str(list0)"
   ]
  },
  {
   "cell_type": "code",
   "execution_count": 60,
   "id": "1611570c-3e13-49c5-869b-fd9892c079d1",
   "metadata": {},
   "outputs": [
    {
     "ename": "NameError",
     "evalue": "name 'bat' is not defined",
     "output_type": "error",
     "traceback": [
      "\u001b[0;31m---------------------------------------------------------------------------\u001b[0m",
      "\u001b[0;31mNameError\u001b[0m                                 Traceback (most recent call last)",
      "Input \u001b[0;32mIn [60]\u001b[0m, in \u001b[0;36m<cell line: 1>\u001b[0;34m()\u001b[0m\n\u001b[0;32m----> 1\u001b[0m \u001b[43mbat\u001b[49m \u001b[38;5;129;01min\u001b[39;00m [\u001b[38;5;124m'\u001b[39m\u001b[38;5;124mcat\u001b[39m\u001b[38;5;124m'\u001b[39m, \u001b[38;5;124m'\u001b[39m\u001b[38;5;124mbat\u001b[39m\u001b[38;5;124m'\u001b[39m, \u001b[38;5;124m'\u001b[39m\u001b[38;5;124mrat\u001b[39m\u001b[38;5;124m'\u001b[39m, \u001b[38;5;124m'\u001b[39m\u001b[38;5;124melephant\u001b[39m\u001b[38;5;124m'\u001b[39m]\n",
      "\u001b[0;31mNameError\u001b[0m: name 'bat' is not defined"
     ]
    }
   ],
   "source": [
    "bat in ['cat', 'bat', 'rat', 'elephant']"
   ]
  },
  {
   "cell_type": "markdown",
   "id": "f2e0d736-55ea-45cc-bbdc-931ea9060527",
   "metadata": {},
   "source": [
    "# Removing Values from Lists with del Statements\n",
    "\n",
    "- The del statement will delete values at an index in a list. All of the values in the list after the deleted value will be moved up one index.\n",
    "\n",
    "- del Statement = \"Unassignment\" statement\n"
   ]
  },
  {
   "cell_type": "code",
   "execution_count": 55,
   "id": "ad03e2f0-2bfc-4cf6-a339-e27fc61ab31b",
   "metadata": {},
   "outputs": [
    {
     "data": {
      "text/plain": [
       "['cat',\n",
       " 'bat',\n",
       " 'rat',\n",
       " 'elephant',\n",
       " 'lion',\n",
       " 'zebra',\n",
       " 'wolf',\n",
       " 'dog',\n",
       " 'bird',\n",
       " 'snake',\n",
       " 'monkey',\n",
       " 'turtle']"
      ]
     },
     "execution_count": 55,
     "metadata": {},
     "output_type": "execute_result"
    }
   ],
   "source": [
    "list1 = ['cat', 'bat', 'rat', 'elephant', 'lion', 'tiger', 'zebra', 'wolf', 'dog', 'bird', 'snake', 'monkey', 'turtle']\n",
    "\n",
    "del list1 [5]\n",
    "\n",
    "list1"
   ]
  },
  {
   "cell_type": "markdown",
   "id": "17c3ebb6-c45e-4c26-bfa6-fe36b371812d",
   "metadata": {},
   "source": [
    "# Working with Lists\n",
    "\n",
    "When you first begin writing programs, it’s tempting to create many individual variables to store a group of similar values. \n",
    "\n",
    "For example, if I wanted to store the names of my cats, I might be tempted to write code like this:\n",
    "\n",
    "catName1 = 'Zophie'\n",
    "\n",
    "catName2 = 'Pooka'\n",
    "\n",
    "catName3 = 'Simon'\n",
    "\n",
    "catName4 = 'Lady Macbeth'\n",
    "\n",
    "catName5 = 'Fat-tail'\n",
    "\n",
    "catName6 = 'Miss Cleo'\n"
   ]
  },
  {
   "cell_type": "markdown",
   "id": "6406f662-135a-4ec0-933d-b2594b7521b6",
   "metadata": {},
   "source": [
    "# allMyCats.py\n",
    "\n",
    "Instead of using multiple, repetitive variables, you can use a single variable that contains a list value. \n",
    "\n",
    "For example, here’s a new and improved version of the allMyCats1.py program. \n",
    "\n",
    "This new version uses a single list and can store any number of cats that the user types in."
   ]
  },
  {
   "cell_type": "code",
   "execution_count": 61,
   "id": "f676ed6f-ef8d-4d96-8dc6-e22d3854febe",
   "metadata": {},
   "outputs": [
    {
     "name": "stdout",
     "output_type": "stream",
     "text": [
      "Enter the name of cat 1 (Or enter nothing to stop.):\n"
     ]
    },
    {
     "name": "stdin",
     "output_type": "stream",
     "text": [
      " Ms Cleo\n"
     ]
    },
    {
     "name": "stdout",
     "output_type": "stream",
     "text": [
      "Enter the name of cat 2 (Or enter nothing to stop.):\n"
     ]
    },
    {
     "name": "stdin",
     "output_type": "stream",
     "text": [
      " Zoe\n"
     ]
    },
    {
     "name": "stdout",
     "output_type": "stream",
     "text": [
      "Enter the name of cat 3 (Or enter nothing to stop.):\n"
     ]
    },
    {
     "name": "stdin",
     "output_type": "stream",
     "text": [
      " Mango\n"
     ]
    },
    {
     "name": "stdout",
     "output_type": "stream",
     "text": [
      "Enter the name of cat 4 (Or enter nothing to stop.):\n"
     ]
    },
    {
     "name": "stdin",
     "output_type": "stream",
     "text": [
      " Tango\n"
     ]
    },
    {
     "name": "stdout",
     "output_type": "stream",
     "text": [
      "Enter the name of cat 5 (Or enter nothing to stop.):\n"
     ]
    },
    {
     "name": "stdin",
     "output_type": "stream",
     "text": [
      " Macbeth\n"
     ]
    },
    {
     "name": "stdout",
     "output_type": "stream",
     "text": [
      "Enter the name of cat 6 (Or enter nothing to stop.):\n"
     ]
    },
    {
     "name": "stdin",
     "output_type": "stream",
     "text": [
      " \n"
     ]
    },
    {
     "name": "stdout",
     "output_type": "stream",
     "text": [
      "The cat names are:\n",
      "  Ms Cleo\n",
      "  Zoe\n",
      "  Mango\n",
      "  Tango\n",
      "  Macbeth\n"
     ]
    }
   ],
   "source": [
    "catNames = [] # empty list\n",
    "while True:\n",
    "    print('Enter the name of cat ' + str(len(catNames) + 1) +\n",
    "      ' (Or enter nothing to stop.):')\n",
    "    name = input()\n",
    "    if name == '':\n",
    "        break\n",
    "    catNames = catNames + [name] # list concatenation\n",
    "print('The cat names are:')\n",
    "for name in catNames:\n",
    "    print('  ' + name)"
   ]
  },
  {
   "cell_type": "markdown",
   "id": "80f8fc7e-d7ed-4d5d-8c94-465c104ccaa0",
   "metadata": {},
   "source": [
    "# Documented version"
   ]
  },
  {
   "cell_type": "code",
   "execution_count": 62,
   "id": "e76d502e-b85f-4f68-9f26-dc4ecd3b1360",
   "metadata": {},
   "outputs": [
    {
     "name": "stdout",
     "output_type": "stream",
     "text": [
      "Enter the name of cat 1 (Or enter nothing to stop.):\n"
     ]
    },
    {
     "name": "stdin",
     "output_type": "stream",
     "text": [
      " Cleo\n"
     ]
    },
    {
     "name": "stdout",
     "output_type": "stream",
     "text": [
      "Enter the name of cat 2 (Or enter nothing to stop.):\n"
     ]
    },
    {
     "name": "stdin",
     "output_type": "stream",
     "text": [
      " Deaweoo\n"
     ]
    },
    {
     "name": "stdout",
     "output_type": "stream",
     "text": [
      "Enter the name of cat 3 (Or enter nothing to stop.):\n"
     ]
    },
    {
     "name": "stdin",
     "output_type": "stream",
     "text": [
      " Romeo\n"
     ]
    },
    {
     "name": "stdout",
     "output_type": "stream",
     "text": [
      "Enter the name of cat 4 (Or enter nothing to stop.):\n"
     ]
    },
    {
     "name": "stdin",
     "output_type": "stream",
     "text": [
      " Geo\n"
     ]
    },
    {
     "name": "stdout",
     "output_type": "stream",
     "text": [
      "Enter the name of cat 5 (Or enter nothing to stop.):\n"
     ]
    },
    {
     "name": "stdin",
     "output_type": "stream",
     "text": [
      " Modeo\n"
     ]
    },
    {
     "name": "stdout",
     "output_type": "stream",
     "text": [
      "Enter the name of cat 6 (Or enter nothing to stop.):\n"
     ]
    },
    {
     "name": "stdin",
     "output_type": "stream",
     "text": [
      " \n"
     ]
    },
    {
     "name": "stdout",
     "output_type": "stream",
     "text": [
      "The cat names are:\n",
      "  Cleo\n",
      "  Deaweoo\n",
      "  Romeo\n",
      "  Geo\n",
      "  Modeo\n"
     ]
    }
   ],
   "source": [
    "catNames = []\n",
    "# Initialize an empty list to store cat names\n",
    "\n",
    "while True:\n",
    "    # Start an infinite loop that will continue until explicitly broken\n",
    "\n",
    "    print('Enter the name of cat ' + str(len(catNames) + 1) +\n",
    "      ' (Or enter nothing to stop.):')\n",
    "    # Print a prompt asking for the next cat name\n",
    "    # The number in the prompt is based on the current length of the list plus 1\n",
    "\n",
    "    name = input()\n",
    "    # Get user input for the cat name and store it in the 'name' variable\n",
    "\n",
    "    if name == '':\n",
    "        # Check if the user entered an empty string (just pressed Enter)\n",
    "        break\n",
    "        # If so, exit the loop\n",
    "\n",
    "    catNames = catNames + [name]  # list concatenation\n",
    "    # Add the new name to the catNames list using list concatenation\n",
    "    # This creates a new list with the new name appended and reassigns it to catNames\n",
    "\n",
    "print('The cat names are:')\n",
    "# Print a header for the list of cat names\n",
    "\n",
    "for name in catNames:\n",
    "    # Start a loop that iterates through each name in the catNames list\n",
    "    print('  ' + name)\n",
    "    # Print each cat name with two spaces in front for indentation"
   ]
  },
  {
   "cell_type": "markdown",
   "id": "fc0edf95-4b86-474e-ad1e-69b364bef07a",
   "metadata": {},
   "source": [
    "# This program does the following:\n",
    "\n",
    "- It creates an empty list to store cat names.\n",
    "\n",
    "- It repeatedly asks the user to input cat names until they enter nothing (just press Enter).\n",
    "\n",
    "- It adds each entered name to the list.\n",
    "\n",
    "- After the user finishes entering names, it prints out all the entered cat names."
   ]
  },
  {
   "cell_type": "markdown",
   "id": "2c1ba4c8-f2f6-4dc9-8802-c94441e17982",
   "metadata": {},
   "source": [
    "# To recap:\n",
    "\n",
    "- A list is a value that contains multiple values.\n",
    "- The values in a list are also called items.\n",
    "- You can access items in a list with it's integer index.\n",
    "- The indexes start at 0, not 1.\n",
    "- You can also use negative indexes. -1 refers to the last item, -2 refers to the second to last item, and so on.\n",
    "- You can get multiple items from the list using a slice.\n",
    "- The slice has two indexes. The new list's items start at the first index and go up to, but doesn't include, the second index.\n",
    "- The len) function, concatenation, and replication work the same way with lists that they do with strings.\n",
    "- You can convert a value into a list by passing it to the list)"
   ]
  },
  {
   "cell_type": "markdown",
   "id": "d1812ebe-d953-480b-9805-e840fa96b63b",
   "metadata": {},
   "source": [
    "# Using for Loops with Lists\n",
    "\n"
   ]
  },
  {
   "cell_type": "markdown",
   "id": "abf4f9f8-91ad-4511-b1af-ac2c6476c0b9",
   "metadata": {
    "tags": []
   },
   "source": [
    "# for Loops with Lists\n",
    "\n",
    "- Multiple Assignment\n",
    "- Augmented Assignment Operators\n",
    "\n",
    "\n",
    "\n",
    "- For loop recap:\n",
    "\n",
    "Technically, a for loop repeats the code block once for each value in a list or list-like value.\n",
    "\n",
    "for a in range(4):\n",
    "    print(a)\n",
    "    \n",
    ">   0\n",
    "    1\n",
    "    2\n",
    "    3\n",
    "\n",
    "- A common Python technique is to use range(len(someList)) with a for loop to iterate over the indexes of a list. "
   ]
  },
  {
   "cell_type": "code",
   "execution_count": 79,
   "id": "015ee7ad-5914-454f-860a-6f22b49ad36c",
   "metadata": {},
   "outputs": [
    {
     "name": "stdout",
     "output_type": "stream",
     "text": [
      "Index 0 in supplies is: pens\n",
      "Index 1 in supplies is: staplers\n",
      "Index 2 in supplies is: flame-throwers\n",
      "Index 3 in supplies is: binders\n"
     ]
    },
    {
     "data": {
      "text/plain": [
       "' This line prints a string for each iteration of the loop.\\nstr(i) converts the current index to a string.\\nsupplies[i] accesses the item in the supplies list at index i.\\nThe whole line concatenates these parts into a single string to be printed.'"
      ]
     },
     "execution_count": 79,
     "metadata": {},
     "output_type": "execute_result"
    }
   ],
   "source": [
    "supplies = ['pens', 'staplers', 'flame-throwers', 'binders']\n",
    "# the list called supplies containing four strings.\n",
    "\n",
    "''' the for loop:\n",
    "\n",
    "This starts a for loop that will iterate over the indices of the supplies list.\n",
    "len(supplies) returns the length of the list (4 in this case).\n",
    "range(len(supplies)) creates a sequence of numbers from 0 to 3.\n",
    "i will take on each of these values in turn.'''\n",
    "\n",
    "for i in range(len(supplies)):\n",
    "    print('Index ' + str(i) + ' in supplies is: ' + supplies[i])\n",
    "    \n",
    "''' This line prints a string for each iteration of the loop.\n",
    "str(i) converts the current index to a string.\n",
    "supplies[i] accesses the item in the supplies list at index i.\n",
    "The whole line concatenates these parts into a single string to be printed.'''\n"
   ]
  },
  {
   "cell_type": "markdown",
   "id": "4afc6f62-cc68-4e89-a4d8-7bc0016ea458",
   "metadata": {},
   "source": [
    "- What this code does in essence:\n",
    "    \n",
    "It iterates through the supplies list using the indices.\n",
    "\n",
    "For each item, it prints out the index number and the corresponding item from the list.\n",
    "\n",
    "- Range Objects and List-Like Values"
   ]
  },
  {
   "cell_type": "code",
   "execution_count": 80,
   "id": "35fcc0fb-8f4d-40ac-8912-fffe1ccffc64",
   "metadata": {},
   "outputs": [
    {
     "data": {
      "text/plain": [
       "range(0, 4)"
      ]
     },
     "execution_count": 80,
     "metadata": {},
     "output_type": "execute_result"
    }
   ],
   "source": [
    "range(4)\n"
   ]
  },
  {
   "cell_type": "code",
   "execution_count": 81,
   "id": "8ed62982-44e3-402e-9351-e1970603dc18",
   "metadata": {},
   "outputs": [
    {
     "name": "stdout",
     "output_type": "stream",
     "text": [
      "0\n",
      "1\n",
      "2\n",
      "3\n"
     ]
    }
   ],
   "source": [
    "for n in [0, 1, 2, 3]:\n",
    "    print(n)\n",
    "    \n",
    "# python considers it to be similar to lists like \n",
    "# list [0, 1, 2, 3]"
   ]
  },
  {
   "cell_type": "markdown",
   "id": "1500177f-4be4-4b2b-bdd3-67b6b5cb40c5",
   "metadata": {},
   "source": [
    "# Can also assign a list function\n",
    "\n",
    "list(range(4))\n",
    "\n",
    "> [0, 1, 2, 3]"
   ]
  },
  {
   "cell_type": "markdown",
   "id": "ad7b877b-a3cc-4ba0-84cb-960aeac8bdcc",
   "metadata": {},
   "source": [
    "# The in and not in Operators\n",
    "\n",
    "You can determine whether a value is or isn’t in a list with the in and not in operators. Like other operators, in and not in are used in expressions and connect two values: a value to look for in a list and the list where it may be found. These expressions will evaluate to a Boolean value."
   ]
  },
  {
   "cell_type": "code",
   "execution_count": 82,
   "id": "d59ee83d-a262-43a0-be33-aa53b804a8b7",
   "metadata": {},
   "outputs": [
    {
     "data": {
      "text/plain": [
       "True"
      ]
     },
     "execution_count": 82,
     "metadata": {},
     "output_type": "execute_result"
    }
   ],
   "source": [
    "'howdy' in ['hello', 'hi', 'howdy', 'heyas']"
   ]
  },
  {
   "cell_type": "code",
   "execution_count": 83,
   "id": "eedb0577-7b0a-4631-86e6-6a5be1aa2931",
   "metadata": {},
   "outputs": [
    {
     "data": {
      "text/plain": [
       "False"
      ]
     },
     "execution_count": 83,
     "metadata": {},
     "output_type": "execute_result"
    }
   ],
   "source": [
    "slist = ['hello', 'hi', 'howdy', 'heyas']\n",
    "\n",
    "'howdy' not in slist"
   ]
  },
  {
   "cell_type": "markdown",
   "id": "3b1151f8-93af-4219-a505-abb2fcecab53",
   "metadata": {},
   "source": [
    "# The following program lets the user type in a pet name and then checks to see whether the name is in a list of pets.\n"
   ]
  },
  {
   "cell_type": "code",
   "execution_count": 84,
   "id": "620d0b9f-0b29-4196-8d46-1ff1684590a2",
   "metadata": {},
   "outputs": [
    {
     "name": "stdout",
     "output_type": "stream",
     "text": [
      "Enter a pet name:\n"
     ]
    },
    {
     "name": "stdin",
     "output_type": "stream",
     "text": [
      " Pikachu\n"
     ]
    },
    {
     "name": "stdout",
     "output_type": "stream",
     "text": [
      "I do not have a pet named Pikachu\n"
     ]
    }
   ],
   "source": [
    "# myPets.py\n",
    "\n",
    "myPets = ['Zophie', 'Pooka', 'Fat-tail']\n",
    "print('Enter a pet name:')\n",
    "name = input()\n",
    "if name not in myPets:\n",
    "    print('I do not have a pet named ' + name)\n",
    "else:\n",
    "    print(name + ' is my pet.')"
   ]
  },
  {
   "cell_type": "markdown",
   "id": "6df7fa49-dfc0-48f1-928a-43ada4c099c1",
   "metadata": {},
   "source": [
    "# The Multiple Assignment Trick"
   ]
  },
  {
   "cell_type": "markdown",
   "id": "71b8846f-fdd8-4a2d-957c-1cf60f4dd13f",
   "metadata": {},
   "source": [
    "- The multiple assignment trick is a shortcut that lets you assign multiple variables with the values in a list in one line of code. "
   ]
  },
  {
   "cell_type": "code",
   "execution_count": null,
   "id": "c0e1a95d-3c47-4da3-a16e-fa2ba024d193",
   "metadata": {},
   "outputs": [],
   "source": [
    "cat = ['fat', 'orange', 'loud']\n",
    "size = cat[0]\n",
    "color = cat[1]\n",
    "disposition = cat[2]\n",
    "\n",
    "# However if typed \n",
    "\n",
    "cat = ['fat', 'orange', 'loud']\n",
    "size, color, disposition = cat\n",
    "\n",
    "# This would result in the value error"
   ]
  },
  {
   "cell_type": "code",
   "execution_count": 86,
   "id": "f7a3350d-c7ba-4a04-9dda-cb4c7f355d47",
   "metadata": {},
   "outputs": [
    {
     "name": "stdout",
     "output_type": "stream",
     "text": [
      "Bob\n",
      "Alice\n"
     ]
    }
   ],
   "source": [
    "# Therefore, the multiple assignment trick can also be used to swap the values in two variables:\n",
    "\n",
    "a, b = 'Alice', 'Bob'\n",
    "a, b = b, a\n",
    "print(a)\n",
    "print(b)"
   ]
  },
  {
   "cell_type": "markdown",
   "id": "92f05351-8a0a-4c46-a739-a1fdf60d2dfa",
   "metadata": {},
   "source": [
    "# Augmented Assignment Operators\n",
    "\n",
    "- When assigning a value to a variable, you will frequently use the variable itself\n",
    "\n"
   ]
  },
  {
   "cell_type": "code",
   "execution_count": 87,
   "id": "d21af70f-b6db-45da-97c2-75e4906e0f27",
   "metadata": {},
   "outputs": [
    {
     "data": {
      "text/plain": [
       "43"
      ]
     },
     "execution_count": 87,
     "metadata": {},
     "output_type": "execute_result"
    }
   ],
   "source": [
    "# after assigning 42 to the variable spam, you would increase the value in spam by 1 with the following cod\n",
    "\n",
    "spam = 42\n",
    "spam = spam + 1\n",
    "spam"
   ]
  },
  {
   "cell_type": "code",
   "execution_count": 88,
   "id": "29545b1c-7201-424d-b371-148a55640581",
   "metadata": {},
   "outputs": [
    {
     "data": {
      "text/plain": [
       "43"
      ]
     },
     "execution_count": 88,
     "metadata": {},
     "output_type": "execute_result"
    }
   ],
   "source": [
    "# As a shortcut, you can use the augmented assignment operator += to do the same thing:\n",
    "\n",
    "spam = 42\n",
    "spam += 1\n",
    "spam"
   ]
  },
  {
   "cell_type": "markdown",
   "id": "b0d18dc9-0bf4-4734-90e8-f1efc24dd020",
   "metadata": {},
   "source": [
    "# To recap:\n",
    "\n",
    "- For loops technically iterate over the values in a list.\n",
    "\n",
    "- The range) function returns a list-like value, which can be passed to the list function if you need an actual list value.\n",
    "\n",
    "- Variables can swap their values using multiple assignment. - Augmented assingment operators like += are used as shortcuts."
   ]
  },
  {
   "cell_type": "markdown",
   "id": "01a54363-7cc5-4137-875c-fe6b09f365e5",
   "metadata": {},
   "source": [
    "# METHODS "
   ]
  },
  {
   "cell_type": "markdown",
   "id": "d2ca9e89-9544-4c2c-94f7-94cb85374619",
   "metadata": {},
   "source": [
    "# Methods, and the List Methods:\n",
    "index(), append(), insert(), remove(), sort()"
   ]
  },
  {
   "cell_type": "markdown",
   "id": "bc42626c-0c8d-498f-9a58-79c3e19af2ee",
   "metadata": {},
   "source": [
    "# Full lists of Python's built-in list methods along with brief explanations of what they do:\n",
    "\n",
    "- The short version. \n",
    "\n",
    "append(x): Adds an element x to the end of the list.\n",
    "\n",
    "extend(iterable): Adds all elements from an iterable (e.g., another list) to the end of the list.\n",
    "\n",
    "insert(i, x): Inserts element x at position i in the list.\n",
    "\n",
    "remove(x): Removes the first occurrence of element x from the list.\n",
    "\n",
    "pop([i]): Removes and returns the element at position i. If i is not specified, removes and returns the last element.\n",
    "\n",
    "clear(): Removes all elements from the list.\n",
    "\n",
    "index(x[, start[, end]]): Returns the index of the first occurrence of x in the list (between start and end).\n",
    "\n",
    "count(x): Returns the number of times x appears in the list.\n",
    "\n",
    "sort(key=None, reverse=False): Sorts the list in place. key specifies a function to be called on each list element prior to making comparisons. reverse=True sorts in descending order.\n",
    "\n",
    "reverse(): Reverses the elements of the list in place.\n",
    "\n",
    "copy(): Returns a shallow copy of the list.\n",
    "\n",
    "- The long versio\n",
    "\n",
    "append() - Adds an element to the end of the list\n",
    "\n",
    "clear() - Removes all elements from the list\n",
    "\n",
    "copy() - Returns a shallow copy of the list\n",
    "\n",
    "count() - Returns the number of elements with the specified value\n",
    "\n",
    "extend() - Adds elements of a list (or any iterable) to the end of the current list\n",
    "\n",
    "index() - Returns the index of the first element with the specified value\n",
    "\n",
    "insert() - Adds an element at the specified position\n",
    "\n",
    "pop() - Removes and returns the element at the specified position\n",
    "\n",
    "remove() - Removes the first item with the specified value\n",
    "\n",
    "reverse() - Reverses the order of the list\n",
    "\n",
    "sort() - Sorts the list\n",
    "\n",
    "- Additional methods not mentioned in the video:\n",
    "    \n",
    "add() - Concatenates two lists (using the + operator)\n",
    "\n",
    "contains() - Checks if an item is in the list (using the in operator)\n",
    "\n",
    "delitem() - Deletes an item at a specific index (using del keyword)\n",
    "\n",
    "getitem() - Retrieves an item at a specific index (using square bracket notation)\n",
    "\n",
    "len() - Returns the length of the list (using len() function)\n",
    "\n",
    "setitem() - Sets the value of an item at a specific index (using square bracket notation)\n",
    "\n",
    "- These methods allow you to manipulate lists in various ways, from adding and removing elements to sorting and counting. Each method modifies the list in place (except copy()), meaning they change the original list rather than creating a new one."
   ]
  },
  {
   "cell_type": "markdown",
   "id": "01935213-12bf-4dec-9e18-6229af95468f",
   "metadata": {},
   "source": [
    "# A method is the same thing as a function, except it is “called on” a value."
   ]
  },
  {
   "cell_type": "markdown",
   "id": "3c7dc1a2-4aff-4691-83cd-819eccd93963",
   "metadata": {},
   "source": [
    "- Finding a Value in a List with the index() Method\n"
   ]
  },
  {
   "cell_type": "markdown",
   "id": "545b7e98-e3cf-401b-9e54-062e310d3c16",
   "metadata": {},
   "source": [
    "List values have an index() method that can be passed a value, and if that value exists in the list, the index of the value is returned. If the value isn’t in the list, then Python produces a ValueError error."
   ]
  },
  {
   "cell_type": "code",
   "execution_count": 1,
   "id": "8c5a0937-415a-4a11-9a8b-cf068bcff723",
   "metadata": {},
   "outputs": [
    {
     "data": {
      "text/plain": [
       "0"
      ]
     },
     "execution_count": 1,
     "metadata": {},
     "output_type": "execute_result"
    }
   ],
   "source": [
    "spam = ['hello', 'hi', 'howdy', 'heyas']\n",
    "\n",
    "spam.index('hello')"
   ]
  },
  {
   "cell_type": "code",
   "execution_count": 2,
   "id": "b24c3896-e776-4b9a-bb4d-f4defd6ca2af",
   "metadata": {},
   "outputs": [
    {
     "ename": "SyntaxError",
     "evalue": "unexpected EOF while parsing (1189787504.py, line 1)",
     "output_type": "error",
     "traceback": [
      "\u001b[0;36m  Input \u001b[0;32mIn [2]\u001b[0;36m\u001b[0m\n\u001b[0;31m    spam.index('howdy howdy howdy'\u001b[0m\n\u001b[0m                                  ^\u001b[0m\n\u001b[0;31mSyntaxError\u001b[0m\u001b[0;31m:\u001b[0m unexpected EOF while parsing\n"
     ]
    }
   ],
   "source": [
    "spam.index('howdy howdy howdy'"
   ]
  },
  {
   "cell_type": "markdown",
   "id": "736f60e2-7f76-491c-9a00-e8e3e820b28c",
   "metadata": {},
   "source": [
    "When there are duplicates of the value in the list, the index of its first appearance is returned, but not the third"
   ]
  },
  {
   "cell_type": "code",
   "execution_count": 3,
   "id": "e19b8c0d-7dc8-45ec-83c0-43078382970c",
   "metadata": {},
   "outputs": [
    {
     "data": {
      "text/plain": [
       "1"
      ]
     },
     "execution_count": 3,
     "metadata": {},
     "output_type": "execute_result"
    }
   ],
   "source": [
    "spam = ['Zophie', 'Pooka', 'Fat-tail', 'Pooka']\n",
    "\n",
    "spam.index('Pooka')"
   ]
  },
  {
   "cell_type": "markdown",
   "id": "ca69fa05-294f-419b-bda1-9b2e82dcc1f5",
   "metadata": {},
   "source": [
    "- Adding Values to Lists with the append() and insert() Methods\n",
    "\n",
    "To add new values to a list, use the append() and insert() methods."
   ]
  },
  {
   "cell_type": "code",
   "execution_count": 4,
   "id": "c8c9a099-e6cc-4b8d-824c-de2f7499dfe1",
   "metadata": {},
   "outputs": [
    {
     "data": {
      "text/plain": [
       "['cat', 'dog', 'bat', 'moose']"
      ]
     },
     "execution_count": 4,
     "metadata": {},
     "output_type": "execute_result"
    }
   ],
   "source": [
    "list1 = ['cat', 'dog', 'bat']\n",
    "\n",
    "list1.append('moose')\n",
    "\n",
    "list1"
   ]
  },
  {
   "cell_type": "code",
   "execution_count": 5,
   "id": "6728fc76-6d2f-4857-94b0-213772068dba",
   "metadata": {},
   "outputs": [
    {
     "data": {
      "text/plain": [
       "['cat', 'chicken', 'dog', 'bat', 'moose']"
      ]
     },
     "execution_count": 5,
     "metadata": {},
     "output_type": "execute_result"
    }
   ],
   "source": [
    "list1.insert(1, 'chicken')\n",
    "\n",
    "list1"
   ]
  },
  {
   "cell_type": "markdown",
   "id": "f7c4dfb3-1480-49ca-ba46-d560784732cd",
   "metadata": {},
   "source": [
    "Neither append() nor insert() gives the new value of spam as its return value. \n",
    "(In fact, the return value of append() and insert() is None, so you definitely wouldn’t want to store this as the new variable value.) \n",
    "Rather, the list is modified in place. "
   ]
  },
  {
   "cell_type": "markdown",
   "id": "4f731784-e8b4-4b12-a1ed-f3a15de087c9",
   "metadata": {},
   "source": [
    "# Enter the following into the interactive shell, and note the AttributeError error messages that show up:\n",
    "\n",
    ">>> eggs = 'hello'\n",
    ">>> eggs.append('world')\n",
    "Traceback (most recent call last):\n",
    "  File \"<pyshell#19>\", line 1, in <module>\n",
    "    eggs.append('world')\n",
    "AttributeError: 'str' object has no attribute 'append'\n",
    ">>> bacon = 42\n",
    ">>> bacon.insert(1, 'world')\n",
    "Traceback (most recent call last):\n",
    "  File \"<pyshell#22>\", line 1, in <module>\n",
    "    bacon.insert(1, 'world')\n",
    "AttributeError: 'int' object has no attribute 'insert'"
   ]
  },
  {
   "cell_type": "markdown",
   "id": "aaa36d6e-0ed4-4e3d-9959-c61c086ef9e7",
   "metadata": {},
   "source": [
    "# Removing Values from Lists with remove()\n",
    "\n"
   ]
  },
  {
   "cell_type": "markdown",
   "id": "6e6f2c1f-8fc6-4825-aced-bec54089f183",
   "metadata": {},
   "source": [
    "- The remove() method is passed the value to be removed from the list it is called on. Enter the following into the interactive shell:\n",
    "\n"
   ]
  },
  {
   "cell_type": "markdown",
   "id": "d1e92a23-4928-4066-803f-893a38b088dc",
   "metadata": {},
   "source": []
  },
  {
   "cell_type": "code",
   "execution_count": 8,
   "id": "cb6e9523-23ac-4e81-9870-071cf11e6754",
   "metadata": {},
   "outputs": [
    {
     "data": {
      "text/plain": [
       "['cat', 'rat', 'elephant']"
      ]
     },
     "execution_count": 8,
     "metadata": {},
     "output_type": "execute_result"
    }
   ],
   "source": [
    "list2 = ['cat', 'bat', 'rat', 'elephant']\n",
    "\n",
    "list2.remove('bat')\n",
    "\n",
    "list2"
   ]
  },
  {
   "cell_type": "markdown",
   "id": "f28e491e-2b2b-40fa-ab3b-a8e95118d574",
   "metadata": {},
   "source": [
    "- Attempting to delete a value that does not exist in the list will result in a ValueError error. For example:\n",
    "\n"
   ]
  },
  {
   "cell_type": "code",
   "execution_count": 9,
   "id": "2f78cf3a-fab3-4c5c-a26d-84d32563eb17",
   "metadata": {},
   "outputs": [
    {
     "ename": "ValueError",
     "evalue": "list.remove(x): x not in list",
     "output_type": "error",
     "traceback": [
      "\u001b[0;31m---------------------------------------------------------------------------\u001b[0m",
      "\u001b[0;31mValueError\u001b[0m                                Traceback (most recent call last)",
      "Input \u001b[0;32mIn [9]\u001b[0m, in \u001b[0;36m<cell line: 1>\u001b[0;34m()\u001b[0m\n\u001b[0;32m----> 1\u001b[0m \u001b[43mlist2\u001b[49m\u001b[38;5;241;43m.\u001b[39;49m\u001b[43mremove\u001b[49m\u001b[43m(\u001b[49m\u001b[38;5;124;43m'\u001b[39;49m\u001b[38;5;124;43mchicken\u001b[39;49m\u001b[38;5;124;43m'\u001b[39;49m\u001b[43m)\u001b[49m\n",
      "\u001b[0;31mValueError\u001b[0m: list.remove(x): x not in list"
     ]
    }
   ],
   "source": [
    "list2.remove('chicken')"
   ]
  },
  {
   "cell_type": "code",
   "execution_count": 13,
   "id": "d7faae44-cd7c-4def-883b-8e67e414a2f1",
   "metadata": {},
   "outputs": [
    {
     "data": {
      "text/plain": [
       "['bat', 'rat', 'cat', 'hat', 'cat']"
      ]
     },
     "execution_count": 13,
     "metadata": {},
     "output_type": "execute_result"
    }
   ],
   "source": [
    "# If the value appears multiple times in the list, only the first instance of the value will be removed. \n",
    "\n",
    "list3 = ['cat', 'bat', 'rat', 'cat', 'hat', 'cat']\n",
    "\n",
    "list3.remove('cat')\n",
    "\n",
    "list3\n",
    "\n",
    "# in this instance The del statement is good to use when you know the index of the value you want to remove from the list. \n",
    "# the remove() method is good when you know the value you want to remove from the list."
   ]
  },
  {
   "cell_type": "markdown",
   "id": "98464ef2-90cd-4bec-a874-c536dadb235a",
   "metadata": {},
   "source": [
    "# Sorting the Values in a List with the sort() Method\n",
    "\n"
   ]
  },
  {
   "cell_type": "markdown",
   "id": "82311961-eee1-4443-8c87-4ea5f23605a4",
   "metadata": {},
   "source": [
    "- Lists of number values or lists of strings can be sorted with the sort() method. "
   ]
  },
  {
   "cell_type": "code",
   "execution_count": 14,
   "id": "eb262410-8ff6-4832-b83b-765613d211c7",
   "metadata": {},
   "outputs": [
    {
     "data": {
      "text/plain": [
       "[-7, 1, 2, 3.14, 5]"
      ]
     },
     "execution_count": 14,
     "metadata": {},
     "output_type": "execute_result"
    }
   ],
   "source": [
    "list4 = [2, 5, 3.14, 1, -7]\n",
    "\n",
    "list4.sort()\n",
    "\n",
    "list4"
   ]
  },
  {
   "cell_type": "code",
   "execution_count": 15,
   "id": "60998231-0919-4f15-b32f-713daecbf798",
   "metadata": {},
   "outputs": [
    {
     "data": {
      "text/plain": [
       "[5, 3.14, 2, 1, -7]"
      ]
     },
     "execution_count": 15,
     "metadata": {},
     "output_type": "execute_result"
    }
   ],
   "source": [
    "# You can also pass True for the reverse keyword argument to have sort() sort the values in reverse orde\n",
    "\n",
    "list4.sort(reverse=True)\n",
    "\n",
    "list4"
   ]
  },
  {
   "cell_type": "markdown",
   "id": "ca2db1f5-a51d-45d7-91d2-3d1562a70071",
   "metadata": {},
   "source": [
    "- There are three things you should note about the sort() method. \n",
    "\n",
    "First, the sort() method sorts the list in place;don’t try to capture the return value by writing code like\n",
    "\n",
    "list4 = list4.sort().\n",
    "\n",
    "Second, you cannot sort lists that have both number values and string values in them, since Python doesn’t know how to compare these values. "
   ]
  },
  {
   "cell_type": "code",
   "execution_count": 16,
   "id": "4ed30f2f-6fdb-4e20-bea0-6d43ffaaaeb6",
   "metadata": {},
   "outputs": [
    {
     "ename": "SyntaxError",
     "evalue": "invalid syntax (379685706.py, line 1)",
     "output_type": "error",
     "traceback": [
      "\u001b[0;36m  Input \u001b[0;32mIn [16]\u001b[0;36m\u001b[0m\n\u001b[0;31m    list5 = = [1, 3, 2, 4, 'Alice', 'Bob']\u001b[0m\n\u001b[0m            ^\u001b[0m\n\u001b[0;31mSyntaxError\u001b[0m\u001b[0;31m:\u001b[0m invalid syntax\n"
     ]
    }
   ],
   "source": [
    "list5 = = [1, 3, 2, 4, 'Alice', 'Bob']\n",
    "\n",
    "list5.sort()"
   ]
  },
  {
   "cell_type": "markdown",
   "id": "0babbb08-345c-4136-a54d-29bc175c8457",
   "metadata": {},
   "source": [
    "Third, sort() uses “ASCIIbetical order” rather than actual alphabetical order for sorting strings. \n",
    "\n",
    "This means uppercase letters come before lowercase letters. Therefore, the lowercase a is sorted so that it comes after the uppercase Z. \n",
    "\n",
    "For an example:"
   ]
  },
  {
   "cell_type": "code",
   "execution_count": 18,
   "id": "e28e2f19-d0e6-4ef8-9e70-790e79ab35f0",
   "metadata": {},
   "outputs": [
    {
     "data": {
      "text/plain": [
       "['Alice', 'ants', 'badgers', 'Bob', 'Carol', 'cats']"
      ]
     },
     "execution_count": 18,
     "metadata": {},
     "output_type": "execute_result"
    }
   ],
   "source": [
    "list6 = ['Alice', 'ants', 'Bob', 'badgers', 'Carol', 'cats']\n",
    "\n",
    "list6.sort(key=str.lower)\n",
    "\n",
    "list6\n",
    "\n",
    "# This causes the sort() method to treat all the items in the list as if they were lowercase without actually changing the values in the list.\n"
   ]
  },
  {
   "cell_type": "markdown",
   "id": "5553c1a4-d846-42c0-a580-dc1917c594db",
   "metadata": {},
   "source": [
    "# To Recap"
   ]
  },
  {
   "cell_type": "markdown",
   "id": "f2d14146-7fbe-49d2-997a-2120791de772",
   "metadata": {},
   "source": [
    "- Methods are functions that are \"called on\" values.\n",
    "\n",
    "- The index) list method returns the index of an item in the list.\n",
    "\n",
    "- The append() list method adds a value to the end of a list.\n",
    "\n",
    "- The insert) list method adds a value anywhere inside a list\n",
    "\n",
    "- The remove) list method removes an item, specified by the value, from a list.\n",
    "\n",
    "- The sort) list method sorts the items in a list.\n",
    "\n",
    "- The sort() method's reverse=True keyword argument can sort in reverse order.\n",
    "\n",
    "- Sorting happens in \"ASCII-betical\" order. To sort normally, pass key=str. lower.\n",
    "\n",
    "- These list methods operate on the list \"in place\", rather than returning a new list"
   ]
  },
  {
   "cell_type": "markdown",
   "id": "42319d51-7051-48a0-80a2-73c12a57d817",
   "metadata": {},
   "source": [
    "# Example Program: Magic 8 Ball with a List\n",
    "\n",
    "- Using lists, you can write a much more elegant version of the previous chapter’s Magic 8 Ball program. \n",
    "\n",
    "- Instead of several lines of nearly identical elif statements, you can create a single list that the code works with. "
   ]
  },
  {
   "cell_type": "code",
   "execution_count": 23,
   "id": "64993018-64dc-4622-b711-36a4bb4c26f2",
   "metadata": {},
   "outputs": [
    {
     "name": "stdout",
     "output_type": "stream",
     "text": [
      "Yes definitely\n"
     ]
    }
   ],
   "source": [
    "# magic8Ball2.py\n",
    "\n",
    "import random\n",
    "\n",
    "messages = ['It is certain',\n",
    "    'It is decidedly so',\n",
    "    'Yes definitely',\n",
    "    'Reply hazy try again',\n",
    "    'Ask again later',\n",
    "    'Concentrate and ask again',\n",
    "    'My reply is no',\n",
    "    'Outlook not so good',\n",
    "    'Very doubtful']\n",
    "\n",
    "print(messages[random.randint(0, len(messages) - 1)])"
   ]
  },
  {
   "cell_type": "markdown",
   "id": "0da16d21-3087-4f1e-8087-092c82b04ebe",
   "metadata": {},
   "source": [
    "- Exceptions to Indentation Rules in Python\n",
    "\n"
   ]
  },
  {
   "cell_type": "markdown",
   "id": "c60f2842-98e3-4fb7-9052-a3e79fa8e155",
   "metadata": {},
   "source": [
    "In most cases, the amount of indentation for a line of code tells Python what block it is in. There are some exceptions to this rule, however. For example, lists can actually span several lines in the source code file. The indentation of these lines do not matter; Python knows that until it sees the ending square bracket, the list is not finished. For example, you can have code that looks like this:\n",
    "\n"
   ]
  },
  {
   "cell_type": "code",
   "execution_count": 20,
   "id": "d21c35cf-4e61-45a3-ab01-20449fdbeaa7",
   "metadata": {},
   "outputs": [
    {
     "name": "stdout",
     "output_type": "stream",
     "text": [
      "['apples', 'oranges', 'bananas', 'cats']\n"
     ]
    }
   ],
   "source": [
    "list7 = ['apples',\n",
    "    'oranges',\n",
    "                     'bananas',\n",
    "'cats']\n",
    "print(list7)"
   ]
  },
  {
   "cell_type": "markdown",
   "id": "97731f40-38a2-4961-96df-654fa7eedbc4",
   "metadata": {},
   "source": [
    "Of course, practically speaking, most people use Python’s behavior to make their lists look pretty and readable, like the messages list in the Magic 8 Ball program.\n",
    "\n",
    "You can also split up a single instruction across multiple lines using the \\ line continuation character at the end.\n",
    "\n",
    "For example, the following is valid Python code:\n"
   ]
  },
  {
   "cell_type": "code",
   "execution_count": 21,
   "id": "3484fd9f-a0a4-4205-8c1a-d6249654ee71",
   "metadata": {},
   "outputs": [
    {
     "name": "stdout",
     "output_type": "stream",
     "text": [
      "Four score and seven years ago...\n"
     ]
    }
   ],
   "source": [
    "print('Four score and seven ' + \\\n",
    "      'years ago...')"
   ]
  },
  {
   "cell_type": "markdown",
   "id": "0246d1a2-b807-4361-b967-faa0aad542ba",
   "metadata": {
    "tags": []
   },
   "source": [
    "# List-like Types: Strings and Tuples\n",
    "\n"
   ]
  },
  {
   "cell_type": "markdown",
   "id": "a4597016-6122-4f9a-aee5-7e924266442b",
   "metadata": {},
   "source": [
    "\n"
   ]
  },
  {
   "cell_type": "markdown",
   "id": "eb8e75c0-3de5-489c-9d14-4f71785d7132",
   "metadata": {},
   "source": [
    "Lists aren’t the only data types that represent ordered sequences of values. For example, strings and lists are actually similar, if you consider a string to be a “list” of single text characters. Many of the things you can do with lists can also be done with strings: indexing; slicing; and using them with for loops, with len(), and with the in and not in operators. "
   ]
  },
  {
   "cell_type": "markdown",
   "id": "aa4a8650-f59b-4095-add7-7f5f475322b7",
   "metadata": {},
   "source": [
    "- Mutable and Immutable Data Types\n",
    "\n",
    "But lists and strings are different in an important way. A list value is a mutable data type: It can have values added, removed, or changed. However, a string is immutable: It cannot be changed. Trying to reassign a single character in a string results in a TypeError error:\n",
    "\n",
    ">>> name = 'Zophie a cat'\n",
    ">>> name[7] = 'the'\n",
    "Traceback (most recent call last):\n",
    "  File \"<pyshell#50>\", line 1, in <module>\n",
    "    name[7] = 'the'\n",
    "TypeError: 'str' object does not support item assignment\n",
    "\n",
    "Therefore, the difference between immutable and mutable comes up with \"references\",\n",
    "explained next.\n",
    "\n",
    "The proper way to “mutate” a string is to use slicing and concatenation to build a new string by copying from parts of the old string.\n"
   ]
  },
  {
   "cell_type": "code",
   "execution_count": 16,
   "id": "375d5f6d-42bf-48d8-b1b4-6ced1eb31f98",
   "metadata": {},
   "outputs": [
    {
     "data": {
      "text/plain": [
       "'Zophie the cat'"
      ]
     },
     "execution_count": 16,
     "metadata": {},
     "output_type": "execute_result"
    }
   ],
   "source": [
    "name = 'Zophie a cat'\n",
    "\n",
    "newName = name[0:7] + 'the' + name[8:12]\n",
    "\n",
    "name\n",
    "\n",
    "newName"
   ]
  },
  {
   "cell_type": "markdown",
   "id": "5569b7cb-6423-491c-8394-f2686c6956a9",
   "metadata": {},
   "source": [
    "# Tuple Data Type"
   ]
  },
  {
   "cell_type": "markdown",
   "id": "293c077f-b7d0-479a-8458-a30a8c680f9d",
   "metadata": {},
   "source": [
    "- The tuple data type is almost identical to the list data type, except in two ways. First, tuples are typed with parentheses, ( and ), instead of square brackets, [ and ].\n",
    "\n"
   ]
  },
  {
   "cell_type": "code",
   "execution_count": 14,
   "id": "a0353d0e-41e4-458d-bfd3-b54d957563ba",
   "metadata": {},
   "outputs": [
    {
     "data": {
      "text/plain": [
       "('hello', 42, 0.5)"
      ]
     },
     "execution_count": 14,
     "metadata": {},
     "output_type": "execute_result"
    }
   ],
   "source": [
    "tuple1 = ('hello', 42, 0.5)\n",
    "tuple1 [0:3]"
   ]
  },
  {
   "cell_type": "markdown",
   "id": "54201efa-deac-4fa4-9b63-351ba573a766",
   "metadata": {},
   "source": [
    "- But the main way that tuples are different from lists is that tuples, like strings, are immutable. Tuples cannot have their values modified, appended, or removed. "
   ]
  },
  {
   "cell_type": "code",
   "execution_count": 17,
   "id": "b90c540b-26c0-45e4-8117-4d55aa4b7001",
   "metadata": {},
   "outputs": [
    {
     "ename": "TypeError",
     "evalue": "'tuple' object does not support item assignment",
     "output_type": "error",
     "traceback": [
      "\u001b[0;31m---------------------------------------------------------------------------\u001b[0m",
      "\u001b[0;31mTypeError\u001b[0m                                 Traceback (most recent call last)",
      "Input \u001b[0;32mIn [17]\u001b[0m, in \u001b[0;36m<cell line: 3>\u001b[0;34m()\u001b[0m\n\u001b[1;32m      1\u001b[0m \u001b[38;5;66;03m# otherwise it would result in the TypeError error message\u001b[39;00m\n\u001b[0;32m----> 3\u001b[0m tuple1 [\u001b[38;5;241m2\u001b[39m] \u001b[38;5;241m=\u001b[39m \u001b[38;5;241m99\u001b[39m\n",
      "\u001b[0;31mTypeError\u001b[0m: 'tuple' object does not support item assignment"
     ]
    }
   ],
   "source": [
    "# otherwise it would result in the TypeError error message\n",
    "\n",
    "tuple1 [2] = 99"
   ]
  },
  {
   "cell_type": "code",
   "execution_count": 20,
   "id": "8d64f94a-8619-49de-af89-ac9fc52080e6",
   "metadata": {},
   "outputs": [
    {
     "data": {
      "text/plain": [
       "tuple"
      ]
     },
     "execution_count": 20,
     "metadata": {},
     "output_type": "execute_result"
    }
   ],
   "source": [
    "''' If you have only one value in your tuple, you can indicate this by placing a trailing comma after the value inside the parentheses. \n",
    "Otherwise, Python will think you’ve just typed a value inside regular parentheses. \n",
    "The comma is what lets Python know this is a tuple value. (Unlike some other programming languages, in Python it’s fine to have a trailing comma after the last item in a list or tuple.)'''\n",
    "\n",
    "type(('hello',))\n",
    "\n"
   ]
  },
  {
   "cell_type": "code",
   "execution_count": 21,
   "id": "736a71b3-eabd-40f4-8af8-72b04c7bfe1b",
   "metadata": {},
   "outputs": [
    {
     "data": {
      "text/plain": [
       "str"
      ]
     },
     "execution_count": 21,
     "metadata": {},
     "output_type": "execute_result"
    }
   ],
   "source": [
    "type(('hello'))\n"
   ]
  },
  {
   "cell_type": "markdown",
   "id": "5f182e47-909c-4527-bd8f-5753741d9b91",
   "metadata": {},
   "source": [
    "# References "
   ]
  },
  {
   "cell_type": "code",
   "execution_count": 22,
   "id": "55a58781-713a-4443-9729-2777a6aaf627",
   "metadata": {},
   "outputs": [
    {
     "data": {
      "text/plain": [
       "[0, 'Hello!', 2, 3, 4, 5]"
      ]
     },
     "execution_count": 22,
     "metadata": {},
     "output_type": "execute_result"
    }
   ],
   "source": [
    "# As you’ve seen, variables store strings and integer values.\n",
    "# But lists don’t work this way. When you assign a list to a variable, you are actually assigning a list reference to the variable. \n",
    "# A reference is a value that points to some bit of data, and a list reference is a value that points to a list. \n",
    "# Here is some code that will make this distinction easier to understand. \n",
    "\n",
    "list8 = [0, 1, 2, 3, 4, 5]\n",
    "list08 = list8\n",
    "list08[1] = 'Hello!'\n",
    "list8"
   ]
  },
  {
   "cell_type": "markdown",
   "id": "981fe4d0-1377-4d14-9a5a-962a1b0dd163",
   "metadata": {},
   "source": [
    "- This might look odd, but:\n",
    "\n",
    "- When you create the list ❶, you assign a reference to it in the list8 variable\n",
    "\n",
    "- But the next line ❷ copies only the list reference in list8 to list08, not the list value itself. \n",
    "\n",
    "- This means the values stored in list8 and list08 now both refer to the same list. \n",
    "\n",
    "- There is only one underlying list because the list itself was never actually copied. \n",
    "\n",
    "- So when you modify the first element of list08 ❸, you are modifying the same list that list8 refers to.\n",
    "\n",
    "- Remember that variables are like boxes that contain values. The previous figures in this chapter show that lists in boxes aren’t exactly accurate because list variables don’t actually contain lists—they contain references to lists."
   ]
  },
  {
   "cell_type": "markdown",
   "id": "86bf6401-8213-49eb-8d18-6f75f55a540e",
   "metadata": {},
   "source": [
    "- Passing References & Passing Lists in Function Calls"
   ]
  },
  {
   "cell_type": "code",
   "execution_count": 23,
   "id": "314a4f7b-61e3-47d2-a519-152e68bb5649",
   "metadata": {},
   "outputs": [
    {
     "name": "stdout",
     "output_type": "stream",
     "text": [
      "[1, 2, 3, 'Hello']\n"
     ]
    }
   ],
   "source": [
    "''' References are particularly important for understanding how arguments get passed to functions. \n",
    "When a function is called, the values of the arguments are copied to the parameter variables. \n",
    "For lists (and dictionaries, which I’ll describe in the next chapter), this means a copy of the reference is used for the parameter.'''\n",
    "\n",
    "# To see it ilustrtated below:\n",
    "\n",
    "def eggs(someParameter):\n",
    "    someParameter.append('Hello')\n",
    "\n",
    "spam = [1, 2, 3]\n",
    "eggs(spam)\n",
    "print(spam)\n",
    "\n",
    "# Notice that when eggs() is called, a return value is not used to assign a new value to spam. Instead, it modifies the list in place, directly. "
   ]
  },
  {
   "cell_type": "markdown",
   "id": "5d257ed0-9023-4a2d-bde6-2c08b2941f1b",
   "metadata": {},
   "source": [
    "- The copy Module’s copy() and deepcopy() Functions\n",
    "\n"
   ]
  },
  {
   "cell_type": "code",
   "execution_count": 24,
   "id": "8be5bed9-8b2d-4856-9b41-fd9268d3bae0",
   "metadata": {},
   "outputs": [
    {
     "data": {
      "text/plain": [
       "['A', 'B', 'C', 'D']"
      ]
     },
     "execution_count": 24,
     "metadata": {},
     "output_type": "execute_result"
    }
   ],
   "source": [
    "''' Although passing around references is often the handiest way to deal with lists and dictionaries, \n",
    "if the function modifies the list or dictionary that is passed, you may not want these changes in the original list or dictionary value. \n",
    "For this, Python provides a module named copy that provides both the copy() and deepcopy() functions. \n",
    "The first of these, copy.copy(), can be used to make a duplicate copy of a mutable value like a list or dictionary, not just a copy of a reference.\n",
    "Enter the following into the interactive shell:'''\n",
    "\n",
    "import copy\n",
    "spam = ['A', 'B', 'C', 'D']\n",
    "cheese = copy.copy(spam)\n",
    "cheese[1] = 42\n",
    "spam\n",
    "\n"
   ]
  },
  {
   "cell_type": "markdown",
   "id": "aa506970-42eb-4a94-9797-d6dd5e5fea0e",
   "metadata": {},
   "source": [
    "- Line Continuation"
   ]
  },
  {
   "cell_type": "code",
   "execution_count": 25,
   "id": "da19a7a7-1f61-4f52-b662-e154a38b8099",
   "metadata": {},
   "outputs": [
    {
     "data": {
      "text/plain": [
       "['apples', 'oranges', 'bananas', 'cats']"
      ]
     },
     "execution_count": 25,
     "metadata": {},
     "output_type": "execute_result"
    }
   ],
   "source": [
    "stam = ['apples',\n",
    "'oranges',\n",
    "'bananas',\n",
    " 'cats']\n",
    "\n",
    "stam"
   ]
  },
  {
   "cell_type": "code",
   "execution_count": 26,
   "id": "5b1eae42-c880-45e0-8242-8042b4c3cfbe",
   "metadata": {},
   "outputs": [
    {
     "name": "stdout",
     "output_type": "stream",
     "text": [
      "Hello to you my darling\n"
     ]
    }
   ],
   "source": [
    "# could also be done with the line continuation \\\n",
    "\n",
    "print ('Hello to you ' +\\\n",
    "       'my darling')"
   ]
  },
  {
   "cell_type": "markdown",
   "id": "68f9a9e6-b3bb-4da7-8ff7-4b2e5ad2da36",
   "metadata": {},
   "source": [
    "# To recap:\n",
    "\n",
    "- Strings can do a lot of the same things lists can do, but strings are immutable.\n",
    "\n",
    "- Immutable values like strings and tuples cannot be modified \"in place\"\n",
    "\n",
    "- Mutable values like lists can be modified in place.\n",
    "\n",
    "- Variables don't contain lists, they contain references to lists.\n",
    "\n",
    "- When passing a list argument to a function, you are actually passing a list reference.\n",
    "\n",
    "- Changes made to a list in a function will affect the list outside the function.\n",
    "\n",
    "- The \\ line continuation character can be used to stretch Python instructions across multiple"
   ]
  },
  {
   "cell_type": "markdown",
   "id": "5bd0b096-d9ea-4ba5-b9cc-f77130e30c37",
   "metadata": {},
   "source": [
    "# Summary\n",
    "\n",
    "- Lists are useful data types since they allow you to write code that works on a modifiable number of values in a single variable. Later in this book, you will see programs using lists to do things that would be difficult or impossible to do without them.\n",
    "\n",
    "- Lists are mutable, meaning that their contents can change. Tuples and strings, although list-like in some respects, are immutable and cannot be changed. A variable that contains a tuple or string value can be overwritten with a new tuple or string value, but this is not the same thing as modifying the existing value in place—like, say, the append() or remove() methods do on lists.\n",
    "\n",
    "- Variables do not store list values directly; they store references to lists. This is an important distinction when copying variables or passing lists as arguments in function calls. Because the value that is being copied is the list reference, be aware that any changes you make to the list might impact another variable in your program. You can use copy() or deepcopy() if you want to make changes to a list in one variable without modifying the original list.\n",
    "\n"
   ]
  },
  {
   "cell_type": "markdown",
   "id": "81871769-3c02-4419-b34d-a38fe70e2fe0",
   "metadata": {},
   "source": [
    "# Practice"
   ]
  },
  {
   "cell_type": "markdown",
   "id": "4f17f4b4-3fe6-45a6-b19d-cb3664a11997",
   "metadata": {},
   "source": [
    "# 1. What is []?\n",
    "\n",
    "- those are list, similar to '' an empty string "
   ]
  },
  {
   "cell_type": "markdown",
   "id": "c098853e-8aca-4ef3-84a9-b25a92a69606",
   "metadata": {},
   "source": [
    "# 2. How would you assign the value 'hello' as the third value in a list stored in a variable named spam? (Assume spam contains [2, 4, 6, 8, 10].)\n",
    "\n",
    "- For the following three questions, let’s say spam contains the list ['a', 'b', 'c', 'd']."
   ]
  },
  {
   "cell_type": "code",
   "execution_count": 29,
   "id": "9a8f0fb8-9bd5-4e6b-b3ff-eb16115e5998",
   "metadata": {},
   "outputs": [
    {
     "data": {
      "text/plain": [
       "[2, 4, 'hello', 8, 10]"
      ]
     },
     "execution_count": 29,
     "metadata": {},
     "output_type": "execute_result"
    }
   ],
   "source": [
    "p_list = [2, 4, 6, 8, 10]\n",
    "\n",
    "p_list [2] = 'hello'\n",
    "\n",
    "p_list"
   ]
  },
  {
   "cell_type": "code",
   "execution_count": 30,
   "id": "2611a2c7-bc8d-4db4-abe5-ced2682e7f1d",
   "metadata": {},
   "outputs": [
    {
     "data": {
      "text/plain": [
       "['a', 'b', 'hello', 'd']"
      ]
     },
     "execution_count": 30,
     "metadata": {},
     "output_type": "execute_result"
    }
   ],
   "source": [
    "p_list = ['a', 'b', 'c', 'd']\n",
    "\n",
    "p_list [2] = 'hello'\n",
    "\n",
    "p_list"
   ]
  },
  {
   "cell_type": "markdown",
   "id": "d7eff36f-ff7e-4a93-99bc-790f850b0932",
   "metadata": {},
   "source": [
    "# 3. What does spam[int(int('3' * 2) // 11)] evaluate to?"
   ]
  },
  {
   "cell_type": "code",
   "execution_count": 32,
   "id": "1127e2ed-5a22-4a03-adef-5296dd23a767",
   "metadata": {},
   "outputs": [
    {
     "data": {
      "text/plain": [
       "'d'"
      ]
     },
     "execution_count": 32,
     "metadata": {},
     "output_type": "execute_result"
    }
   ],
   "source": [
    "s_list = ['a', 'b', 'c', 'd']\n",
    "\n",
    "s_list[int(int('3' * 2) // 11)]\n",
    "\n",
    "# (Note that '3' * 2 is the string '33', which is passed to int() before\n",
    "# being divided by 11. This eventually evaluates to 3. Expressions can be\n",
    "# used wherever values are used.)"
   ]
  },
  {
   "cell_type": "markdown",
   "id": "85d4ddd3-0f47-464b-a2e9-0c14a1b37129",
   "metadata": {},
   "source": [
    "# 4. What does spam[-1] evaluate to?\n",
    "\n"
   ]
  },
  {
   "cell_type": "code",
   "execution_count": 33,
   "id": "53184f28-f5d3-42cb-9cd9-858a680234e9",
   "metadata": {},
   "outputs": [
    {
     "data": {
      "text/plain": [
       "'d'"
      ]
     },
     "execution_count": 33,
     "metadata": {},
     "output_type": "execute_result"
    }
   ],
   "source": [
    "s_list[-1]\n",
    "\n",
    "# it is a negative from the end and it would be 'd'"
   ]
  },
  {
   "cell_type": "markdown",
   "id": "e979442a-a7d7-45a4-b137-4f621c95a05a",
   "metadata": {},
   "source": [
    "# 5. What does spam[:2] evaluate to?"
   ]
  },
  {
   "cell_type": "code",
   "execution_count": 34,
   "id": "c00a734d-0b80-489b-8519-afb8d1aa665a",
   "metadata": {},
   "outputs": [
    {
     "data": {
      "text/plain": [
       "['a', 'b']"
      ]
     },
     "execution_count": 34,
     "metadata": {},
     "output_type": "execute_result"
    }
   ],
   "source": [
    "s_list[:2]\n",
    "\n",
    "# everything starting the first character 0 to the begging of the third but not including it\n",
    "# in essence characters 'a' and 'b'\n",
    "\n"
   ]
  },
  {
   "cell_type": "markdown",
   "id": "7d7220a4-9bd4-4af9-a542-701817f70690",
   "metadata": {},
   "source": [
    "# 6. What does bacon.index('cat') evaluate to?\n",
    "\n",
    "- For the following three questions, let’s say bacon contains the list [3.14, 'cat', 11, 'cat', True]."
   ]
  },
  {
   "cell_type": "code",
   "execution_count": 40,
   "id": "3b3c1f28-d4ca-4cde-ae5e-d615aff79593",
   "metadata": {},
   "outputs": [
    {
     "data": {
      "text/plain": [
       "1"
      ]
     },
     "execution_count": 40,
     "metadata": {},
     "output_type": "execute_result"
    }
   ],
   "source": [
    "b_list = [3.14, 'cat', 11, 'cat', True]\n",
    "\n",
    "b_list.index('cat')\n",
    "\n",
    "# it would onlu display the first character 1, not 1,3"
   ]
  },
  {
   "cell_type": "markdown",
   "id": "48166bcf-02b9-435e-b06c-a3361cdc8687",
   "metadata": {},
   "source": [
    "# 7. What does bacon.append(99) make the list value in bacon look like?"
   ]
  },
  {
   "cell_type": "code",
   "execution_count": 41,
   "id": "5b6c747c-2556-4c76-8f1e-34eb3d129105",
   "metadata": {},
   "outputs": [
    {
     "data": {
      "text/plain": [
       "[3.14, 'cat', 11, 'cat', True, 99]"
      ]
     },
     "execution_count": 41,
     "metadata": {},
     "output_type": "execute_result"
    }
   ],
   "source": [
    "# it would consist of [3.14, 'cat', 11, 'cat', True, 99]\n",
    "\n",
    "b_list.append(99)\n",
    "\n",
    "b_list"
   ]
  },
  {
   "cell_type": "markdown",
   "id": "3df0a73d-dc2e-4b28-b7b3-70ad9b5b32d2",
   "metadata": {},
   "source": [
    "# 8. What does bacon.remove('cat') make the list value in bacon look like?"
   ]
  },
  {
   "cell_type": "code",
   "execution_count": 42,
   "id": "f38e50e4-f2a0-4373-a697-d278f4692f39",
   "metadata": {},
   "outputs": [
    {
     "data": {
      "text/plain": [
       "[3.14, 11, 'cat', True, 99]"
      ]
     },
     "execution_count": 42,
     "metadata": {},
     "output_type": "execute_result"
    }
   ],
   "source": [
    "# the list would look like [3.14, 11, 'cat', True, 99]\n",
    "\n",
    "b_list.remove('cat')\n",
    "\n",
    "b_list"
   ]
  },
  {
   "cell_type": "markdown",
   "id": "24bf1be0-ba8c-412d-8f01-dfd8730135de",
   "metadata": {
    "tags": []
   },
   "source": [
    "# 9. What are the operators for list concatenation and list replication?"
   ]
  },
  {
   "cell_type": "code",
   "execution_count": 43,
   "id": "d2d638a7-b588-401b-9f50-6f8fe216401e",
   "metadata": {},
   "outputs": [],
   "source": [
    "# The operator for list concatenation is +, while the operator for replication is *. (This is the same as for strings.)"
   ]
  },
  {
   "cell_type": "markdown",
   "id": "819e5d97-0a9d-4689-8959-b9fd9f14b31a",
   "metadata": {},
   "source": [
    "# 10. What is the difference between the append() and insert() list methods?\n",
    "\n",
    "- append  adds a new value to the back of the list \n",
    "- insert allows you to add them anywhere - x "
   ]
  },
  {
   "cell_type": "markdown",
   "id": "7c064857-fd1b-460f-ac12-8732e641895e",
   "metadata": {},
   "source": [
    "# 11. What are two ways to remove values from a list?\n",
    "\n",
    "- list.remove() method \n",
    "- and the del statement - x"
   ]
  },
  {
   "cell_type": "markdown",
   "id": "828b9fa4-1693-4662-aefe-afad20d931bb",
   "metadata": {},
   "source": [
    "# 12. Name a few ways that list values are similar to string values.\n",
    "\n",
    "- lists and strings can be passed to len() - x \n",
    "\n",
    "- can be indexed, sliced, concatanated and replicated\n",
    "\n",
    "- can be used in the for loop - x\n",
    "\n",
    "- be used with the in and not in operators - x"
   ]
  },
  {
   "cell_type": "markdown",
   "id": "908fac07-bc06-4b8f-b20f-782a76d807da",
   "metadata": {},
   "source": [
    "# 13. What is the difference between lists and tuples?\n",
    "\n",
    "- lists are mutable e.g. meaninng they can have values added, removed, or changed.\n",
    "\n",
    "- tuples aren't \n",
    "\n",
    "- Also, tuples are written using parentheses, ( and ), while lists use the square brackets, [ and ]."
   ]
  },
  {
   "cell_type": "markdown",
   "id": "7b72d2b3-3930-4afa-86cf-3b25f3119943",
   "metadata": {},
   "source": [
    "# 14. How do you type the tuple value that has just the integer value 42 in it?\n",
    "\n"
   ]
  },
  {
   "cell_type": "code",
   "execution_count": 44,
   "id": "65f2603d-321f-4f5a-9fc9-daaf9276f8b6",
   "metadata": {},
   "outputs": [
    {
     "data": {
      "text/plain": [
       "(42,)"
      ]
     },
     "execution_count": 44,
     "metadata": {},
     "output_type": "execute_result"
    }
   ],
   "source": [
    "(42,) \n",
    "\n",
    "#(The trailing comma is mandatory.)"
   ]
  },
  {
   "cell_type": "markdown",
   "id": "2ea63707-0559-4349-9f58-dc512f75cee2",
   "metadata": {},
   "source": [
    "# 15. How can you get the tuple form of a list value? How can you get the list form of a tuple value?\n",
    "\n"
   ]
  },
  {
   "cell_type": "markdown",
   "id": "89178541-270e-47be-831b-41e5ae58b97d",
   "metadata": {},
   "source": [
    "- The tuple() and list() functions, respectively - xxx"
   ]
  },
  {
   "cell_type": "markdown",
   "id": "e739a2ba-9437-4546-90dd-4350a7709142",
   "metadata": {},
   "source": [
    "# 16. Variables that “contain” list values don’t actually contain lists directly. What do they contain instead?\n",
    "\n",
    "- they contain references to list values.\n"
   ]
  },
  {
   "cell_type": "markdown",
   "id": "c4944149-da3e-4b58-a940-0883766190f7",
   "metadata": {},
   "source": [
    "# 17. What is the difference between copy.copy() and copy.deepcopy()?\n",
    "\n",
    "- The copy.copy() function will do a shallow copy of a list, \n",
    "- while the copy.deepcopy() function will do a deep copy of a list. \n",
    "- That is, only copy.deepcopy() will duplicate any lists inside the list."
   ]
  },
  {
   "cell_type": "markdown",
   "id": "1d118013-2824-44ad-988d-841336007218",
   "metadata": {
    "jp-MarkdownHeadingCollapsed": true,
    "tags": []
   },
   "source": [
    "# Practice Projects\n",
    "\n",
    "- For practice, write programs to do the following tasks."
   ]
  },
  {
   "cell_type": "markdown",
   "id": "3963cd6d-812c-4662-a0f7-7b5f63054b42",
   "metadata": {
    "tags": []
   },
   "source": [
    "# Comma Code\n",
    "\n",
    "- Say you have a list value like this:\n",
    "\n",
    " spam = ['apples', 'bananas', 'tofu', 'cats']\n",
    "\n",
    "- Write a function that takes a list value as an argument and returns a string with all the items separated by a comma and a space, with and inserted before the last item. \n",
    "- For example, passing the previous spam list to the function would return 'apples, bananas, tofu, and cats'. \n",
    "- But your function should be able to work with any list value passed to it.\n"
   ]
  },
  {
   "cell_type": "code",
   "execution_count": 61,
   "id": "e33ebc62-58a2-47e2-a3e5-3b94cdb0312d",
   "metadata": {},
   "outputs": [
    {
     "name": "stdout",
     "output_type": "stream",
     "text": [
      "apples, bananas, tofu, and cats\n"
     ]
    }
   ],
   "source": [
    "# myCommaCode.py\n",
    "\n",
    "ilist = ['apples', 'bananas', 'tofu', 'cats']\n",
    "\n",
    "\n",
    "def commaplacer(ilist): # This line defines a function named commaplacer that takes one parameter ilist (presumably a list).\n",
    "    if len(ilist) == 0: # If the input list is empty (length 0), the function returns an empty string.\n",
    "        return \"\"\n",
    "    elif len(ilist) == 1: # If the list has only one item, the function returns that item as a string.\n",
    "        return str(ilist[0])\n",
    "    elif len(ilist) == 2: # If the list has exactly two items, it returns a string with the items separated by \" and \".\n",
    "        return f\"{ilist[0]} and {ilist[1]}\"\n",
    "    else: # This else clause handles lists with three or more items.\n",
    "        return \", \".join(map(str, ilist[:-1])) + f\", and {ilist[-1]}\"\n",
    "    \n",
    "''' For lists with 3+ items:\n",
    "ilist[:-1] selects all items except the last one.\n",
    "map(str, ilist[:-1]) converts each of these items to a string.\n",
    "\", \".join(...) joins these items with \", \" between them.\n",
    "f\", and {ilist[-1]}\" adds \", and \" followed by the last item.\n",
    "This function effectively creates a grammatically correct string from a list, using commas and \"and\" appropriately.'''\n",
    "    \n",
    "''' Explanation:\n",
    "\n",
    "This function does the following:\n",
    "If the list is empty, it returns an empty string.\n",
    "If the list has one item, it returns that item as a string.\n",
    "If the list has two items, it joins them with \"and\".\n",
    "For lists with three or more items, it joins all but the last item with commas, then adds \", and\" before the last item.\n",
    "\n",
    "The function uses map(str, items) to convert all items to strings, in case the list contains non-string elements. \n",
    "The join() method is used to efficiently concatenate the strings with commas, and f-strings are used for easy string formatting.'''\n",
    "    \n",
    "result = commaplacer(ilist)\n",
    "print(result)"
   ]
  },
  {
   "cell_type": "markdown",
   "id": "cc111877-14aa-4095-a3e9-4cb19fcf1de5",
   "metadata": {},
   "source": [
    "# alternative solutions found at stackoverflow"
   ]
  },
  {
   "cell_type": "code",
   "execution_count": 63,
   "id": "6a788ed1-d752-4d6d-aea1-c36b88a06db9",
   "metadata": {},
   "outputs": [
    {
     "name": "stdout",
     "output_type": "stream",
     "text": [
      "apples, bananas, tofu, and cats\n"
     ]
    },
    {
     "data": {
      "text/plain": [
       "' This code does the following:\\n\\nDefines a list slist with four items.\\nDefines a function commaplacer that takes a list as input.\\nInside the function, it loops through each item in the list.\\nFor all items except the last, it adds the item followed by a comma and space.\\nFor the last item, it adds \\'and \\' before the item.\\nThe function returns the formatted string.\\nFinally, it calls the function with slist and prints the result.\\nThe output will be: \"apples, bananas, tofu, and cats\"'"
      ]
     },
     "execution_count": 63,
     "metadata": {},
     "output_type": "execute_result"
    }
   ],
   "source": [
    "slist = ['apples', 'bananas', 'tofu', 'cats']  # Define a list of items\n",
    "\n",
    "def commaplacer(somelist):  # Define a function that takes a list as input\n",
    "    output = ''  # Initialize an empty string to store the result\n",
    "    for i in range(len(somelist)):  # Loop through the indices of the input list\n",
    "        if len(somelist)-1 == i:  # If we're at the last item in the list\n",
    "            output += 'and ' + somelist[i]  # Add 'and ' before the last item\n",
    "        else:  # For all items except the last one\n",
    "            output += somelist[i] + ', '  # Add the item followed by a comma and space\n",
    "    return output  # Return the final formatted string\n",
    "\n",
    "result = commaplacer(slist)  # Call the function with our list and store the result\n",
    "print(result)  # Print the formatted string\n",
    "\n",
    "''' This code does the following:\n",
    "\n",
    "Defines a list slist with four items.\n",
    "Defines a function commaplacer that takes a list as input.\n",
    "Inside the function, it loops through each item in the list.\n",
    "For all items except the last, it adds the item followed by a comma and space.\n",
    "For the last item, it adds 'and ' before the item.\n",
    "The function returns the formatted string.\n",
    "Finally, it calls the function with slist and prints the result.\n",
    "The output will be: \"apples, bananas, tofu, and cats\"'''"
   ]
  },
  {
   "cell_type": "code",
   "execution_count": 64,
   "id": "53279ba4-782b-4606-a2f6-0e4770d1f7b4",
   "metadata": {},
   "outputs": [
    {
     "name": "stdout",
     "output_type": "stream",
     "text": [
      "apples, bananas, tofu, and cats\n"
     ]
    }
   ],
   "source": [
    "slist = ['apples', 'bananas', 'tofu', 'cats']\n",
    "\n",
    "def commaplacer(somelist): #function\n",
    "    if not somelist: return ''\n",
    "    elif len(somelist) == 1: return somelist[0]\n",
    "    else: return ', '.join(somelist[:-1])+', and ' + somelist[-1]\n",
    "\n",
    "#line 1: check if list is empty. If yes, return empty string\n",
    "\n",
    "#line 2: check if list has only one value. If yes, return only first value\n",
    "\n",
    "#line 3: since list has more than one value, use 'join' function\n",
    "#join all values until last one. add ', and ' then add last value\n",
    "\n",
    "\n",
    "result = commaplacer(slist)\n",
    "print(result)"
   ]
  },
  {
   "cell_type": "markdown",
   "id": "1480b612-0461-4a48-a775-18b989b0395c",
   "metadata": {
    "tags": []
   },
   "source": [
    "# Character Picture Grid\n",
    "\n",
    "- Say you have a list of lists where each value in the inner lists is a one-character string, like this:\n",
    "\n",
    "grid = [['.', '.', '.', '.', '.', '.'],\n",
    "        ['.', 'O', 'O', '.', '.', '.'],\n",
    "        ['O', 'O', 'O', 'O', '.', '.'],\n",
    "        ['O', 'O', 'O', 'O', 'O', '.'],\n",
    "        ['.', 'O', 'O', 'O', 'O', 'O'],\n",
    "        ['O', 'O', 'O', 'O', 'O', '.'],\n",
    "        ['O', 'O', 'O', 'O', '.', '.'],\n",
    "        ['.', 'O', 'O', '.', '.', '.'],\n",
    "        ['.', '.', '.', '.', '.', '.']]\n",
    "You can think of grid[x][y] as being the character at the x- and y-coordinates of a “picture” drawn with text characters. The (0, 0) origin will be in the upper-left corner, the x-coordinates increase going right, and the y-coordinates increase going down.\n",
    "\n",
    "Copy the previous grid value, and write code that uses it to print the image.\n",
    "\n",
    " ..OO.OO..\n",
    ".OOOOOOO.\n",
    ".OOOOOOO.\n",
    "..OOOOO..\n",
    "...OOO...\n",
    "....O....\n",
    "Hint: You will need to use a loop in a loop in order to print grid[0][0], then grid[1][0], then grid[2][0], and so on, up to grid[8][0]. This will finish the first row, so then print a newline. Then your program should print grid[0][1], then grid[1][1], then grid[2][1], and so on. The last thing your program will print is grid[8][5].\n",
    "\n",
    "Also, remember to pass the end keyword argument to print() if you don’t want a newline printed automatically after each print() call."
   ]
  },
  {
   "cell_type": "code",
   "execution_count": 11,
   "id": "fcb2e458-1d8e-46d5-8546-389e018da56e",
   "metadata": {},
   "outputs": [
    {
     "ename": "IndentationError",
     "evalue": "unexpected indent (3277870986.py, line 26)",
     "output_type": "error",
     "traceback": [
      "\u001b[0;36m  Input \u001b[0;32mIn [11]\u001b[0;36m\u001b[0m\n\u001b[0;31m    for y, row in enumerate(grid):\u001b[0m\n\u001b[0m    ^\u001b[0m\n\u001b[0;31mIndentationError\u001b[0m\u001b[0;31m:\u001b[0m unexpected indent\n"
     ]
    }
   ],
   "source": [
    "#myCharacterPictureGrid.py\n",
    "\n",
    "grid = [['.', '.', '.', '.', '.', '.'],\n",
    "        ['.', 'O', 'O', '.', '.', '.'],\n",
    "        ['O', 'O', 'O', 'O', '.', '.'],\n",
    "        ['O', 'O', 'O', 'O', 'O', '.'],\n",
    "        ['.', 'O', 'O', 'O', 'O', 'O'],\n",
    "        ['O', 'O', 'O', 'O', 'O', '.'],\n",
    "        ['O', 'O', 'O', 'O', '.', '.'],\n",
    "        ['.', 'O', 'O', '.', '.', '.'],\n",
    "        ['.', '.', '.', '.', '.', '.']]\n",
    "\n",
    "def grid_game(grid):\n",
    "    \n",
    "    for x in range(len(grid[0])):\n",
    "        print(f\"{x:2}\", end=\" \")\n",
    "    print()\n",
    "\n",
    "''' This part prints the column headers (x-coordinates):\n",
    "len(grid) gets the length of the first row, which is the number of columns.\n",
    "It loops through each column number (x).\n",
    "f\"{x:2}\" formats x to take up 2 spaces, right-aligned.\n",
    "end=\" \" makes it print a space after each number instead of a newline.\n",
    "The print() at the end moves to the next line after printing all column headers.'''\n",
    "     \n",
    "    for y, row in enumerate(grid):\n",
    "        print(f\"{y:2}\", end=\" \")\n",
    "        for cell in row:\n",
    "            print(f\"{cell:2}\", end=\" \")\n",
    "        print()\n",
    "        \n",
    "''' This starts a loop that goes through each row of the grid:\n",
    "\n",
    "enumerate(grid) gives both the index (y) and the row itself.\n",
    "\n",
    "This inner loop prints each cell in the current row:\n",
    "\n",
    "cell is each item in the row.\n",
    "\n",
    "It's formatted to take up 2 spaces, similar to the coordinates.\n",
    "\n",
    "print()  moves to the next line after printing all cells in a row. '''\n",
    "        \n",
    "grid_game(grid)\n",
    "# calling the function"
   ]
  },
  {
   "cell_type": "code",
   "execution_count": 9,
   "id": "ab79f902-90d5-499e-b086-d00ee72db289",
   "metadata": {},
   "outputs": [
    {
     "name": "stdout",
     "output_type": "stream",
     "text": [
      " 0  1  2  3  4  5 \n",
      " 0 .  .  .  .  .  .  \n",
      " 1 .  O  O  .  .  .  \n",
      " 2 O  O  O  O  .  .  \n",
      " 3 O  O  O  O  O  .  \n",
      " 4 .  O  O  O  O  O  \n",
      " 5 O  O  O  O  O  .  \n",
      " 6 O  O  O  O  .  .  \n",
      " 7 .  O  O  .  .  .  \n",
      " 8 .  .  .  .  .  .  \n"
     ]
    }
   ],
   "source": [
    "#myCharacterPictureGrid.py\n",
    "\n",
    "grid = [['.', '.', '.', '.', '.', '.'],\n",
    "        ['.', 'O', 'O', '.', '.', '.'],\n",
    "        ['O', 'O', 'O', 'O', '.', '.'],\n",
    "        ['O', 'O', 'O', 'O', 'O', '.'],\n",
    "        ['.', 'O', 'O', 'O', 'O', 'O'],\n",
    "        ['O', 'O', 'O', 'O', 'O', '.'],\n",
    "        ['O', 'O', 'O', 'O', '.', '.'],\n",
    "        ['.', 'O', 'O', '.', '.', '.'],\n",
    "        ['.', '.', '.', '.', '.', '.']]\n",
    "\n",
    "def grid_game(grid):\n",
    "    for x in range(len(grid[0])):\n",
    "        print(f\"{x:2}\", end=\" \")\n",
    "    print()\n",
    "    \n",
    "    for y, row in enumerate(grid):\n",
    "        print(f\"{y:2}\", end=\" \")\n",
    "        for cell in row:\n",
    "            print(f\"{cell:2}\", end=\" \")\n",
    "        print()\n",
    "\n",
    "grid_game(grid)\n",
    "# calling the function"
   ]
  },
  {
   "cell_type": "code",
   "execution_count": null,
   "id": "2d9874e3-8159-499b-8a07-32630723e315",
   "metadata": {},
   "outputs": [],
   "source": []
  },
  {
   "cell_type": "code",
   "execution_count": null,
   "id": "9ef59d0f-2b4b-476e-9d1e-196fa5948221",
   "metadata": {},
   "outputs": [],
   "source": []
  },
  {
   "cell_type": "code",
   "execution_count": null,
   "id": "30922294-7ae5-45b1-9b22-995a21fc2f7e",
   "metadata": {},
   "outputs": [],
   "source": []
  },
  {
   "cell_type": "code",
   "execution_count": null,
   "id": "48b71169-1d58-497f-a453-fbc32ff78760",
   "metadata": {},
   "outputs": [],
   "source": []
  },
  {
   "cell_type": "code",
   "execution_count": null,
   "id": "f6c7c99c-f597-433f-bfb8-4d963be3e24d",
   "metadata": {},
   "outputs": [],
   "source": []
  },
  {
   "cell_type": "code",
   "execution_count": null,
   "id": "dc5c1a03-fb37-4661-90da-65066e0087e0",
   "metadata": {},
   "outputs": [],
   "source": []
  }
 ],
 "metadata": {
  "kernelspec": {
   "display_name": "Python 3 (ipykernel)",
   "language": "python",
   "name": "python3"
  },
  "language_info": {
   "codemirror_mode": {
    "name": "ipython",
    "version": 3
   },
   "file_extension": ".py",
   "mimetype": "text/x-python",
   "name": "python",
   "nbconvert_exporter": "python",
   "pygments_lexer": "ipython3",
   "version": "3.9.12"
  }
 },
 "nbformat": 4,
 "nbformat_minor": 5
}
