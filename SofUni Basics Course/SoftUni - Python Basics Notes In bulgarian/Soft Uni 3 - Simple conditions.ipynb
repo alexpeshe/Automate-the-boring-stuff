{
 "cells": [
  {
   "cell_type": "markdown",
   "id": "e2b0e7b5-40c8-4a14-b69a-abe021be6c60",
   "metadata": {},
   "source": [
    "# Глава 3.1. Прости проверки\n"
   ]
  },
  {
   "cell_type": "markdown",
   "id": "5ed3a0ed-1f62-421c-a266-8d6e784b8d0d",
   "metadata": {
    "tags": []
   },
   "source": [
    "В настоящата глава ще разгледаме условните конструкции в езика Python, чрез които нашата програма може да има различно поведение, в зависимост от дадено условие. Ще обясним синтаксиса на условните оператори за проверки (if, if-elif и else) с подходящи примери и ще видим в какъв диапазон живее една променлива (нейният обхват). Накрая ще разгледаме техники за дебъгване, чрез които постъпково да проследяваме пътя, който извървява нашата програма по време на своето изпълнение."
   ]
  },
  {
   "cell_type": "markdown",
   "id": "7208f96d-876c-49c4-a169-2bb1bd1746cd",
   "metadata": {},
   "source": [
    "# Съдържание\n",
    "\n",
    "1. Логически изрази и проверки\n",
    "• Оператори за сравнение: ‹, >, ==, !=,...\n",
    "\n",
    "2. Конструкции if u if-else\n",
    "\n",
    "3. Серия от проверки - elif\n",
    "\n",
    "4. Дебъгване"
   ]
  },
  {
   "cell_type": "markdown",
   "id": "37a9217d-31c4-4ee6-a767-8c537fdf06ca",
   "metadata": {},
   "source": [
    "# Сравняване на числа\n",
    "\n"
   ]
  },
  {
   "cell_type": "markdown",
   "id": "07b19919-3a91-4b46-96cc-aae23c1fa032",
   "metadata": {},
   "source": [
    "В програмирането можем да сравняваме стойности чрез следните оператори:\n",
    "\n",
    "- Оператор < (по-малко)\n",
    "\n",
    "- Оператор > (по-голямо)\n",
    "\n",
    "- Оператор <= (по-малко или равно)\n",
    "\n",
    "- Оператор >= (по-голямо или равно)\n",
    "\n",
    "- Оператор == (равно)\n",
    "\n",
    "- Оператор != (различно)\n",
    "\n",
    "При сравнение резултатът е булева стойност – True или False, в зависимост от това дали резултатът от сравнението е истина или лъжа."
   ]
  },
  {
   "cell_type": "markdown",
   "id": "3e13263b-e314-47c6-a7c2-b0c01d6a7dc7",
   "metadata": {},
   "source": [
    "# Примери за сравнение на числа\n"
   ]
  },
  {
   "cell_type": "markdown",
   "id": "62689f75-cff1-4809-82c7-7791ced8f1ec",
   "metadata": {},
   "source": [
    "a = 5\n",
    "\n",
    "\n",
    "b = 10\n",
    "\n",
    "\n",
    "print (a > b)\n",
    "\n",
    "# False\n",
    "print (a == b)\n",
    "\n",
    "# False\n",
    "print (a ‹ 10)\n",
    "\n",
    "# True\n",
    "print (b < 10)\n",
    "\n",
    "# False.\n",
    "print (a != b)\n",
    "\n",
    "# True\n",
    "print (b >= 10)\n",
    "\n",
    "# True\n",
    "\n",
    "print (b == a *2)\n",
    "# True\n"
   ]
  },
  {
   "cell_type": "markdown",
   "id": "d26bf5cd-807e-465f-9ac9-40298214a4b2",
   "metadata": {},
   "source": [
    "Обърнете внимание, че при отпечатване на стойностите true и false в езика Python, те се отпечатват с главна буква, съответно True и False."
   ]
  },
  {
   "cell_type": "markdown",
   "id": "987a3bab-920b-42cd-b2fb-90ce4a8b704f",
   "metadata": {},
   "source": [
    "# Оператори за сравнение\n",
    "\n",
    "В езика Python можем да използваме следните оператори за сравнение на данни:"
   ]
  },
  {
   "cell_type": "markdown",
   "id": "7dd0c769-9271-409b-a358-1207038303b8",
   "metadata": {},
   "source": [
    "# Прости проверки\n"
   ]
  },
  {
   "cell_type": "markdown",
   "id": "3c23b300-9d48-4fb3-b450-3f9e8d10f067",
   "metadata": {},
   "source": [
    "В програмирането често проверяваме дадени условия и извършваме различни действия, спрямо резултата от тези проверки. \n",
    "Проверките извършваме посредством if клаузи, които имат следната конструкция:\n",
    "\n"
   ]
  },
  {
   "cell_type": "markdown",
   "id": "71c23dce-b5f9-41a5-a306-3ec2779ca255",
   "metadata": {},
   "source": [
    "# Сравняване на стойности (2)\n",
    "\n",
    "• Сравняване на текст чрез ==\n",
    "\n",
    "a = 'Example'\n",
    "b = a\n",
    "print(a == b) // true\n",
    "\n",
    "a = input()\n",
    "b = input()\n",
    "print(a == b);"
   ]
  },
  {
   "cell_type": "markdown",
   "id": "49655029-1910-4db1-b923-91408129e68c",
   "metadata": {},
   "source": [
    "# Пример: отлична оценка\n"
   ]
  },
  {
   "cell_type": "markdown",
   "id": "9b6b9300-ba11-4717-8b22-699a0228ae6d",
   "metadata": {},
   "source": [
    "Въвеждаме оценка в конзолата и проверяваме дали тя е отлична (≥ 5.50).\n",
    "\n"
   ]
  },
  {
   "cell_type": "code",
   "execution_count": 9,
   "id": "f1f4b46c-6962-49c3-adc6-0333b5187ab4",
   "metadata": {},
   "outputs": [
    {
     "name": "stdin",
     "output_type": "stream",
     "text": [
      " 5.65\n"
     ]
    },
    {
     "name": "stdout",
     "output_type": "stream",
     "text": [
      "Excellent!\n"
     ]
    }
   ],
   "source": [
    "grade = float (input ())\n",
    "if grade >= 5.5:\n",
    "    print (\"Excellent!\")"
   ]
  },
  {
   "cell_type": "code",
   "execution_count": 10,
   "id": "8caf2553-ea5a-48dc-a2b2-dcf6dfcbec30",
   "metadata": {},
   "outputs": [
    {
     "name": "stdin",
     "output_type": "stream",
     "text": [
      " 5.23\n"
     ]
    },
    {
     "name": "stdout",
     "output_type": "stream",
     "text": [
      "Not your best\n"
     ]
    }
   ],
   "source": [
    "grade = float (input ())\n",
    "if grade >= 5.5:\n",
    "    print (\"Excellent!\")\n",
    "else:\n",
    "    print(\"Not your best\")"
   ]
  },
  {
   "cell_type": "markdown",
   "id": "b2125899-84ba-4bbb-9bf4-43700a6ee7a0",
   "metadata": {},
   "source": [
    "Тествайте кода от примера локално. Опитайте да въведете различни оценки, например 4.75, 5.49, 5.50 и 6.00. При оценки по-малки от 5.50 програмата няма да изведе нищо, а при оценка 5.50 или по-голяма, ще изведе \"Excellent!\".\n",
    "\n"
   ]
  },
  {
   "cell_type": "markdown",
   "id": "b7e1ef0b-4ed5-4c1a-afc4-4f30ed39f559",
   "metadata": {},
   "source": [
    "# Проверки с if-else конструкция\n"
   ]
  },
  {
   "cell_type": "markdown",
   "id": "75bcc80c-36e0-4dfb-af5c-3732d02ce61e",
   "metadata": {},
   "source": [
    "Конструкцията if може да съдържа и else клауза, с която да окажем конкретно действие в случай, че булевият израз (който е зададен в началото if булев израз) върне отрицателен резултат (False). Така построена, условната конструкция наричаме if-else и поведението ѝ е следното: ако резултатът от условието е позитивен (True) - извършваме едни действия, a когато е негативен (False) - други. Форматът на конструкцията е:"
   ]
  },
  {
   "cell_type": "markdown",
   "id": "51e00588-7cc9-416f-a589-79009d47a6a9",
   "metadata": {},
   "source": [
    "• Често проверяваме условия и извршваме действия според резултата"
   ]
  },
  {
   "cell_type": "raw",
   "id": "17fc3f2a-f6e5-4b50-937a-a2cdadd2d9f8",
   "metadata": {},
   "source": [
    "if 1 + 2 > 0:\n",
    "    print('3 > 0')"
   ]
  },
  {
   "cell_type": "raw",
   "id": "ed9a63c2-8dc3-4784-bdfb-7a4d17f90943",
   "metadata": {},
   "source": [
    "if условие:\n",
    "    # тяло на условната конструкция\n",
    "else:\n",
    "    # тяло на else конструкция"
   ]
  },
  {
   "cell_type": "markdown",
   "id": "3909f296-d594-4b35-92d3-6af5bdbd1369",
   "metadata": {},
   "source": [
    "# За блокoвете от код\n"
   ]
  },
  {
   "cell_type": "markdown",
   "id": "f4b6a9f6-f9ff-4c83-a285-54f5dc86acc0",
   "metadata": {},
   "source": [
    "Чрез табулация създаваме блок от код, чрез който може да се изпълняват група от команди. Когато имаме код в if, elif, else (и други конструкции) и искаме да изпълним поредица от операции, ги поставяме в блок след условието.\n",
    "\n",
    "Ето един пример за лоша индентация:\n",
    "\n",
    "\n",
    "\n"
   ]
  },
  {
   "cell_type": "markdown",
   "id": "e24a5afa-4242-4673-84a7-4d64195c3094",
   "metadata": {},
   "source": [
    "Табулациите въвеждат блок от код (група команди)\n"
   ]
  },
  {
   "cell_type": "code",
   "execution_count": 14,
   "id": "ff495113-0ba2-4f09-ada8-68f4568a45df",
   "metadata": {},
   "outputs": [
    {
     "ename": "SyntaxError",
     "evalue": "invalid character '›' (U+203A) (3255458572.py, line 6)",
     "output_type": "error",
     "traceback": [
      "\u001b[0;36m  Input \u001b[0;32mIn [14]\u001b[0;36m\u001b[0m\n\u001b[0;31m    elif secondNum › firstNum:\u001b[0m\n\u001b[0m                   ^\u001b[0m\n\u001b[0;31mSyntaxError\u001b[0m\u001b[0;31m:\u001b[0m invalid character '›' (U+203A)\n"
     ]
    }
   ],
   "source": [
    "firstNum = 4\n",
    "secondNum = 1\n",
    "result = 0\n",
    "if firstNum > secondNum:\n",
    "    result = firstNum - secondNum\n",
    "elif secondNum › firstNum:\n",
    "    result = secondNum - firstNum\n",
    "print (result)"
   ]
  },
  {
   "cell_type": "raw",
   "id": "780f3c45-8b94-42ec-b938-1ef49447a42a",
   "metadata": {},
   "source": [
    "Според СофтУни отговорът на конзолата трябва да е 3"
   ]
  },
  {
   "cell_type": "markdown",
   "id": "7c03a22d-6958-484c-8350-1ea9ba8a1abf",
   "metadata": {},
   "source": [
    "# Пример: четно или нечетно\n",
    "\n"
   ]
  },
  {
   "cell_type": "markdown",
   "id": "472fc672-c8e2-4620-a4fd-bb082231b33d",
   "metadata": {},
   "source": [
    "Да се напише програма, която проверява, дали дадено цяло число е четно (even) или нечетно (odd).\n",
    "\n",
    "Задачата можем да решим с помощта на една if-else конструкция и оператора %, който връща остатък при деление на две числа:"
   ]
  },
  {
   "cell_type": "code",
   "execution_count": 17,
   "id": "25e2dda6-d44c-4384-8984-737d17ce3eac",
   "metadata": {},
   "outputs": [
    {
     "name": "stdin",
     "output_type": "stream",
     "text": [
      " 3\n"
     ]
    },
    {
     "name": "stdout",
     "output_type": "stream",
     "text": [
      "The number you entered is odd!\n"
     ]
    }
   ],
   "source": [
    "number = int(input())\n",
    "\n",
    "if number % 2 == 0:\n",
    "    print(\"The number you entered is even!\")\n",
    "else:\n",
    "    print(\"The number you entered is odd!\")"
   ]
  },
  {
   "cell_type": "markdown",
   "id": "941513c4-f2f5-4a8e-84ef-602395379d81",
   "metadata": {},
   "source": [
    "# Пример: по-голямото число\n"
   ]
  },
  {
   "cell_type": "markdown",
   "id": "d52efdb5-3ca2-434c-9a32-3c37feca948e",
   "metadata": {},
   "source": [
    "Да се напише програма, която чете две цели числа и извежда по-голямото от тях.\n",
    "\n",
    "Първата ни подзадача е да прочетем двете числа. След което, чрез проста if-else конструкция, в съчетание с оператора за по-голямо (>), да направим проверка. \n",
    "Кодът е замъглен умишлено и трябва да бъде довършен от читателя:"
   ]
  },
  {
   "cell_type": "code",
   "execution_count": 18,
   "id": "d14ddbdc-dede-4a8d-8a17-a8cc56bf0980",
   "metadata": {},
   "outputs": [
    {
     "name": "stdout",
     "output_type": "stream",
     "text": [
      "Please enter two integers below:\n"
     ]
    },
    {
     "name": "stdin",
     "output_type": "stream",
     "text": [
      " 22\n",
      " 12\n"
     ]
    },
    {
     "name": "stdout",
     "output_type": "stream",
     "text": [
      "The first number is bigger! \n"
     ]
    }
   ],
   "source": [
    "print(\"Please enter two integers below:\")\n",
    "first_int = int(input())\n",
    "second_int = int(input())\n",
    "\n",
    "if first_int > second_int:\n",
    "    print(\"The first number is bigger! \")\n",
    "elif second_int > first_int:\n",
    "    print(\"The second number is bigger! \")"
   ]
  },
  {
   "cell_type": "markdown",
   "id": "d6870163-96c8-4be0-b6ec-903c33df87aa",
   "metadata": {},
   "source": [
    "# Живот на променлива\n"
   ]
  },
  {
   "cell_type": "markdown",
   "id": "3ba5f654-417e-47f8-be4c-c18a1dd0dfb8",
   "metadata": {},
   "source": [
    "Всяка една променлива си има обхват, в който съществува, наречен variable scope. \n",
    "Този обхват уточнява къде една променлива може да бъде използвана. \n",
    "В езика Python променливите могат да бъдат използвани навсякъде, стига да сa инициализирани поне веднъж."
   ]
  },
  {
   "cell_type": "raw",
   "id": "983aaf73-d0f4-4678-b57a-0ae102f44fe8",
   "metadata": {},
   "source": [
    "В примера по-долу, на последния ред, на който се опитваме да отпечатаме променливата my_name, която е дефинирана в else конструкцията, ще получим грешка, защото в конкретния случай не се е изпълнило тялото на else клаузата, в която инициализираме променливата. Но отпечатването на променливата can_drive е безпроблемно, защото програмата е влязла в тялото на if клаузата и е инициализирала променливата. Както забелязвате обаче променливите can_drive и my_name за оцветени в жълто. Това е предупреждение от PyCharm, че е възможно да получим грешка. Затова е най-добре да внимаваме с това къде инициализираме променливите."
   ]
  },
  {
   "cell_type": "markdown",
   "id": "44004b46-0815-4508-925f-891603e60095",
   "metadata": {},
   "source": [
    "# Серии от проверки\n"
   ]
  },
  {
   "cell_type": "raw",
   "id": "426dbbbe-00a5-4304-976e-b1cba4c5b946",
   "metadata": {},
   "source": [
    "Понякога се налага да извършим серия от проверки, преди да решим какви действия ще изпълнява нашата програма. В такива случаи, можем да приложим конструкцията if-elif ... else в серия. За целта използваме следния формат:"
   ]
  },
  {
   "cell_type": "raw",
   "id": "bda97dcc-2153-4770-afa0-7fc61b6f56c2",
   "metadata": {},
   "source": [
    "if условие:\n",
    "    # тяло на условната конструкция\n",
    "elif условие2:\n",
    "    # тяло на условната конструкция\n",
    "elif условие3:\n",
    "    # тяло на условната конструкция\n",
    "…\n",
    "else:\n",
    "    # тяло на else конструкция"
   ]
  },
  {
   "cell_type": "markdown",
   "id": "6ac22996-707d-46a5-b171-a711e75d2268",
   "metadata": {},
   "source": [
    "# Пример: число от 1 до 9 на английски\n"
   ]
  },
  {
   "cell_type": "raw",
   "id": "37cfb6f7-75e0-4dbf-94ad-19246668e4fb",
   "metadata": {},
   "source": [
    "Да се изпише число в интервала от 1 до 9 с текст на английски език (числото се чете от конзолата). Можем да прочетем числото и след това чрез серия от проверки отпечатваме съответстващата му английска дума:\n",
    "\n"
   ]
  },
  {
   "cell_type": "raw",
   "id": "3622ba6b-5ae9-42f9-a8b7-e175bd3b5bad",
   "metadata": {},
   "source": [
    "number = int(input())\n",
    "\n",
    "if number == 1:\n",
    "    print(\"one\")\n",
    "elif num == 2:\n",
    "    print(\"two\")\n",
    "elif …:\n",
    "    …\n",
    "elif num == 9:\n",
    "    print(\"nine\")\n",
    "else: \n",
    "    print(\"number too big\")"
   ]
  },
  {
   "cell_type": "raw",
   "id": "85ddb132-2a0a-4cca-8725-46cedd0d2973",
   "metadata": {},
   "source": [
    "Програмната логика от примера по-горе последователно сравнява входното число от конзолата с цифрите от 1 до 9, като всяко следващо сравнение се извършва, само в случай че предходното сравнение не е било истина. В крайна сметка, ако никое от if условията не е изпълнено, се изпълнява последната else клаузa.\n",
    "\n"
   ]
  },
  {
   "cell_type": "markdown",
   "id": "8169e4c2-2a00-4ff9-9131-b84f2831bbe9",
   "metadata": {},
   "source": [
    "# Упражнения: прости проверки\n"
   ]
  },
  {
   "cell_type": "markdown",
   "id": "4dc1c6a8-e60d-4ea9-8c41-2a92cbfeb597",
   "metadata": {},
   "source": [
    "Във файла с .py файловете"
   ]
  },
  {
   "cell_type": "markdown",
   "id": "20a10dcd-e7e0-40b2-ab0c-eedc0f22cb7b",
   "metadata": {
    "tags": []
   },
   "source": [
    "# Дебъгване\n",
    "\n",
    "# Дебъгване - прости операции с дебъгер"
   ]
  },
  {
   "cell_type": "markdown",
   "id": "ca012082-0ac8-40a5-87aa-9124670b41ca",
   "metadata": {},
   "source": [
    "До момента писахме доста код и често пъти в него имаше грешки, нали? Сега ще покажем един инструмент, с който можем да намираме грешките по-лесно.\n",
    "\n"
   ]
  },
  {
   "cell_type": "markdown",
   "id": "19a9edb2-7635-4b13-9668-c454eaf3d10f",
   "metadata": {},
   "source": [
    "- Какво е \"дебъгване\"?\n",
    "\n",
    "Дебъгване е процесът на \"закачане\" към изпълнението на програмата, който ни позволява да проследим поетапно процеса на изпълнение. Можем да следим ред по ред какво се случва с нашата програма, какъв път следва, какви стойности имат дефинираните променливи на всяка стъпка от изпълнението на програмата и много други неща, които ни позволяват да откриваме грешки (бъгове):"
   ]
  },
  {
   "cell_type": "markdown",
   "id": "47729992-1526-42ae-bd60-2fbde8d92551",
   "metadata": {},
   "source": [
    "# Дебъгване в PyCharm\n",
    "\n",
    "Чрез натискане на [Shift + F9], стартираме програмата в Debug режим. Преминаваме към следващия ред на изпълнение с [F7]:"
   ]
  },
  {
   "cell_type": "raw",
   "id": "b1df62ae-c392-4ad7-bac7-2eca34352400",
   "metadata": {},
   "source": [
    "Чрез [Ctrl + F8] създаваме стопери - така наречените breakpoints, до които можем да стигнем директно използвайки [Shift + F9] (при стартирането на програмата в Debug режим).\n",
    "\n"
   ]
  },
  {
   "cell_type": "markdown",
   "id": "121b7195-e18d-4d3e-80c6-cb5a7b49025e",
   "metadata": {},
   "source": [
    "# End"
   ]
  }
 ],
 "metadata": {
  "kernelspec": {
   "display_name": "Python 3 (ipykernel)",
   "language": "python",
   "name": "python3"
  },
  "language_info": {
   "codemirror_mode": {
    "name": "ipython",
    "version": 3
   },
   "file_extension": ".py",
   "mimetype": "text/x-python",
   "name": "python",
   "nbconvert_exporter": "python",
   "pygments_lexer": "ipython3",
   "version": "3.9.12"
  }
 },
 "nbformat": 4,
 "nbformat_minor": 5
}
