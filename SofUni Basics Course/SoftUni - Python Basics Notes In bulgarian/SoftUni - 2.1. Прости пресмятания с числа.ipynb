{
 "cells": [
  {
   "cell_type": "markdown",
   "id": "0be451a1-a4bf-4cb1-ba37-ff2c1137bdc6",
   "metadata": {},
   "source": [
    "# Глава 2.1. Прости пресмятания с числа\n"
   ]
  },
  {
   "cell_type": "markdown",
   "id": "1ee567f9-bd69-48dd-a60b-801a93f2d300",
   "metadata": {},
   "source": [
    "- Сьдържание\n",
    "\n",
    "1. Променливи и типове данни\n",
    "\n",
    "2. Четене на потребителски вход\n",
    "\n",
    "3. Прости операции\n",
    "\n",
    "• Работа с текст\n",
    "\n",
    "• Работа с числа\n",
    "\n",
    "4. Печатане на конзолата\n",
    "\n",
    "• Форматиране на"
   ]
  },
  {
   "cell_type": "markdown",
   "id": "393706f0-6fed-4aa3-8235-894ae99b15a5",
   "metadata": {},
   "source": [
    "# 1. Променливи и типове данни\n"
   ]
  },
  {
   "cell_type": "markdown",
   "id": "327c2eff-6829-47b8-86e9-f578852f39e4",
   "metadata": {},
   "source": [
    "- Пресмятания в програмирането"
   ]
  },
  {
   "cell_type": "markdown",
   "id": "087417a7-acf0-4f43-a934-db99ee1d9288",
   "metadata": {},
   "source": [
    "За компютрите знаем, че са машини, които обработват данни. Всички данни се записват в компютърната памет (RAM памет) в променливи. Променливите са именувани области от паметта, които пазят данни от определен тип, например число или текст. Всяка една променлива в Python има име и стойност. Ето как бихме дефинирали една променлива, като едновременно с декларацията ѝ, ѝ присвояваме и стойност:"
   ]
  },
  {
   "cell_type": "markdown",
   "id": "58b1c504-c1e2-47bb-aa9b-35c8ff1e01c0",
   "metadata": {},
   "source": [
    "count = 5 \n",
    "\n",
    "count e името на променливата (или variable)\n",
    "\n",
    "5 в рози случай е стойността"
   ]
  },
  {
   "cell_type": "markdown",
   "id": "e170314e-1d3f-4f03-9c7e-0191ab835840",
   "metadata": {},
   "source": [
    "След тяхната обработка, данните се записват отново в променливи (т.е. някъде в паметта, заделена от нашата програма).\n",
    "\n"
   ]
  },
  {
   "cell_type": "markdown",
   "id": "f7c2670a-f15a-49bf-9e45-c49c26cf0c2f",
   "metadata": {},
   "source": [
    "- Типове данни и променливи\n"
   ]
  },
  {
   "cell_type": "markdown",
   "id": "cbcdea9a-a2eb-4796-ba90-213aab99787a",
   "metadata": {},
   "source": [
    "В програмирането всяка една променлива съхранява определена стойност от даден тип. Типовете данни могат да бъдат например: число, буква, текст (стринг), дата, цвят, картинка, списък и др. Ето няколко примера за типове данни и стойности за тях:"
   ]
  },
  {
   "cell_type": "markdown",
   "id": "0442aabf-2fee-4b3d-bb40-0ede7aee7f7c",
   "metadata": {},
   "source": [
    "int - цяло число: 1, 2, 3, 4, 5, ...\n",
    "\n",
    "float - дробно число: 0.5, 3.14, -1.5, ...\n",
    "\n",
    "str - текст (низ) от символи: 'a', 'Здрасти', 'Hi', 'Beer', ...\n",
    "\n",
    "datetime - дата: 21-12-2017, 25/07/1995, ..."
   ]
  },
  {
   "cell_type": "markdown",
   "id": "1bb15c77-0bb2-4170-8abd-cd8413fff8ab",
   "metadata": {},
   "source": [
    "В езика Python типът се определя от стойността, която се присвоява и не се задава изрично при декларирането на променливи (за разлика от C#, Java и C++)."
   ]
  },
  {
   "cell_type": "markdown",
   "id": "55dd13af-5823-4b74-b6ee-5665bb173a74",
   "metadata": {},
   "source": [
    "- Печатане на резултат на екрана\n",
    "\n",
    "За да изпечатаме текст, число или друг резултат на екрана, е необходимо да извикаме вградената функция print(). С нея можем да принтираме както стойността на променлива, така и директно текст или число:"
   ]
  },
  {
   "cell_type": "code",
   "execution_count": 1,
   "id": "8275d94d-1556-4587-8623-3f4270967924",
   "metadata": {},
   "outputs": [
    {
     "name": "stdout",
     "output_type": "stream",
     "text": [
      "9\n",
      "Hello!\n",
      "Hello, Python!\n"
     ]
    }
   ],
   "source": [
    "print(9)  # печатане на число\n",
    "\n",
    "print('Hello!')  # печатане на текст\n",
    "\n",
    "msg = 'Hello, Python!'\n",
    "print(msg)  # печатане на стойност на променлива"
   ]
  },
  {
   "cell_type": "markdown",
   "id": "3b186cdf-fbcf-418c-8534-a5fe5382b4b6",
   "metadata": {},
   "source": [
    "- Четене на потребителски вход, под формата на цяло число\n",
    "\n",
    "За да прочетем потребителски вход под формата на цяло число, е необходимо да декларираме променлива и да използваме вградените функции input(…) за четене на текстов ред от конзолата и int(…) за преобразуване на текстова стойност към числена:"
   ]
  },
  {
   "cell_type": "code",
   "execution_count": 2,
   "id": "3ae4ce84-bcff-4c14-97a2-fab12d339f98",
   "metadata": {},
   "outputs": [
    {
     "name": "stdin",
     "output_type": "stream",
     "text": [
      " 3\n"
     ]
    }
   ],
   "source": [
    "num = int(input())\n"
   ]
  },
  {
   "cell_type": "markdown",
   "id": "bdb5bbaf-cf81-4921-9793-1a2c2467f611",
   "metadata": {},
   "source": [
    "Ако това преобразуване не се направи, за програмата всяко едно число ще бъде просто текст, с който не бихме могли да извършваме аритметични операции. При извикването на input(…) можем да подадем подканващо съобщение за потребителя, с което да го насочим какво искаме от него да въведе, примерно:\n",
    "\n"
   ]
  },
  {
   "cell_type": "code",
   "execution_count": 3,
   "id": "fb698397-fafd-4bd6-90b6-78fa576a861f",
   "metadata": {},
   "outputs": [
    {
     "name": "stdin",
     "output_type": "stream",
     "text": [
      "Enter the size =  15\n"
     ]
    }
   ],
   "source": [
    "size = int(input('Enter the size = '))\n"
   ]
  },
  {
   "cell_type": "markdown",
   "id": "e96b72a3-6dad-48c3-9d33-5cbb31b0c8c2",
   "metadata": {},
   "source": [
    "# Пример: пресмятане на лице на квадрат със страна а\n"
   ]
  },
  {
   "cell_type": "markdown",
   "id": "403b9fef-1cd7-4e75-8906-3461673af606",
   "metadata": {},
   "source": [
    "За пример да вземем следната програма, която прочита цяло число, умножава го по него самото (т.е. вдига го на квадрат) и отпечатва резултата от умножението. Така можем да пресметнем лицето на квадрат по дадена дължина на страната:"
   ]
  },
  {
   "cell_type": "code",
   "execution_count": 6,
   "id": "62cbc1d6-0372-4946-af67-cd26af0df8a3",
   "metadata": {},
   "outputs": [
    {
     "name": "stdin",
     "output_type": "stream",
     "text": [
      "a =  5\n"
     ]
    },
    {
     "name": "stdout",
     "output_type": "stream",
     "text": [
      "Square area =  25\n"
     ]
    }
   ],
   "source": [
    "a = int(input('a = ')) # empty input()\n",
    "area = a * a # the formula for square area\n",
    "print('Square area = ', area)"
   ]
  },
  {
   "cell_type": "markdown",
   "id": "79866926-cc8c-47ac-9443-2ec062f1cd25",
   "metadata": {},
   "source": [
    "- Как работи примерът?\n"
   ]
  },
  {
   "cell_type": "markdown",
   "id": "5e23637a-c84a-427c-8538-1205ed87f8a6",
   "metadata": {},
   "source": [
    "Първият ред a = int(input('a = ')) печата информативно съобщение, което подканва потребителя да въведе страната на квадрата a, след това прочита текст (стринг) и го преобразува до цяло число (извършва се т.нар. парсване) чрез функцията int(…). Резултатът се записва в променлива с име a.\n",
    "\n",
    "Следващата команда area = a * a записва в нова променлива area резултата от умножението на a по a.\n",
    "\n",
    "Последният ред print('Square area = ', area) отпечатва посочения текст, като до него долепя изчисленото лице на квадрата, който сме записали в променливата area."
   ]
  },
  {
   "cell_type": "markdown",
   "id": "805b9296-dbd0-4c1a-891e-f87c4c0ca5fb",
   "metadata": {},
   "source": [
    "- Тестване в Judge системата\n"
   ]
  },
  {
   "cell_type": "markdown",
   "id": "25da026a-9961-40b9-abc6-4b2f03344449",
   "metadata": {},
   "source": [
    "Тествайте решението си тук: https://judge.softuni.org/Contests/Practice/Index/1047#0.\n",
    "\n"
   ]
  },
  {
   "cell_type": "markdown",
   "id": "9e899414-d118-4a3f-8067-6df60e2d5bf8",
   "metadata": {},
   "source": [
    "- Четене на поредица числа\n"
   ]
  },
  {
   "cell_type": "markdown",
   "id": "64243af1-bbda-49ff-bdfb-26027fa5da4b",
   "metadata": {},
   "source": [
    "Когато искаме да прочетем няколко числа от конзолата, ако те са дадени всяко на отделен ред, ги четем последователно ето така:\n",
    "\n"
   ]
  },
  {
   "cell_type": "code",
   "execution_count": 8,
   "id": "8f5bd56d-d547-4ac4-b8ec-60e7a00146e2",
   "metadata": {},
   "outputs": [
    {
     "name": "stdin",
     "output_type": "stream",
     "text": [
      " 10\n",
      " 20\n",
      " 30\n"
     ]
    },
    {
     "name": "stdout",
     "output_type": "stream",
     "text": [
      "10 20 30\n"
     ]
    }
   ],
   "source": [
    "num1 = input()\n",
    "num2 = input()\n",
    "num3 = input()\n",
    "print(num1, num2, num3)"
   ]
  },
  {
   "cell_type": "markdown",
   "id": "5fe8d845-217c-4fd9-94c9-8eb5903775c8",
   "metadata": {},
   "source": [
    "Когато искаме да прочетем няколко числа от конзолата и те са дадени заедно на един ред, разделени с интервал, можем да използваме следна конструкция:\n",
    "\n"
   ]
  },
  {
   "cell_type": "code",
   "execution_count": null,
   "id": "e5b55820-3cf3-4551-94ab-ce681e83d004",
   "metadata": {},
   "outputs": [],
   "source": [
    "num1, num2, num3 = map(int, input().split())\n",
    "print(num1 + num2 + num3)"
   ]
  },
  {
   "cell_type": "markdown",
   "id": "614bd2f6-c52d-4ea2-a46d-2fcd2f3e551e",
   "metadata": {},
   "source": [
    "Как работи горният код? Чрез .split(…) разделяме елементите на въведения текстов ред по разделител интервал. Ако въведем горния вход, ще получим 3 елемента: '100', '200' и '300'. След това чрез функцията map(int, elements) преобразуваме поредицата елементи от текст към число."
   ]
  },
  {
   "cell_type": "markdown",
   "id": "9a1b7d7d-b832-4f7f-9c36-4890519c5fa8",
   "metadata": {},
   "source": [
    "- Четене на дробно число\n"
   ]
  },
  {
   "cell_type": "markdown",
   "id": "4a6f158e-0228-4b54-8662-b60962569e41",
   "metadata": {},
   "source": [
    "За да прочетем потребителски вход под формата на дробно число, отново е необходимо да декларираме променлива, но този път ще използваме функцията float(…), която преобразува прочетената текстова стойност към числена:"
   ]
  },
  {
   "cell_type": "code",
   "execution_count": 12,
   "id": "204cb73d-fa4f-4a62-9d10-4fc5077cd370",
   "metadata": {},
   "outputs": [
    {
     "name": "stdin",
     "output_type": "stream",
     "text": [
      " 1.2\n"
     ]
    }
   ],
   "source": [
    "num = float(input())\n"
   ]
  },
  {
   "cell_type": "markdown",
   "id": "b49db6bb-b52e-4471-b7d3-4dd210fd8ae1",
   "metadata": {},
   "source": [
    "- Пример: прехвърляне от инчове в сантиметри\n",
    "\n",
    "Да напишем програма, която чете дробно число в инчове и го обръща в сантиметри:\n",
    "\n"
   ]
  },
  {
   "cell_type": "code",
   "execution_count": 14,
   "id": "dfd99c59-f921-4382-a465-77c9ad6026fa",
   "metadata": {},
   "outputs": [
    {
     "name": "stdin",
     "output_type": "stream",
     "text": [
      "Inches =  8.1\n"
     ]
    },
    {
     "name": "stdout",
     "output_type": "stream",
     "text": [
      "Centimeters =  20.573999999999998\n"
     ]
    }
   ],
   "source": [
    "inches = float(input('Inches = '))\n",
    "centimeters = inches * 2.54\n",
    "print('Centimeters = ', centimeters)"
   ]
  },
  {
   "cell_type": "markdown",
   "id": "0f2d0432-1c6b-43bf-b4e5-9a1075743e1c",
   "metadata": {},
   "source": [
    "- Четене на вход под формата на текст:\n",
    "    \n",
    "За да прочетем текст (стринг) от конзолата, отново декларираме нова променлива и използваме стандартната команда за четене от конзолата:"
   ]
  },
  {
   "cell_type": "code",
   "execution_count": 15,
   "id": "a6411906-f524-41fd-888b-29489f704de7",
   "metadata": {},
   "outputs": [
    {
     "name": "stdin",
     "output_type": "stream",
     "text": [
      " pb\n"
     ]
    }
   ],
   "source": [
    "str = input()\n"
   ]
  },
  {
   "cell_type": "markdown",
   "id": "e47bec3d-e94e-4465-911f-322d2cbb5a2f",
   "metadata": {},
   "source": [
    "- Пример: поздрав по име\n",
    "\n",
    "Да напишем програма, която въвежда името на потребителя и го поздравява с текста \"Hello, {име}!\"."
   ]
  },
  {
   "cell_type": "code",
   "execution_count": 16,
   "id": "2225c2e6-b86b-4b25-b437-b4845f27707a",
   "metadata": {},
   "outputs": [
    {
     "name": "stdin",
     "output_type": "stream",
     "text": [
      " Alex\n"
     ]
    },
    {
     "name": "stdout",
     "output_type": "stream",
     "text": [
      "Hello, Alex!"
     ]
    }
   ],
   "source": [
    "name = input()\n",
    "print('Hello, ', end='')\n",
    "print(name, end='!')"
   ]
  },
  {
   "cell_type": "markdown",
   "id": "e150d2b3-d103-48f1-923f-ca78157fd05a",
   "metadata": {},
   "source": [
    "По подразбиране вградената функция print(…) печата резултат и отива на следващия ред. Това е така, защото print(…) използва параметъра end, който по подразбиране има стойност \\n (нов ред). За да останем на същия ред, може да променим стойността на end=''."
   ]
  },
  {
   "cell_type": "markdown",
   "id": "a273851a-93e7-4ba2-8fc6-af854b378d01",
   "metadata": {},
   "source": [
    "- Съединяване на текст и числа\n",
    "\n",
    "При печат на текст, числа и други данни, можем да ги съединим, като използваме шаблони {0}, {1}, {2} и т.н. В програмирането тези шаблони се наричат placeholders.\n",
    "\n",
    "В Python използваме вградения метод .format(…), чрез който изреждаме променливите, които искаме да се поставят на мястото на шаблоните (плейсхолдърите). Пример: въвеждаме име и фамилия на курсист, неговата възраст и от град е и отпечатваме текст в стил “You are {име} {фамилия}, a {възраст}-years old person from {град}.”. Ето едно решение с текстови шаблони:"
   ]
  },
  {
   "cell_type": "code",
   "execution_count": 17,
   "id": "35fd80d9-32c7-400e-992c-f6231cad92d1",
   "metadata": {},
   "outputs": [
    {
     "name": "stdin",
     "output_type": "stream",
     "text": [
      " Alex\n",
      " Peshev\n",
      " 34\n",
      " London, UK\n"
     ]
    },
    {
     "name": "stdout",
     "output_type": "stream",
     "text": [
      "You are Alex Peshev, a 34-years old person from London, UK.\n"
     ]
    }
   ],
   "source": [
    "first_name = input()\n",
    "last_name = input()\n",
    "age = int(input())\n",
    "town = input()\n",
    "\n",
    "print('You are {0} {1}, a {2}-years old person from {3}.'\n",
    "      .format(first_name, last_name, age, town))\n"
   ]
  },
  {
   "cell_type": "markdown",
   "id": "69401bd8-4afc-46e9-980c-59d915a155dc",
   "metadata": {},
   "source": [
    "Обърнете внимание как всяка една променлива трябва да бъде подадена в реда, в който искаме да се печата. По същество, шаблонът (placeholder) приема променливи от всякакъв вид и това създава голямо удобство при печатане.\n",
    "\n"
   ]
  },
  {
   "cell_type": "markdown",
   "id": "2b073034-4a50-4cfb-834e-ee1dc4af49a7",
   "metadata": {},
   "source": [
    "- Още за отпечатването на форматиран текст\n"
   ]
  },
  {
   "cell_type": "markdown",
   "id": "0a054fc3-1a8d-4ddc-ba3f-547726bcf331",
   "metadata": {},
   "source": [
    "Възможно е един и същ номер на шаблон да се използва по няколко пъти и не е задължително шаблоните за функцията .format(…) да са номерирани поредно. Ето пример:\n",
    "\n"
   ]
  },
  {
   "cell_type": "code",
   "execution_count": 18,
   "id": "48ce07ee-397a-485d-b5c8-ae5defcfbb3e",
   "metadata": {},
   "outputs": [
    {
     "name": "stdout",
     "output_type": "stream",
     "text": [
      "1 + 1 = 2\n"
     ]
    }
   ],
   "source": [
    "print('{1} + {1} = {0}'.format(1+1, 1))\n"
   ]
  },
  {
   "cell_type": "markdown",
   "id": "8ff41e75-1e6a-43c8-a67b-924b0c8860c3",
   "metadata": {},
   "source": [
    "- Аритметични операции\n"
   ]
  },
  {
   "cell_type": "markdown",
   "id": "7a0e8a3d-1e8c-47dc-82eb-513fc199a475",
   "metadata": {},
   "source": [
    "Да разгледаме базовите аритметични операции в програмирането.\n",
    "\n"
   ]
  },
  {
   "cell_type": "markdown",
   "id": "a8b51d2b-06ad-40f4-8e71-b9a6ba530b8f",
   "metadata": {},
   "source": [
    "- Събиране на числа: оператор +\n",
    "\n",
    "Можем да събираме числа с оператора +:\n",
    "\n"
   ]
  },
  {
   "cell_type": "code",
   "execution_count": 20,
   "id": "695cd76a-3963-4abf-bf10-bc599a7a6629",
   "metadata": {},
   "outputs": [
    {
     "name": "stdout",
     "output_type": "stream",
     "text": [
      "12\n"
     ]
    }
   ],
   "source": [
    "a = 5\n",
    "b = 7\n",
    "sum = a + b  # резултатът е 12\n",
    "\n",
    "print(sum)"
   ]
  },
  {
   "cell_type": "markdown",
   "id": "3be223e1-9979-4612-9b64-5d6eb14ce2c8",
   "metadata": {},
   "source": [
    "- Изваждане на числа: оператор -\n",
    "\n",
    "Изваждането на числа се извършва с оператора -:\n",
    "\n"
   ]
  },
  {
   "cell_type": "code",
   "execution_count": 21,
   "id": "cf387dfa-0354-4ea1-b1c5-6a715c1db1f4",
   "metadata": {},
   "outputs": [
    {
     "name": "stdin",
     "output_type": "stream",
     "text": [
      " 2\n",
      " 3\n"
     ]
    },
    {
     "name": "stdout",
     "output_type": "stream",
     "text": [
      "-1\n"
     ]
    }
   ],
   "source": [
    "a = int(input())\n",
    "b = int(input())\n",
    "\n",
    "result = a - b\n",
    "print(result)"
   ]
  },
  {
   "cell_type": "markdown",
   "id": "d5e115a0-af37-4f6d-b53d-ed8cf509e8d7",
   "metadata": {},
   "source": [
    "- Умножение на числа: оператор *\n",
    "\n",
    "За умножение на числа използваме оператора *:\n",
    "\n"
   ]
  },
  {
   "cell_type": "code",
   "execution_count": 23,
   "id": "b9746b66-1830-4b69-9998-b65df4aada2f",
   "metadata": {},
   "outputs": [
    {
     "name": "stdout",
     "output_type": "stream",
     "text": [
      "35\n"
     ]
    }
   ],
   "source": [
    "a = 5\n",
    "b = 7\n",
    "product = a * b  # 35\n",
    "\n",
    "print(product)"
   ]
  },
  {
   "cell_type": "markdown",
   "id": "c619fc82-ca94-4488-a33e-85e320b78ada",
   "metadata": {},
   "source": [
    "# Деление на числа: оператор /\n"
   ]
  },
  {
   "cell_type": "markdown",
   "id": "a33f237e-4672-4511-b9b1-38912e749748",
   "metadata": {},
   "source": [
    "Делението на числа се извършва с оператора /.\n",
    "\n",
    "Забележка: Делението на 0 предизвиква грешка по време на изпълнение (runtime exception) - ZeroDivisionError.\n",
    "\n",
    "Ето няколко примера за използване на оператора за делене:"
   ]
  },
  {
   "cell_type": "code",
   "execution_count": 24,
   "id": "4cb5d07c-997b-496a-b041-3cf8bc79f395",
   "metadata": {},
   "outputs": [
    {
     "name": "stdout",
     "output_type": "stream",
     "text": [
      "4.0\n",
      "2.5\n",
      "1.6666666666666667\n"
     ]
    },
    {
     "ename": "ZeroDivisionError",
     "evalue": "division by zero",
     "output_type": "error",
     "traceback": [
      "\u001b[0;31m---------------------------------------------------------------------------\u001b[0m",
      "\u001b[0;31mZeroDivisionError\u001b[0m                         Traceback (most recent call last)",
      "Input \u001b[0;32mIn [24]\u001b[0m, in \u001b[0;36m<cell line: 5>\u001b[0;34m()\u001b[0m\n\u001b[1;32m      2\u001b[0m \u001b[38;5;28mprint\u001b[39m(\u001b[38;5;241m10\u001b[39m \u001b[38;5;241m/\u001b[39m \u001b[38;5;241m4\u001b[39m)   \u001b[38;5;66;03m# Резултат: 2.5\u001b[39;00m\n\u001b[1;32m      3\u001b[0m \u001b[38;5;28mprint\u001b[39m(\u001b[38;5;241m10\u001b[39m \u001b[38;5;241m/\u001b[39m \u001b[38;5;241m6\u001b[39m)   \u001b[38;5;66;03m# Резултат: 1.6666666666666667\u001b[39;00m\n\u001b[0;32m----> 5\u001b[0m \u001b[38;5;28mprint\u001b[39m(\u001b[38;5;241;43m5\u001b[39;49m\u001b[43m \u001b[49m\u001b[38;5;241;43m/\u001b[39;49m\u001b[43m \u001b[49m\u001b[38;5;241;43m0\u001b[39;49m)    \u001b[38;5;66;03m# Резултат: ZeroDivisionError: division by zero\u001b[39;00m\n\u001b[1;32m      6\u001b[0m \u001b[38;5;28mprint\u001b[39m(\u001b[38;5;241m-\u001b[39m\u001b[38;5;241m5\u001b[39m \u001b[38;5;241m/\u001b[39m \u001b[38;5;241m0\u001b[39m)   \u001b[38;5;66;03m# Резултат: ZeroDivisionError: division by zero\u001b[39;00m\n\u001b[1;32m      7\u001b[0m \u001b[38;5;28mprint\u001b[39m(\u001b[38;5;241m0\u001b[39m \u001b[38;5;241m/\u001b[39m \u001b[38;5;241m0\u001b[39m)    \u001b[38;5;66;03m# Резултат: ZeroDivisionError: division by zero\u001b[39;00m\n",
      "\u001b[0;31mZeroDivisionError\u001b[0m: division by zero"
     ]
    }
   ],
   "source": [
    "print(10 / 2.5) # Резултат: 4\n",
    "print(10 / 4)   # Резултат: 2.5\n",
    "print(10 / 6)   # Резултат: 1.6666666666666667\n",
    "\n",
    "print(5 / 0)    # Резултат: ZeroDivisionError: division by zero\n",
    "print(-5 / 0)   # Резултат: ZeroDivisionError: division by zero\n",
    "print(0 / 0)    # Резултат: ZeroDivisionError: division by zero\n",
    "print(2.5 / 0)  # Резултат: ZeroDivisionError: float division by zero"
   ]
  },
  {
   "cell_type": "markdown",
   "id": "5ded6e71-0ef3-4494-a800-279705cf6a42",
   "metadata": {},
   "source": [
    "- Степенуване на числа: оператор ``**\n"
   ]
  },
  {
   "cell_type": "code",
   "execution_count": 25,
   "id": "d43239e5-d530-4349-970d-ae6a32d5d5d3",
   "metadata": {},
   "outputs": [
    {
     "name": "stdout",
     "output_type": "stream",
     "text": [
      "1024\n",
      "1048576\n",
      "1073741824\n",
      "18446744073709551616\n",
      "340282366920938463463374607431768211456\n",
      "3.952847075210474\n"
     ]
    }
   ],
   "source": [
    "# За повдигане на степен в Python използваме оператора **:\n",
    "\n",
    "print(2 ** 10)     # 1024\n",
    "print(2 ** 20)     # 1048576\n",
    "print(2 ** 30)     # 1073741824\n",
    "print(2 ** 64)     # 18446744073709551616\n",
    "print(2 ** 128)    # 340282366920938463463374607431768211456\n",
    "print(2.5 ** 1.5)  # 3.952847075210474"
   ]
  },
  {
   "cell_type": "markdown",
   "id": "7ec17466-2742-458c-bf4b-d93f2e077e3b",
   "metadata": {},
   "source": [
    "Както се вижда от примера, Python работи с лекота с големи целочислени стойности, без специални усилия. Ето един по-голям пример"
   ]
  },
  {
   "cell_type": "code",
   "execution_count": 26,
   "id": "70b97a31-387f-4a5c-81a0-e023497b5689",
   "metadata": {},
   "outputs": [
    {
     "name": "stdout",
     "output_type": "stream",
     "text": [
      "179769313486231590772930519078902473361797697894230657273430081157732675805500963132708477322407536021120113879871393357658789768814416622492847430639474124377767893424865485276302219601246094119453082952085005768838150682342462881473913110540827237163350510684586298239947245938479716304835356329624224137216\n"
     ]
    }
   ],
   "source": [
    "print(2 ** 1024)\n"
   ]
  },
  {
   "cell_type": "markdown",
   "id": "e2ea80fc-d189-4c42-bb61-ebcaa28354ad",
   "metadata": {},
   "source": [
    "-  Съединяване на текст и число\n",
    "\n",
    "Операторът + освен за събиране на числа служи и за съединяване на текст (долепяне на два символни низа един след друг). В програмирането съединяване на текст с още текст или с число наричаме \"конкатенация\". Ето как можем да съединяваме текст и число с оператора +:"
   ]
  },
  {
   "cell_type": "code",
   "execution_count": 27,
   "id": "8d2aa31c-1823-4772-9c52-ce9996d8f1bc",
   "metadata": {},
   "outputs": [
    {
     "ename": "TypeError",
     "evalue": "'str' object is not callable",
     "output_type": "error",
     "traceback": [
      "\u001b[0;31m---------------------------------------------------------------------------\u001b[0m",
      "\u001b[0;31mTypeError\u001b[0m                                 Traceback (most recent call last)",
      "Input \u001b[0;32mIn [27]\u001b[0m, in \u001b[0;36m<cell line: 5>\u001b[0;34m()\u001b[0m\n\u001b[1;32m      2\u001b[0m last_name \u001b[38;5;241m=\u001b[39m \u001b[38;5;124m'\u001b[39m\u001b[38;5;124mIvanova\u001b[39m\u001b[38;5;124m'\u001b[39m\n\u001b[1;32m      3\u001b[0m age \u001b[38;5;241m=\u001b[39m \u001b[38;5;241m19\u001b[39m\n\u001b[0;32m----> 5\u001b[0m \u001b[38;5;28mstr\u001b[39m \u001b[38;5;241m=\u001b[39m first_name \u001b[38;5;241m+\u001b[39m \u001b[38;5;124m'\u001b[39m\u001b[38;5;124m \u001b[39m\u001b[38;5;124m'\u001b[39m \u001b[38;5;241m+\u001b[39m last_name \u001b[38;5;241m+\u001b[39m \u001b[38;5;124m'\u001b[39m\u001b[38;5;124m @ \u001b[39m\u001b[38;5;124m'\u001b[39m \u001b[38;5;241m+\u001b[39m \u001b[38;5;28;43mstr\u001b[39;49m\u001b[43m(\u001b[49m\u001b[43mage\u001b[49m\u001b[43m)\u001b[49m\n\u001b[1;32m      6\u001b[0m \u001b[38;5;28mprint\u001b[39m(\u001b[38;5;28mstr\u001b[39m)\n",
      "\u001b[0;31mTypeError\u001b[0m: 'str' object is not callable"
     ]
    }
   ],
   "source": [
    "first_name = 'Maria'\n",
    "last_name = 'Ivanova'\n",
    "age = 19\n",
    "\n",
    "str = first_name + ' ' + last_name + ' @ ' + str(age)\n",
    "print(str)  # Maria Ivanova @ 19"
   ]
  },
  {
   "cell_type": "markdown",
   "id": "7cd1d52a-df6c-4c6d-b238-23596d9f6567",
   "metadata": {},
   "source": [
    "В Python не можем директно да долепяме (конкатенираме) число към даден текст и затова първо превръщане числото към текст с функцията str(…)."
   ]
  },
  {
   "cell_type": "code",
   "execution_count": 28,
   "id": "5b48f049-3839-43a6-9ce6-bb7edee1cab8",
   "metadata": {},
   "outputs": [
    {
     "ename": "TypeError",
     "evalue": "'str' object is not callable",
     "output_type": "error",
     "traceback": [
      "\u001b[0;31m---------------------------------------------------------------------------\u001b[0m",
      "\u001b[0;31mTypeError\u001b[0m                                 Traceback (most recent call last)",
      "Input \u001b[0;32mIn [28]\u001b[0m, in \u001b[0;36m<cell line: 6>\u001b[0;34m()\u001b[0m\n\u001b[1;32m      3\u001b[0m a \u001b[38;5;241m=\u001b[39m \u001b[38;5;241m1.5\u001b[39m\n\u001b[1;32m      4\u001b[0m b \u001b[38;5;241m=\u001b[39m \u001b[38;5;241m2.5\u001b[39m\n\u001b[0;32m----> 6\u001b[0m \u001b[38;5;28msum\u001b[39m \u001b[38;5;241m=\u001b[39m \u001b[38;5;124m'\u001b[39m\u001b[38;5;124mThe sum is: \u001b[39m\u001b[38;5;124m'\u001b[39m \u001b[38;5;241m+\u001b[39m \u001b[38;5;28;43mstr\u001b[39;49m\u001b[43m(\u001b[49m\u001b[43ma\u001b[49m\u001b[43m)\u001b[49m \u001b[38;5;241m+\u001b[39m \u001b[38;5;28mstr\u001b[39m(b)\n\u001b[1;32m      7\u001b[0m \u001b[38;5;28mprint\u001b[39m(\u001b[38;5;28msum\u001b[39m)\n",
      "\u001b[0;31mTypeError\u001b[0m: 'str' object is not callable"
     ]
    }
   ],
   "source": [
    "# Ето още един пример:\n",
    "\n",
    "a = 1.5\n",
    "b = 2.5\n",
    "\n",
    "sum = 'The sum is: ' + str(a) + str(b)\n",
    "print(sum)  # The sum is 1.52.5\n"
   ]
  },
  {
   "cell_type": "markdown",
   "id": "1566193b-6e8e-4941-992e-8e05eb82556f",
   "metadata": {},
   "source": [
    "Забелязвате ли нещо странно? Може би очаквахте числата a и b да се сумират? Всъщност конкатенацията работи последователно отляво надясно и горният резултат е абсолютно коректен. Ако искаме да сумираме числата, ще трябва да ползваме скоби, за да променим реда на изпълнение на операциите"
   ]
  },
  {
   "cell_type": "code",
   "execution_count": 31,
   "id": "3913460e-9c24-425b-a184-035dd59a8e03",
   "metadata": {},
   "outputs": [
    {
     "ename": "TypeError",
     "evalue": "'str' object is not callable",
     "output_type": "error",
     "traceback": [
      "\u001b[0;31m---------------------------------------------------------------------------\u001b[0m",
      "\u001b[0;31mTypeError\u001b[0m                                 Traceback (most recent call last)",
      "Input \u001b[0;32mIn [31]\u001b[0m, in \u001b[0;36m<cell line: 4>\u001b[0;34m()\u001b[0m\n\u001b[1;32m      1\u001b[0m a \u001b[38;5;241m=\u001b[39m \u001b[38;5;241m1.5\u001b[39m\n\u001b[1;32m      2\u001b[0m b \u001b[38;5;241m=\u001b[39m \u001b[38;5;241m2.5\u001b[39m\n\u001b[0;32m----> 4\u001b[0m \u001b[38;5;28msum\u001b[39m \u001b[38;5;241m=\u001b[39m \u001b[38;5;124m'\u001b[39m\u001b[38;5;124mThe sum is: \u001b[39m\u001b[38;5;124m'\u001b[39m \u001b[38;5;241m+\u001b[39m \u001b[38;5;28;43mstr\u001b[39;49m\u001b[43m(\u001b[49m\u001b[38;5;28;43mint\u001b[39;49m\u001b[43m(\u001b[49m\u001b[43ma\u001b[49m\u001b[43m \u001b[49m\u001b[38;5;241;43m+\u001b[39;49m\u001b[43m \u001b[49m\u001b[43mb\u001b[49m\u001b[43m)\u001b[49m\u001b[43m)\u001b[49m\n\u001b[1;32m      5\u001b[0m \u001b[38;5;28mprint\u001b[39m(\u001b[38;5;28msum\u001b[39m)\n",
      "\u001b[0;31mTypeError\u001b[0m: 'str' object is not callable"
     ]
    }
   ],
   "source": [
    "a = 1.5\n",
    "b = 2.5\n",
    "\n",
    "sum = 'The sum is: ' + str(int(a + b))\n",
    "print(sum)  # The sum is: 4"
   ]
  },
  {
   "cell_type": "markdown",
   "id": "b070440f-80fe-4f58-a931-c12a5a447111",
   "metadata": {},
   "source": [
    "# Повтаряне на текст: оператор *\n"
   ]
  },
  {
   "cell_type": "code",
   "execution_count": 1,
   "id": "15026a65-0c2f-42e9-b095-49b85bf83e02",
   "metadata": {
    "tags": []
   },
   "outputs": [
    {
     "name": "stdout",
     "output_type": "stream",
     "text": [
      "hihihi\n"
     ]
    },
    {
     "name": "stdin",
     "output_type": "stream",
     "text": [
      " mama\n"
     ]
    },
    {
     "name": "stdout",
     "output_type": "stream",
     "text": [
      "mamamamamamamamamama\n"
     ]
    },
    {
     "name": "stdin",
     "output_type": "stream",
     "text": [
      " papa\n"
     ]
    },
    {
     "ename": "ValueError",
     "evalue": "invalid literal for int() with base 10: 'papa'",
     "output_type": "error",
     "traceback": [
      "\u001b[0;31m---------------------------------------------------------------------------\u001b[0m",
      "\u001b[0;31mValueError\u001b[0m                                Traceback (most recent call last)",
      "Input \u001b[0;32mIn [1]\u001b[0m, in \u001b[0;36m<cell line: 13>\u001b[0;34m()\u001b[0m\n\u001b[1;32m      9\u001b[0m \u001b[38;5;28mprint\u001b[39m(\u001b[38;5;241m5\u001b[39m \u001b[38;5;241m*\u001b[39m count)  \u001b[38;5;66;03m# 2020202020, not 100\u001b[39;00m\n\u001b[1;32m     11\u001b[0m \u001b[38;5;66;03m# Ако искаме да умножим по 5 число, прочетено от входа, трябва първо да преобразуване към число с функцията int():\u001b[39;00m\n\u001b[0;32m---> 13\u001b[0m count \u001b[38;5;241m=\u001b[39m \u001b[38;5;28;43mint\u001b[39;49m\u001b[43m(\u001b[49m\u001b[38;5;28;43minput\u001b[39;49m\u001b[43m(\u001b[49m\u001b[43m)\u001b[49m\u001b[43m)\u001b[49m  \u001b[38;5;66;03m# Enter 20\u001b[39;00m\n\u001b[1;32m     14\u001b[0m \u001b[38;5;28mprint\u001b[39m(\u001b[38;5;241m5\u001b[39m \u001b[38;5;241m*\u001b[39m count)\n",
      "\u001b[0;31mValueError\u001b[0m: invalid literal for int() with base 10: 'papa'"
     ]
    }
   ],
   "source": [
    "# Операторът * може да се използва за повтаряне на даден текст няколко пъти:\n",
    "\n",
    "text = 'hi'\n",
    "print(3 * text)  # hihihi\n",
    "\n",
    "# Тази особеност на оператора за умножение може да доведе до следния грешен резултат, когато не съобразим типа на умножаваната стойност:\n",
    "\n",
    "count = input()   # Enter 20\n",
    "print(5 * count)  # 2020202020, not 100\n",
    "\n",
    "# Ако искаме да умножим по 5 число, прочетено от входа, трябва първо да преобразуване към число с функцията int():\n",
    "\n",
    "count = int(input())  # Enter 20\n",
    "print(5 * count)      # 100"
   ]
  },
  {
   "cell_type": "markdown",
   "id": "9194af80-65cb-4fb5-9264-333364976354",
   "metadata": {},
   "source": [
    "- Отпечатване на форматиран текст в Python\n",
    "\n",
    "В езика Python има няколко начина да отпечатаме форматиран текст, т.е. текст, смесен с числа, стойности на променливи и изрази. Вече се сблъскахме с някои от тях, но нека разгледаме въпроса по-детайлно.\n",
    "\n"
   ]
  },
  {
   "cell_type": "markdown",
   "id": "bb052f88-deaf-4231-a3bc-90b92d8f1773",
   "metadata": {},
   "source": [
    "- Печатане с изброяване със запетайки\n",
    "\n"
   ]
  },
  {
   "cell_type": "code",
   "execution_count": 2,
   "id": "a16b96cb-2990-45d7-9927-e94197bb6969",
   "metadata": {},
   "outputs": [
    {
     "name": "stdout",
     "output_type": "stream",
     "text": [
      "width = 5 ; height = 7 ; area = 35\n"
     ]
    }
   ],
   "source": [
    "# При печатане с print(…) можем да изброяваме няколко стойности със запетайки:\n",
    "\n",
    "width = 5\n",
    "height = 7\n",
    "print('width =', width, '; height =', height, '; area =', width * height)"
   ]
  },
  {
   "cell_type": "markdown",
   "id": "c1d9f73f-3c18-40a4-a8ce-b1f728b41e30",
   "metadata": {},
   "source": [
    "# Съединение на текст с оператора + или така нареченото Конкактениране\n"
   ]
  },
  {
   "cell_type": "markdown",
   "id": "ae6b6380-d2a0-4249-a06e-fbd0e22e69c1",
   "metadata": {},
   "source": [
    "- Вече знаем как да съединяваме текст и числа с оператора +. Използвайки +, горният пример може да се напише по следния начин:\n",
    "\n"
   ]
  },
  {
   "cell_type": "code",
   "execution_count": 3,
   "id": "b9675bc5-e413-4a84-b81f-0fda0bbb3c1f",
   "metadata": {},
   "outputs": [
    {
     "name": "stdout",
     "output_type": "stream",
     "text": [
      "width = 5 ; height = 7 ; area = 35\n"
     ]
    }
   ],
   "source": [
    "width = 5\n",
    "height = 7\n",
    "print('width = ' + str(width) + ' ; height = ' + str(height) + ' ; area = ' + str(width * height))\n"
   ]
  },
  {
   "cell_type": "markdown",
   "id": "de7ea95c-6af7-4ca2-945e-e59b777101ad",
   "metadata": {},
   "source": [
    "Резултатът е същият като в предния пример:\n",
    "\n"
   ]
  },
  {
   "cell_type": "markdown",
   "id": "ea6fac3b-e96f-495c-a7a0-e6971d98ad02",
   "metadata": {},
   "source": [
    "Понеже в Python текст не може да се съединява директно с числа, те трябва да се преобразуват първо към текст чрез функцията str(num).\n",
    "\n"
   ]
  },
  {
   "cell_type": "markdown",
   "id": "53053447-2545-41ae-886d-a36931a6e94d",
   "metadata": {},
   "source": [
    "# Форматиращи низове %d, %s, %f\n"
   ]
  },
  {
   "cell_type": "markdown",
   "id": "95d7f925-2e2b-44db-9428-01843b511d67",
   "metadata": {},
   "source": [
    "Печатането с шаблони може да се извърши и чрез форматиращи низове (които се ползват в езици като C и Java). Ето пример как става това:"
   ]
  },
  {
   "cell_type": "code",
   "execution_count": 4,
   "id": "5fe52809-d986-46a6-b1c9-851933178eb3",
   "metadata": {},
   "outputs": [
    {
     "name": "stdout",
     "output_type": "stream",
     "text": [
      "width = 5 ; height = 7 ; area = 35\n"
     ]
    }
   ],
   "source": [
    "width = 5\n",
    "height = 7\n",
    "text = \"area\"\n",
    "print('width = %d ; height = %d ; %s = %d' % (width, height, text, width * height))"
   ]
  },
  {
   "cell_type": "markdown",
   "id": "a254511c-8cb7-4f06-96a0-24de12fe3d02",
   "metadata": {},
   "source": [
    "В горния пример използваме оператора %, който замества в текстов шаблон стойности, подадени като поредица от елементи в скоби. Използват се следните основни placeholders (форматиращи низове): %d обозначава цяло число, %f обозначава дробно число, %s обозначава текст. Резултатът от горния код е същият като в предходните примери:"
   ]
  },
  {
   "cell_type": "markdown",
   "id": "d2010fbf-5bec-4cc3-90b4-a793143f5e54",
   "metadata": {},
   "source": [
    "Ако е подаден грешен форматиращ низ, може да получим грешка.\n",
    "\n",
    "При форматирането на дробни числа можем да закръгляме до определен брой цифри след десетичната точка, например с форматиращ низ %.2f отпечатваме дробно число с 2 знака след десетичната точка:"
   ]
  },
  {
   "cell_type": "code",
   "execution_count": 5,
   "id": "85bf0d15-cb49-4712-97e2-7ecd7d1e3a3a",
   "metadata": {},
   "outputs": [
    {
     "name": "stdout",
     "output_type": "stream",
     "text": [
      "price = 1.60 \n",
      "VAT = 0.320\n"
     ]
    }
   ],
   "source": [
    "print('price = %.2f \\nVAT = %.3f' % (1.60, 1.60 * 0.2))\n"
   ]
  },
  {
   "cell_type": "markdown",
   "id": "6e1bc723-3daf-4dda-9edb-428cf6af9f8a",
   "metadata": {},
   "source": [
    "В горния пример използваме специалния символ \\n, който означава „отиди на нов ред“. Аналогично специалният символ \\b връща курсора с една позиция назад (изтрива последния отпечатан символ) и съответно следния код:\n",
    "\n"
   ]
  },
  {
   "cell_type": "markdown",
   "id": "1a161223-0e90-4439-aa62-abfa9dfd4483",
   "metadata": {},
   "source": [
    "отпечатва следния резултат:\n",
    "\n"
   ]
  },
  {
   "cell_type": "markdown",
   "id": "20cb6d1b-1de1-47c1-97de-6449a3db7929",
   "metadata": {},
   "source": [
    "# Форматиране с .format(…)\n"
   ]
  },
  {
   "cell_type": "markdown",
   "id": "d57cf22b-9556-4341-ab60-317cb4f7c8c0",
   "metadata": {},
   "source": [
    "Вече разгледахме как можем да форматираме текст и числа чрез .format(…) с използването на номерирани шаблони {0}, {1}, {2} и т.н. Всъщност, когато числова номерация не е необходима, можем да напишем само {}, за да създадем placeholder. Ето пример как можем да ползваме форматиране с текст.format(…), за да отпечатаме резултата от предходния пример:\n",
    "\n"
   ]
  },
  {
   "cell_type": "code",
   "execution_count": 6,
   "id": "2d42a602-7de4-42ec-a03e-f81f34d8fa53",
   "metadata": {},
   "outputs": [
    {
     "name": "stdout",
     "output_type": "stream",
     "text": [
      "width = 5 ; height = 7 ; area = 35\n"
     ]
    }
   ],
   "source": [
    "width = 5\n",
    "height = 7\n",
    "print('width = {} ; height = {} ; area = {}'.format(width, height, width * height))"
   ]
  },
  {
   "cell_type": "markdown",
   "id": "046e7aa5-58a0-4ed5-9478-14e52d888196",
   "metadata": {},
   "source": [
    "Резултатът е отново същият:\n",
    "\n"
   ]
  },
  {
   "cell_type": "markdown",
   "id": "f2e9341f-19b8-4dc0-bf2e-2cb0926561ef",
   "metadata": {},
   "source": [
    "# Форматиране с f-string\n"
   ]
  },
  {
   "cell_type": "markdown",
   "id": "a86b68dd-a29c-4fd4-b5f7-622c4d033211",
   "metadata": {},
   "source": [
    "Може би най-лесното, най-интуитивното и най-краткото за писане форматиране на текст и числа в Python е чрез f-string синтаксиса:"
   ]
  },
  {
   "cell_type": "markdown",
   "id": "d8989109-ca38-4446-b37b-323ed673fd1e",
   "metadata": {},
   "source": [
    "width = 5\n",
    "height = 7\n",
    "print(f'width = {width} ; height = {height} ; area = {width * height}')"
   ]
  },
  {
   "cell_type": "markdown",
   "id": "162b7960-f08b-47f4-ad49-09a82be81e80",
   "metadata": {},
   "source": [
    "Използването на f-string форматиране е много лесно: поставяме префикс f пред стринга и в него вмъкваме на произволни позиции стойности на променливи и изрази във фигурни скоби {expression}. В горния пример имаме три израза: {width}, {height} и {width * height}, които се изчисляват и се заместват с текстовата им стойност. Можем да ползваме текстови изрази, целочислени изрази, изрази с дробни числа и всякакви други изрази.\n",
    "\n",
    "Форматирането с f-string в Python е препоръчителният начин за печатане на форматиран текст, защото ползва най-кратък синтаксис и кодът е най-лесно разбираем се чете най-лесно."
   ]
  },
  {
   "cell_type": "markdown",
   "id": "526d3fa4-3113-47df-8502-db3e6192d195",
   "metadata": {},
   "source": [
    "# Числени изрази\n"
   ]
  },
  {
   "cell_type": "markdown",
   "id": "282dc321-1105-4540-80bb-a635930a3a78",
   "metadata": {},
   "source": [
    "В програмирането можем да пресмятаме и числови изрази, например:\n",
    "\n"
   ]
  },
  {
   "cell_type": "code",
   "execution_count": 11,
   "id": "e4ad8889-462d-45bd-8e05-1514c2b3fea7",
   "metadata": {},
   "outputs": [
    {
     "ename": "SyntaxError",
     "evalue": "invalid character '–' (U+2013) (3819827132.py, line 1)",
     "output_type": "error",
     "traceback": [
      "\u001b[0;36m  Input \u001b[0;32mIn [11]\u001b[0;36m\u001b[0m\n\u001b[0;31m    expr = (3 + 5) * (4 – 2)  # 16\u001b[0m\n\u001b[0m                        ^\u001b[0m\n\u001b[0;31mSyntaxError\u001b[0m\u001b[0;31m:\u001b[0m invalid character '–' (U+2013)\n"
     ]
    }
   ],
   "source": [
    "expr = (3 + 5) * (4 – 2)  # 16\n",
    "\n",
    "print(expr)"
   ]
  },
  {
   "cell_type": "markdown",
   "id": "383b0bf7-afd9-4852-9ce0-efb1d593afd2",
   "metadata": {},
   "source": [
    "В сила е стандартното правило за приоритетите на аритметичните операции: умножение и деление се извършват винаги преди събиране и изваждане. При наличие на израз в скоби, той се изчислява пръв, но ние знаем всичко това от училищната математика."
   ]
  },
  {
   "cell_type": "markdown",
   "id": "5896133c-356e-408d-9d2e-a439c724a052",
   "metadata": {},
   "source": [
    "# Пример: изчисляване на лице на трапец\n"
   ]
  },
  {
   "cell_type": "markdown",
   "id": "3a0ff776-f35b-4361-a9d3-9920758d9da1",
   "metadata": {},
   "source": [
    "Да напишем програма, която въвежда дължините на двете основи на трапец и неговата височина (по едно дробно число на ред) и пресмята лицето на трапеца по стандартната математическа формула:\n",
    "\n"
   ]
  },
  {
   "cell_type": "code",
   "execution_count": 13,
   "id": "56c96610-1e8f-4290-a054-86f9b9ac9f15",
   "metadata": {},
   "outputs": [
    {
     "name": "stdin",
     "output_type": "stream",
     "text": [
      " 3\n",
      " 4\n",
      " 2\n"
     ]
    },
    {
     "name": "stdout",
     "output_type": "stream",
     "text": [
      "Trapezoid area = 7.0\n"
     ]
    }
   ],
   "source": [
    "b1 = float(input())\n",
    "b2 = float(input())\n",
    "h = float(input())\n",
    "\n",
    "area = (b1 + b2) * h / 2\n",
    "print('Trapezoid area = ' + str(area))"
   ]
  },
  {
   "cell_type": "markdown",
   "id": "d2cd8a6e-fbf0-47c6-af1d-6e21dddd64b9",
   "metadata": {},
   "source": [
    "# Съединяване на текст и число\n"
   ]
  },
  {
   "cell_type": "markdown",
   "id": "f0edb649-d885-4938-999a-ea46cdb02649",
   "metadata": {},
   "source": [
    "Операторът + освен за събиране на числа служи и за съединяване на текст (долепяне на два символни низа един след друг). В програмирането съединяване на текст с още текст или с число наричаме \"конкатенация\". Ето как можем да съединяваме текст и число с оператора +:\n",
    "\n"
   ]
  },
  {
   "cell_type": "code",
   "execution_count": 1,
   "id": "bc0a778e-b316-4fec-82b7-3649c9f5fd74",
   "metadata": {},
   "outputs": [
    {
     "name": "stdout",
     "output_type": "stream",
     "text": [
      "Maria Ivanova @ 19\n"
     ]
    }
   ],
   "source": [
    "first_name = 'Maria'\n",
    "last_name = 'Ivanova'\n",
    "age = 19\n",
    "\n",
    "str = first_name + ' ' + last_name + ' @ ' + str(age)\n",
    "print(str)  # Maria Ivanova @ 19"
   ]
  },
  {
   "cell_type": "markdown",
   "id": "6da883cb-9b9a-4f72-a65f-765599b6f430",
   "metadata": {},
   "source": [
    "В Python не можем директно да долепяме (конкатенираме) число към даден текст и затова първо превръщане числото към текст с функцията str(…).\n",
    "\n",
    "Ето още един пример:"
   ]
  },
  {
   "cell_type": "code",
   "execution_count": 2,
   "id": "3b0a57a6-46a4-44cf-9740-a79337dea7df",
   "metadata": {},
   "outputs": [
    {
     "ename": "TypeError",
     "evalue": "'str' object is not callable",
     "output_type": "error",
     "traceback": [
      "\u001b[0;31m---------------------------------------------------------------------------\u001b[0m",
      "\u001b[0;31mTypeError\u001b[0m                                 Traceback (most recent call last)",
      "Input \u001b[0;32mIn [2]\u001b[0m, in \u001b[0;36m<cell line: 4>\u001b[0;34m()\u001b[0m\n\u001b[1;32m      1\u001b[0m a \u001b[38;5;241m=\u001b[39m \u001b[38;5;241m1.5\u001b[39m\n\u001b[1;32m      2\u001b[0m b \u001b[38;5;241m=\u001b[39m \u001b[38;5;241m2.5\u001b[39m\n\u001b[0;32m----> 4\u001b[0m \u001b[38;5;28msum\u001b[39m \u001b[38;5;241m=\u001b[39m \u001b[38;5;124m'\u001b[39m\u001b[38;5;124mThe sum is: \u001b[39m\u001b[38;5;124m'\u001b[39m \u001b[38;5;241m+\u001b[39m \u001b[38;5;28;43mstr\u001b[39;49m\u001b[43m(\u001b[49m\u001b[43ma\u001b[49m\u001b[43m)\u001b[49m \u001b[38;5;241m+\u001b[39m \u001b[38;5;28mstr\u001b[39m(b)\n\u001b[1;32m      5\u001b[0m \u001b[38;5;28mprint\u001b[39m(\u001b[38;5;28msum\u001b[39m)\n",
      "\u001b[0;31mTypeError\u001b[0m: 'str' object is not callable"
     ]
    }
   ],
   "source": [
    "a = 1.5\n",
    "b = 2.5\n",
    "\n",
    "sum = 'The sum is: ' + str(a) + str(b)\n",
    "print(sum)  # The sum is 1.52.5"
   ]
  },
  {
   "cell_type": "markdown",
   "id": "a22c6481-0b8c-4e55-8eab-3c879ee2422e",
   "metadata": {},
   "source": [
    "Забелязвате ли нещо странно? Може би очаквахте числата a и b да се сумират? Всъщност конкатенацията работи последователно отляво надясно и горният резултат е абсолютно коректен. Ако искаме да сумираме числата, ще трябва да ползваме скоби, за да променим реда на изпълнение на операциите:\n",
    "\n"
   ]
  },
  {
   "cell_type": "code",
   "execution_count": 3,
   "id": "9eac20ca-bd59-40b6-adae-6c7e7a556f85",
   "metadata": {},
   "outputs": [
    {
     "ename": "TypeError",
     "evalue": "'str' object is not callable",
     "output_type": "error",
     "traceback": [
      "\u001b[0;31m---------------------------------------------------------------------------\u001b[0m",
      "\u001b[0;31mTypeError\u001b[0m                                 Traceback (most recent call last)",
      "Input \u001b[0;32mIn [3]\u001b[0m, in \u001b[0;36m<cell line: 4>\u001b[0;34m()\u001b[0m\n\u001b[1;32m      1\u001b[0m a \u001b[38;5;241m=\u001b[39m \u001b[38;5;241m1.5\u001b[39m\n\u001b[1;32m      2\u001b[0m b \u001b[38;5;241m=\u001b[39m \u001b[38;5;241m2.5\u001b[39m\n\u001b[0;32m----> 4\u001b[0m \u001b[38;5;28msum\u001b[39m \u001b[38;5;241m=\u001b[39m \u001b[38;5;124m'\u001b[39m\u001b[38;5;124mThe sum is: \u001b[39m\u001b[38;5;124m'\u001b[39m \u001b[38;5;241m+\u001b[39m \u001b[38;5;28;43mstr\u001b[39;49m\u001b[43m(\u001b[49m\u001b[38;5;28;43mint\u001b[39;49m\u001b[43m(\u001b[49m\u001b[43ma\u001b[49m\u001b[43m \u001b[49m\u001b[38;5;241;43m+\u001b[39;49m\u001b[43m \u001b[49m\u001b[43mb\u001b[49m\u001b[43m)\u001b[49m\u001b[43m)\u001b[49m\n\u001b[1;32m      5\u001b[0m \u001b[38;5;28mprint\u001b[39m(\u001b[38;5;28msum\u001b[39m)\n",
      "\u001b[0;31mTypeError\u001b[0m: 'str' object is not callable"
     ]
    }
   ],
   "source": [
    "a = 1.5\n",
    "b = 2.5\n",
    "\n",
    "sum = 'The sum is: ' + str(int(a + b))\n",
    "print(sum)  # The sum is: 4"
   ]
  },
  {
   "cell_type": "markdown",
   "id": "358790d0-5cc4-434d-8935-23eec46a367d",
   "metadata": {},
   "source": [
    "Съединяване на текст и число\n",
    "\n",
    "• Съединяване на текст и число (оператор +):\n",
    "\n",
    "firstName = 'Maria'\n",
    "lastName = ' Ivanova'\n",
    "age = 19\n",
    "name = firstName + ' ' + lastName + '\n",
    "print (name)\n",
    "\n",
    "# Maria Ivanova @ 19\n",
    "' + strage)\n",
    "a = 1.5\n",
    "b = 2.5\n",
    "sum ='The sum is: ' + stra + b)"
   ]
  },
  {
   "cell_type": "markdown",
   "id": "556a0492-a7e6-4d7f-b2b9-d6284fa182c6",
   "metadata": {},
   "source": [
    "Съединяване на текст и числа (2)\n",
    "\n",
    "\n",
    "• При печат на текст, числа и други данни, можем да ги съединим, използвайки шаблони %s, %d, %f, ...\n",
    "\n",
    "firstName = input()\n",
    "lastName = input()\n",
    "age = int(input())\n",
    "town = input()\n",
    "print( 'You are %s %s, a %d-years old person from %s.' % (firstName, lastName, age,"
   ]
  },
  {
   "cell_type": "markdown",
   "id": "40e5a326-c65e-4e44-8e66-ccdc7a5ac444",
   "metadata": {},
   "source": [
    "Операторът * може да се използва за повтаряне на даден текст няколко пъти:\n",
    "\n"
   ]
  },
  {
   "cell_type": "markdown",
   "id": "99959e72-99a0-4b2c-ba37-627608936510",
   "metadata": {},
   "source": [
    "# Делене и модулно делене % //"
   ]
  },
  {
   "cell_type": "code",
   "execution_count": 5,
   "id": "4df8553f-83e1-4e7b-9f2e-98ee0daf9190",
   "metadata": {},
   "outputs": [
    {
     "data": {
      "text/plain": [
       "1"
      ]
     },
     "execution_count": 5,
     "metadata": {},
     "output_type": "execute_result"
    }
   ],
   "source": [
    "3 % 2"
   ]
  },
  {
   "cell_type": "code",
   "execution_count": 6,
   "id": "3b427360-c356-4d55-a6c9-3e5497c7c61a",
   "metadata": {},
   "outputs": [
    {
     "data": {
      "text/plain": [
       "1"
      ]
     },
     "execution_count": 6,
     "metadata": {},
     "output_type": "execute_result"
    }
   ],
   "source": [
    "3 // 2"
   ]
  },
  {
   "cell_type": "code",
   "execution_count": 8,
   "id": "dfe1aa01-e833-454a-bd7e-ef844ae07f4d",
   "metadata": {},
   "outputs": [
    {
     "data": {
      "text/plain": [
       "' 50 % 10 = 0\\n    5 * 10 = 50\\n    50 - 50 = o '"
      ]
     },
     "execution_count": 8,
     "metadata": {},
     "output_type": "execute_result"
    }
   ],
   "source": [
    "50 % 10\n",
    "\n",
    "\n",
    "''' 50 % 10 = 0\n",
    "    5 * 10 = 50\n",
    "    50 - 50 = 0 '''\n",
    "\n",
    "# формула за намиране на модулно число"
   ]
  },
  {
   "cell_type": "code",
   "execution_count": 10,
   "id": "4b358b2b-0105-4683-b3f3-539ac4811698",
   "metadata": {},
   "outputs": [
    {
     "data": {
      "text/plain": [
       "3"
      ]
     },
     "execution_count": 10,
     "metadata": {},
     "output_type": "execute_result"
    }
   ],
   "source": [
    "43 % 5"
   ]
  },
  {
   "cell_type": "markdown",
   "id": "f8f2e003-49b8-4172-9f2b-ecbac1a4a6e8",
   "metadata": {},
   "source": [
    "# Числени изрази\n"
   ]
  },
  {
   "cell_type": "markdown",
   "id": "be9619d9-108f-4952-8f6b-59bba8c38fa5",
   "metadata": {},
   "source": [
    "SoftUni Founda\n",
    "• В програмирането можем да пресмятаме числени изрази\n",
    "\n",
    "expr = (3 + 5) * (4 - 2)\n",
    "\n",
    "• Изчисляване на лице на трапец"
   ]
  },
  {
   "cell_type": "code",
   "execution_count": 17,
   "id": "405a69a3-9c82-411e-8aba-bbdd1a9b2e2d",
   "metadata": {},
   "outputs": [
    {
     "name": "stdin",
     "output_type": "stream",
     "text": [
      " 3\n",
      " 4\n",
      " 6\n"
     ]
    },
    {
     "name": "stdout",
     "output_type": "stream",
     "text": [
      "21.0\n"
     ]
    }
   ],
   "source": [
    "a = float(input())\n",
    "b = float(input())\n",
    "h = float(input())\n",
    "area = (a + b) * h / 2\n",
    "\n",
    "print(area)\n",
    "#print(\"Лицето на трапеца е:  \" + str(area))"
   ]
  },
  {
   "cell_type": "markdown",
   "id": "f68ea996-bf39-4481-a94a-a23ae3c11bd1",
   "metadata": {},
   "source": [
    "# Отпечатване на форматиран текст в Python\n"
   ]
  },
  {
   "cell_type": "markdown",
   "id": "149b994b-9b7d-493f-8231-f18187cad0ce",
   "metadata": {},
   "source": [
    "В езика Python има няколко начина да отпечатаме форматиран текст, т.е. текст, смесен с числа, стойности на променливи и изрази. Вече се сблъскахме с някои от тях, но нека разгледаме въпроса по-детайлно.\n",
    "\n"
   ]
  },
  {
   "cell_type": "markdown",
   "id": "48b0c1bf-6fb2-4bb1-a18a-747dc1ebcab8",
   "metadata": {},
   "source": [
    "# Печатане с изброяване със запетайки\n"
   ]
  },
  {
   "cell_type": "markdown",
   "id": "4b7229f7-804e-420f-89d9-2cd12f2ab6cf",
   "metadata": {},
   "source": [
    "При печатане с print(…) можем да изброяваме няколко стойности със запетайки:\n",
    "\n"
   ]
  },
  {
   "cell_type": "code",
   "execution_count": 18,
   "id": "680b9b76-e213-407a-af5a-6215b26599a3",
   "metadata": {},
   "outputs": [
    {
     "name": "stdout",
     "output_type": "stream",
     "text": [
      "width = 5 ; height = 7 ; area = 35\n"
     ]
    }
   ],
   "source": [
    "width = 5\n",
    "height = 7\n",
    "print('width =', width, '; height =', height, '; area =', width * height)"
   ]
  },
  {
   "cell_type": "markdown",
   "id": "1ac764b0-536e-4d1e-a0e6-1c721cc44770",
   "metadata": {},
   "source": [
    "Както се вижда от примера, при такова отпечатване всеки две стойности от изброените се отделят с интервал.\n",
    "\n"
   ]
  },
  {
   "cell_type": "markdown",
   "id": "8024d770-93e7-4eb4-949f-c57bd92409e0",
   "metadata": {},
   "source": [
    "# Съединение на текст с оператора +\n"
   ]
  },
  {
   "cell_type": "markdown",
   "id": "b041d9fb-2859-4bc5-b755-335f8697e842",
   "metadata": {},
   "source": [
    "Вече знаем как да съединяваме текст и числа с оператора +. Използвайки +, горният пример може да се напише по следния начин:"
   ]
  },
  {
   "cell_type": "code",
   "execution_count": 20,
   "id": "e1245de9-10f6-45d9-a684-ff86eb5755f4",
   "metadata": {
    "tags": []
   },
   "outputs": [
    {
     "ename": "TypeError",
     "evalue": "'str' object is not callable",
     "output_type": "error",
     "traceback": [
      "\u001b[0;31m---------------------------------------------------------------------------\u001b[0m",
      "\u001b[0;31mTypeError\u001b[0m                                 Traceback (most recent call last)",
      "Input \u001b[0;32mIn [20]\u001b[0m, in \u001b[0;36m<cell line: 3>\u001b[0;34m()\u001b[0m\n\u001b[1;32m      1\u001b[0m width \u001b[38;5;241m=\u001b[39m \u001b[38;5;241m5\u001b[39m\n\u001b[1;32m      2\u001b[0m height \u001b[38;5;241m=\u001b[39m \u001b[38;5;241m7\u001b[39m\n\u001b[0;32m----> 3\u001b[0m \u001b[38;5;28mprint\u001b[39m(\u001b[38;5;124m'\u001b[39m\u001b[38;5;124mwidth = \u001b[39m\u001b[38;5;124m'\u001b[39m \u001b[38;5;241m+\u001b[39m \u001b[38;5;28;43mstr\u001b[39;49m\u001b[43m(\u001b[49m\u001b[43mwidth\u001b[49m\u001b[43m)\u001b[49m \u001b[38;5;241m+\u001b[39m \u001b[38;5;124m'\u001b[39m\u001b[38;5;124m ; height = \u001b[39m\u001b[38;5;124m'\u001b[39m \u001b[38;5;241m+\u001b[39m \u001b[38;5;28mstr\u001b[39m(height) \u001b[38;5;241m+\u001b[39m \u001b[38;5;124m'\u001b[39m\u001b[38;5;124m ; area = \u001b[39m\u001b[38;5;124m'\u001b[39m \u001b[38;5;241m+\u001b[39m \u001b[38;5;28mstr\u001b[39m(width \u001b[38;5;241m*\u001b[39m height))\n",
      "\u001b[0;31mTypeError\u001b[0m: 'str' object is not callable"
     ]
    }
   ],
   "source": [
    "width = 5\n",
    "height = 7\n",
    "print('width = ' + str(width) + ' ; height = ' + str(height) + ' ; area = ' + str(width * height))\n"
   ]
  },
  {
   "cell_type": "markdown",
   "id": "58bc216f-b4dc-42ef-95da-a2a1c88380b1",
   "metadata": {},
   "source": [
    "Понеже в Python текст не може да се съединява директно с числа, те трябва да се преобразуват първо към текст чрез функцията str(num)."
   ]
  },
  {
   "cell_type": "markdown",
   "id": "11585dfb-efd2-4a5d-8ddd-79facb7a7948",
   "metadata": {},
   "source": [
    "# Форматиращи низове %d, %s, %f\n"
   ]
  },
  {
   "cell_type": "markdown",
   "id": "7a7ef0ff-025a-4266-be8d-cdd81c319f4d",
   "metadata": {},
   "source": [
    "Печатането с шаблони може да се извърши и чрез форматиращи низове (които се ползват в езици като C и Java). Ето пример как става това:"
   ]
  },
  {
   "cell_type": "code",
   "execution_count": 21,
   "id": "90edaa14-f736-4d94-962f-c40fa4d039ec",
   "metadata": {},
   "outputs": [
    {
     "name": "stdout",
     "output_type": "stream",
     "text": [
      "width = 5 ; height = 7 ; area = 35\n"
     ]
    }
   ],
   "source": [
    "width = 5\n",
    "height = 7\n",
    "text = \"area\"\n",
    "print('width = %d ; height = %d ; %s = %d' % (width, height, text, width * height))"
   ]
  },
  {
   "cell_type": "markdown",
   "id": "f7fe267a-4075-4806-b511-3402ace21324",
   "metadata": {},
   "source": [
    "В горния пример използваме оператора %, който замества в текстов шаблон стойности, подадени като поредица от елементи в скоби. Използват се следните основни placeholders (форматиращи низове): %d обозначава цяло число, %f обозначава дробно число, %s обозначава текст. Резултатът от горния код е същият като в предходните примери:"
   ]
  },
  {
   "cell_type": "markdown",
   "id": "478578ef-3ecf-453f-a3b6-d0128f0426af",
   "metadata": {},
   "source": [
    "Ако е подаден грешен форматиращ низ, може да получим грешка.\n",
    "\n",
    "При форматирането на дробни числа можем да закръгляме до определен брой цифри след десетичната точка, например с форматиращ низ %.2f отпечатваме дробно число с 2 знака след десетичната точка:"
   ]
  },
  {
   "cell_type": "markdown",
   "id": "f63b0ec1-9004-4379-a3a9-714787380dcd",
   "metadata": {},
   "source": [
    "Резултатът от горния код е следният:\n",
    "\n"
   ]
  },
  {
   "cell_type": "markdown",
   "id": "a7c26562-8b88-4404-b417-62ccc459c8c0",
   "metadata": {},
   "source": [
    "В горния пример използваме специалния символ \\n, който означава „отиди на нов ред“. Аналогично специалният символ \\b връща курсора с една позиция назад (изтрива последния отпечатан символ) и съответно следния код:\n",
    "\n"
   ]
  },
  {
   "cell_type": "markdown",
   "id": "ac5e8b49-e075-4564-a98d-92f8d09ababd",
   "metadata": {},
   "source": [
    "# Форматиране с .format(…)\n"
   ]
  },
  {
   "cell_type": "markdown",
   "id": "85c430cf-e124-4b65-8904-3eba5295aa36",
   "metadata": {},
   "source": [
    "Вече разгледахме как можем да форматираме текст и числа чрез .format(…) с използването на номерирани шаблони {0}, {1}, {2} и т.н. Всъщност, когато числова номерация не е необходима, можем да напишем само {}, за да създадем placeholder. Ето пример как можем да ползваме форматиране с текст.format(…), за да отпечатаме резултата от предходния пример:\n",
    "\n"
   ]
  },
  {
   "cell_type": "code",
   "execution_count": 22,
   "id": "19a5676d-2e5e-4586-bb38-81b4e5913a42",
   "metadata": {},
   "outputs": [
    {
     "name": "stdout",
     "output_type": "stream",
     "text": [
      "width = 5 ; height = 7 ; area = 35\n"
     ]
    }
   ],
   "source": [
    "width = 5\n",
    "height = 7\n",
    "print('width = {} ; height = {} ; area = {}'.format(width, height, width * height))\n"
   ]
  },
  {
   "cell_type": "markdown",
   "id": "cbc2cef3-903d-41e5-a7bd-f62226d7ecf7",
   "metadata": {},
   "source": [
    "# Форматиране с f-string\n"
   ]
  },
  {
   "cell_type": "markdown",
   "id": "108493b5-2e84-4723-a54e-d95faa7d78a3",
   "metadata": {},
   "source": [
    "Може би най-лесното, най-интуитивното и най-краткото за писане форматиране на текст и числа в Python е чрез f-string синтаксиса:\n",
    "\n"
   ]
  },
  {
   "cell_type": "code",
   "execution_count": 23,
   "id": "479447ef-3477-4d2d-8694-6ef1f410c761",
   "metadata": {},
   "outputs": [
    {
     "name": "stdout",
     "output_type": "stream",
     "text": [
      "width = 5 ; height = 7 ; area = 35\n"
     ]
    }
   ],
   "source": [
    "width = 5\n",
    "height = 7\n",
    "print(f'width = {width} ; height = {height} ; area = {width * height}')"
   ]
  },
  {
   "cell_type": "markdown",
   "id": "65c2eac1-e138-4bc2-85e2-a6301cff91c8",
   "metadata": {},
   "source": [
    "Използването на f-string форматиране е много лесно: поставяме префикс f пред стринга и в него вмъкваме на произволни позиции стойности на променливи и изрази във фигурни скоби {expression}. В горния пример имаме три израза: {width}, {height} и {width * height}, които се изчисляват и се заместват с текстовата им стойност. Можем да ползваме текстови изрази, целочислени изрази, изрази с дробни числа и всякакви други изрази.\n",
    "\n",
    "Форматирането с f-string в Python е препоръчителният начин за печатане на форматиран текст, защото ползва най-кратък синтаксис и кодът е най-лесно разбираем се чете най-лесно"
   ]
  },
  {
   "cell_type": "markdown",
   "id": "1f95a69d-74ec-496a-97cd-82d558c5fb21",
   "metadata": {},
   "source": [
    "# Закръгляне на числа\n"
   ]
  },
  {
   "cell_type": "markdown",
   "id": "d4cc3fe8-5f7f-4ccf-8d70-c2d4cfdf9f4b",
   "metadata": {},
   "source": [
    "Понякога, когато работим с дробни числа, се налага да приведем числата към еднотипен формат. Това привеждане се нарича закръгляне. Езикът Python ни предоставя няколко метода за закръгляне на числа:\n",
    "\n",
    "math.ceil(…) - закръгляне нагоре, до следващо (по-голямо) цяло число:\n",
    "\n"
   ]
  },
  {
   "cell_type": "code",
   "execution_count": 24,
   "id": "0ea13bd2-c357-4f23-915a-ad4921cd14f2",
   "metadata": {},
   "outputs": [
    {
     "ename": "NameError",
     "evalue": "name 'math' is not defined",
     "output_type": "error",
     "traceback": [
      "\u001b[0;31m---------------------------------------------------------------------------\u001b[0m",
      "\u001b[0;31mNameError\u001b[0m                                 Traceback (most recent call last)",
      "Input \u001b[0;32mIn [24]\u001b[0m, in \u001b[0;36m<cell line: 1>\u001b[0;34m()\u001b[0m\n\u001b[0;32m----> 1\u001b[0m up \u001b[38;5;241m=\u001b[39m \u001b[43mmath\u001b[49m\u001b[38;5;241m.\u001b[39mceil(\u001b[38;5;241m23.45\u001b[39m)\n",
      "\u001b[0;31mNameError\u001b[0m: name 'math' is not defined"
     ]
    }
   ],
   "source": [
    "up = math.ceil(23.45)  # up = 24\n"
   ]
  },
  {
   "cell_type": "markdown",
   "id": "4d2fe2de-5c02-41fc-9f1a-09858571e979",
   "metadata": {},
   "source": [
    "- math.floor(…) - закръгляне надолу, до предишно (по-малко) цяло число:\n"
   ]
  },
  {
   "cell_type": "code",
   "execution_count": null,
   "id": "44466341-f3ce-46c1-acf2-907ae345cdf3",
   "metadata": {},
   "outputs": [],
   "source": [
    "down = math.floor(45.67)  # down = 45\n"
   ]
  },
  {
   "cell_type": "markdown",
   "id": "668324ef-fdab-4a10-acc4-cca88bf708c8",
   "metadata": {},
   "source": [
    "- round(…) - закръглянето се извършва по основното правило за закръгляване - ако десетичната част е по-малка от 5, закръглението е надолу и обратно, ако е по-голяма от 5 - нагоре:"
   ]
  },
  {
   "cell_type": "code",
   "execution_count": 1,
   "id": "f4487b74-0d1a-4038-8866-0d908de2c161",
   "metadata": {},
   "outputs": [
    {
     "data": {
      "text/plain": [
       "6"
      ]
     },
     "execution_count": 1,
     "metadata": {},
     "output_type": "execute_result"
    }
   ],
   "source": [
    "round(5.439)  # 5\n",
    "round(5.539)  # 6"
   ]
  },
  {
   "cell_type": "markdown",
   "id": "53f6e37e-d411-4000-af41-fc669da05f68",
   "metadata": {},
   "source": [
    "round(…, [брой символи след десетичната запетая]) - закръгляне до най-близко число с определен на брой символи след десетичната запетая:"
   ]
  },
  {
   "cell_type": "code",
   "execution_count": 2,
   "id": "f460db07-04b5-4980-bbc8-1b6be330273b",
   "metadata": {},
   "outputs": [
    {
     "data": {
      "text/plain": [
       "124.0"
      ]
     },
     "execution_count": 2,
     "metadata": {},
     "output_type": "execute_result"
    }
   ],
   "source": [
    "round(123.456, 2)  # 123.46\n",
    "round(123, 2)      # 123.0\n",
    "round(123.456, 0)  # 123.0\n",
    "round(123.512, 0)  # 124.0"
   ]
  },
  {
   "cell_type": "markdown",
   "id": "9333229a-aa7c-42dc-ac26-d5414b3a4f66",
   "metadata": {},
   "source": [
    "# Зареждане на библиотеки (import)\n",
    "\n",
    "• Понякога се налага да използваме вече готови програми, за да ни е по-лесно да напишем нашата:\n",
    "    \n",
    "« За целта трябва да ги \"заредим\": import Името на библиотеката\n",
    "\n",
    "• Пример:\n",
    "    \n",
    "import math - Зарежда библиотеката с име math\n",
    "import sys - Зарежда библиотеката с име sys\n",
    "import math, sys - Зарежда всички изредени"
   ]
  },
  {
   "cell_type": "code",
   "execution_count": null,
   "id": "f4a32708-9811-41c8-a44f-4535f8308b70",
   "metadata": {},
   "outputs": [],
   "source": []
  },
  {
   "cell_type": "code",
   "execution_count": null,
   "id": "4f8d9442-56e7-4986-ab79-c127ec20885c",
   "metadata": {},
   "outputs": [],
   "source": []
  },
  {
   "cell_type": "code",
   "execution_count": null,
   "id": "17b48eec-626e-4ea3-9605-925052e8fa86",
   "metadata": {},
   "outputs": [],
   "source": []
  },
  {
   "cell_type": "markdown",
   "id": "52f1a61e-6bd0-481a-bc6a-56e47fe3818c",
   "metadata": {},
   "source": [
    "# Какво научихме от тази глава?\n",
    "\n",
    "Да резюмираме какво научихме от тази глава на книгата:\n",
    "\n",
    "Въвеждане на текст: str = input().\n",
    "\n",
    "Въвеждане на цяло число: num = int(input()).\n",
    "\n",
    "Въвеждане на дробно число: num = float(input()).\n",
    "\n",
    "Извършване на пресмятания с числа и използване на съответните аритметични оператори [+, -, *, /, ()]: sum = 5 + 3.\n",
    "\n",
    "Извеждане на текст по шаблон на конзолата: print('{0} + {1} = {2}'.format(3, 5, 3 + 5))"
   ]
  },
  {
   "cell_type": "code",
   "execution_count": null,
   "id": "6ea55d6a-1a36-4e83-a938-901ac1687e83",
   "metadata": {},
   "outputs": [],
   "source": []
  },
  {
   "cell_type": "code",
   "execution_count": null,
   "id": "cefa58e3-01f1-40ea-83cd-acc817248dd3",
   "metadata": {},
   "outputs": [],
   "source": []
  },
  {
   "cell_type": "code",
   "execution_count": null,
   "id": "5a241381-a056-4287-91f8-8ec8eeb5d085",
   "metadata": {},
   "outputs": [],
   "source": []
  },
  {
   "cell_type": "code",
   "execution_count": null,
   "id": "e54728a1-e1ba-4545-976c-ce3e5a6cc943",
   "metadata": {},
   "outputs": [],
   "source": []
  },
  {
   "cell_type": "code",
   "execution_count": null,
   "id": "f235bca9-99e8-4958-adc9-8b898d1cef8b",
   "metadata": {},
   "outputs": [],
   "source": []
  },
  {
   "cell_type": "code",
   "execution_count": null,
   "id": "0ba4cb27-b9ce-4144-82e4-5f908b961d58",
   "metadata": {},
   "outputs": [],
   "source": []
  },
  {
   "cell_type": "code",
   "execution_count": null,
   "id": "ee60a37f-fb45-4af9-a8b0-2ec899ef78b9",
   "metadata": {},
   "outputs": [],
   "source": []
  },
  {
   "cell_type": "code",
   "execution_count": null,
   "id": "f9a02616-dba1-443b-b4b9-d34178576488",
   "metadata": {},
   "outputs": [],
   "source": []
  },
  {
   "cell_type": "code",
   "execution_count": null,
   "id": "66c6070b-fbff-451d-a063-ed8a9acb7477",
   "metadata": {},
   "outputs": [],
   "source": []
  },
  {
   "cell_type": "code",
   "execution_count": null,
   "id": "e71c3d64-eb19-4311-8364-999f6ce5697c",
   "metadata": {},
   "outputs": [],
   "source": []
  },
  {
   "cell_type": "code",
   "execution_count": null,
   "id": "49bf8841-f8c7-42fe-8862-c8bfa22852d4",
   "metadata": {},
   "outputs": [],
   "source": []
  },
  {
   "cell_type": "code",
   "execution_count": null,
   "id": "8f581642-e3b7-4999-9717-208b4073845b",
   "metadata": {},
   "outputs": [],
   "source": []
  },
  {
   "cell_type": "code",
   "execution_count": null,
   "id": "9f8db7b1-8ca6-417f-b2e1-196d9c66cdd8",
   "metadata": {},
   "outputs": [],
   "source": []
  },
  {
   "cell_type": "code",
   "execution_count": null,
   "id": "9ba5a804-7075-4685-b3b4-71281026a025",
   "metadata": {},
   "outputs": [],
   "source": []
  },
  {
   "cell_type": "code",
   "execution_count": null,
   "id": "8387218d-4a88-4e55-ad6a-a13c20bf55c3",
   "metadata": {},
   "outputs": [],
   "source": []
  },
  {
   "cell_type": "code",
   "execution_count": null,
   "id": "918015cc-5e67-41d1-9ec1-48a1b0980073",
   "metadata": {},
   "outputs": [],
   "source": []
  },
  {
   "cell_type": "code",
   "execution_count": null,
   "id": "07a328cb-8678-4115-a853-1885577b0ab0",
   "metadata": {},
   "outputs": [],
   "source": []
  },
  {
   "cell_type": "markdown",
   "id": "ee5dfeb3-7202-474f-98c8-d0394e817224",
   "metadata": {},
   "source": [
    "# End"
   ]
  }
 ],
 "metadata": {
  "kernelspec": {
   "display_name": "Python 3 (ipykernel)",
   "language": "python",
   "name": "python3"
  },
  "language_info": {
   "codemirror_mode": {
    "name": "ipython",
    "version": 3
   },
   "file_extension": ".py",
   "mimetype": "text/x-python",
   "name": "python",
   "nbconvert_exporter": "python",
   "pygments_lexer": "ipython3",
   "version": "3.9.12"
  }
 },
 "nbformat": 4,
 "nbformat_minor": 5
}
