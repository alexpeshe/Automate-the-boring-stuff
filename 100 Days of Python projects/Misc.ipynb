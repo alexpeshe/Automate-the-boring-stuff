{
 "cells": [
  {
   "cell_type": "markdown",
   "id": "c3719707-e504-4b7f-95c5-4f7adf0d5af8",
   "metadata": {},
   "source": [
    "# MISC"
   ]
  },
  {
   "cell_type": "markdown",
   "id": "bc3d8b26-4a26-44da-a078-acf7a9ba5d13",
   "metadata": {},
   "source": [
    "- my failed attempt to make a random name generator"
   ]
  },
  {
   "cell_type": "code",
   "execution_count": 1,
   "id": "66df3759-0f06-4d4c-8f20-7c8c9785330f",
   "metadata": {},
   "outputs": [
    {
     "ename": "NameError",
     "evalue": "name 'python' is not defined",
     "output_type": "error",
     "traceback": [
      "\u001b[0;31m---------------------------------------------------------------------------\u001b[0m",
      "\u001b[0;31mNameError\u001b[0m                                 Traceback (most recent call last)",
      "Input \u001b[0;32mIn [1]\u001b[0m, in \u001b[0;36m<cell line: 1>\u001b[0;34m()\u001b[0m\n\u001b[0;32m----> 1\u001b[0m \u001b[43mpython\u001b[49m\n\u001b[1;32m      2\u001b[0m \u001b[38;5;28;01mdef\u001b[39;00m \u001b[38;5;21mfriend\u001b[39m():\n\u001b[1;32m      3\u001b[0m     \u001b[38;5;28;01mfor\u001b[39;00m f \u001b[38;5;129;01min\u001b[39;00m \u001b[38;5;28mrange\u001b[39m(\u001b[38;5;241m6\u001b[39m):\n",
      "\u001b[0;31mNameError\u001b[0m: name 'python' is not defined"
     ]
    }
   ],
   "source": [
    "python\n",
    "def friend():\n",
    "    for f in range(6):\n",
    "        friends = random(1, 7)\n",
    "\n"
   ]
  },
  {
   "cell_type": "markdown",
   "id": "82c89696-211b-4b0e-b92b-d704d579a0d0",
   "metadata": {},
   "source": [
    "Let's break this down line by line:\n",
    "\n",
    "def friend():\n",
    "This line defines a function named friend.\n",
    "\n",
    "for f in range(6):\n",
    "This starts a for loop that will iterate 6 times (0 to 5).\n",
    "f is the loop variable, but it's not used inside the loop.\n",
    "\n",
    "friends = random(1, 7)\n",
    "This line is inside the loop and will execute 6 times.\n",
    "It's trying to use a random() function, which is not a standard Python function.\n",
    "The intention seems to be to generate a random number between 1 and 7.\n",
    "However, there are several issues with this code:\n",
    "\n",
    "The random() function is not defined. You likely meant to use random.randint(1, 7) from the random module.\n",
    "The loop doesn't serve a clear purpose as it's overwriting the friends variable each time.\n",
    "The function doesn't return or use the generated random numbers.\n",
    "The original friends list is not used in this function."
   ]
  },
  {
   "cell_type": "markdown",
   "id": "f5d3b0db-116a-41e2-a9aa-b8c3676b3f49",
   "metadata": {},
   "source": [
    "- the improved version"
   ]
  },
  {
   "cell_type": "code",
   "execution_count": 3,
   "id": "fae57aac-7bf7-47aa-8ce9-daef189acbc7",
   "metadata": {},
   "outputs": [
    {
     "name": "stdout",
     "output_type": "stream",
     "text": [
      "Friend's turn to pay the bill is: Stan\n"
     ]
    }
   ],
   "source": [
    "import random\n",
    "\n",
    "friends = ['Alex', 'Ivan', 'Ros', 'Stan', 'Michelle', 'Gerry']\n",
    "\n",
    "def friend():\n",
    "    index = random.randint(0, len(friends) - 1)\n",
    "    for i in range(len(friends)):\n",
    "        if i == index:\n",
    "            return friends[i]\n",
    "\n",
    "# the index line generates a random integer between 0 and the last index of the friends list.len(friends) - 1 is used because list indices start at 0.\n",
    "# if starts a loop that iterates through each index of the friends list.\n",
    "# Return checks if the current loop index i matches the randomly generated index.\n",
    "\n",
    "print(\"Friend's turn to pay the bill is: \" + friend())"
   ]
  },
  {
   "cell_type": "code",
   "execution_count": null,
   "id": "b7f3a013-d32d-4923-86f1-020db3890a93",
   "metadata": {},
   "outputs": [],
   "source": []
  },
  {
   "cell_type": "code",
   "execution_count": null,
   "id": "ed4134a0-a67a-46d0-b888-8634d1df0d33",
   "metadata": {},
   "outputs": [],
   "source": []
  },
  {
   "cell_type": "code",
   "execution_count": null,
   "id": "29624a61-3b9e-4e36-885c-277fbd1f864a",
   "metadata": {},
   "outputs": [],
   "source": []
  },
  {
   "cell_type": "markdown",
   "id": "1902d524-ec66-478d-9bca-e96236efad7f",
   "metadata": {},
   "source": [
    "# States list and Dictionary"
   ]
  },
  {
   "cell_type": "code",
   "execution_count": 4,
   "id": "ef3ebee2-0517-408b-afc6-3a0d179f9231",
   "metadata": {},
   "outputs": [],
   "source": [
    "states2 = { \"AK\": \"Alaska\",\n",
    "\"AL\": \"Alabama\",\n",
    "\"AR\": \"Arkansas\",\n",
    "\"AZ\": \"Arizona\",\n",
    "\"CA\": \"California\",\n",
    "\"CO\": \"Colorado\",\n",
    "\"CT\": \"Connecticut\",\n",
    "\"DE\": \"Delaware\",\n",
    "\"FL\": \"Florida\",\n",
    "\"GA\": \"Georgia\",\n",
    "\"HI\": \"Hawaii\",\n",
    "\"IA\": \"Iowa\",\n",
    "\"ID\": \"Idaho\",\n",
    "\"IL\": \"Illinois\",\n",
    "\"IN\": \"Indiana\",\n",
    "\"KS\": \"Kansas\",\n",
    "\"KY\": \"Kentucky\",\n",
    "\"LA\": \"Louisiana\",\n",
    "\"MA\": \"Massachusetts\",\n",
    "\"MD\": \"Maryland\",\n",
    "\"ME\": \"Maine\",\n",
    "\"MI\": \"Michigan\",\n",
    "\"MN\": \"Minnesota\",\n",
    "\"MO\": \"Missouri\",\n",
    "\"MS\": \"Mississippi\",\n",
    "\"MT\": \"Montana\",\n",
    "\"NC\": \"North Carolina\",\n",
    "\"ND\": \"North Dakota\",\n",
    "\"NE\": \"Nebraska\",\n",
    "\"NH\": \"New Hampshire\",\n",
    "\"NJ\": \"New Jersey\",\n",
    "\"NM\": \"New Mexico\",\n",
    "\"NV\": \"Nevada\",\n",
    "\"NY\": \"New York\",\n",
    "\"OH\": \"Ohio\",\n",
    "\"OK\": \"Oklahoma\",\n",
    "\"OR\": \"Oregon\",\n",
    "\"PA\": \"Pennsylvania\",\n",
    "\"RI\": \"Rhode Island\",\n",
    "\"SC\": \"South Carolina\",\n",
    "\"SD\": \"South Dakota\",\n",
    "\"TN\": \"Tennessee\",\n",
    "\"TX\": \"Texas\",\n",
    "\"UT\": \"Utah\",\n",
    "\"VA\": \"Virginia\",\n",
    "\"VT\": \"Vermont\",\n",
    "\"WA\": \"Washington\",\n",
    "\"WI\": \"Wisconsin\",\n",
    "\"WV\": \"West Virginia\",\n",
    "\"WY\": \"Wyoming\",\n",
    "\"DC\": \"District of Columbia\",\n",
    "\"AS\": \"American Samoa\",\n",
    "\"GU\": \"Guam GU\",\n",
    "\"MP\": \"Northern Mariana Islands\",\n",
    "\"PR\": \"Puerto Rico PR\",\n",
    "\"VI\": \"U.S. Virgin Islands\",\n",
    "}"
   ]
  },
  {
   "cell_type": "code",
   "execution_count": 5,
   "id": "bc308868-bcb0-4b1f-a119-998b04d514be",
   "metadata": {},
   "outputs": [],
   "source": [
    "states = [ \"AK\", \"AL\", \"AR\", \"AZ\", \"CA\", \"CO\", \"CT\", \"DE\", \"FL\", \"GA\", \"HI\", \"IA\",\n",
    "\"ID\", \"IL\", \"IN\", \"KS\", \"KY\", \"LA\", \"MA\", \"MD\", \"ME\", \"MI\", \"MN\", \"MO\",\n",
    "\"MS\", \"MT\", \"NC\", \"ND\", \"NE\", \"NH\", \"NJ\", \"NM\", \"NV\", \"NY\", \"OH\", \"OK\",\n",
    "\"OR\", \"PA\", \"RI\", \"SC\", \"SD\", \"TN\", \"TX\", \"UT\", \"VA\", \"VT\", \"WA\", \"WI\",\n",
    "\"WV\", \"WY\", \"DC\", \"AS\", \"GU\", \"MP\", \"PR\", \"VI\"]"
   ]
  },
  {
   "cell_type": "code",
   "execution_count": null,
   "id": "66084c9a-c433-400d-af7d-a61cd0be0088",
   "metadata": {},
   "outputs": [],
   "source": []
  },
  {
   "cell_type": "code",
   "execution_count": null,
   "id": "9ed56142-bbfc-41a5-9ee3-1ccf3ef8b03d",
   "metadata": {},
   "outputs": [],
   "source": []
  }
 ],
 "metadata": {
  "kernelspec": {
   "display_name": "Python 3 (ipykernel)",
   "language": "python",
   "name": "python3"
  },
  "language_info": {
   "codemirror_mode": {
    "name": "ipython",
    "version": 3
   },
   "file_extension": ".py",
   "mimetype": "text/x-python",
   "name": "python",
   "nbconvert_exporter": "python",
   "pygments_lexer": "ipython3",
   "version": "3.9.12"
  }
 },
 "nbformat": 4,
 "nbformat_minor": 5
}
