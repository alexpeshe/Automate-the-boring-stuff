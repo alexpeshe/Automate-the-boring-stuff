{
 "cells": [
  {
   "cell_type": "markdown",
   "metadata": {},
   "source": [
    "2 + 2 \n",
    "\n",
    "# this is expression which is the most basic in python because it always redused down to single value"
   ]
  },
  {
   "cell_type": "code",
   "execution_count": 2,
   "metadata": {},
   "outputs": [
    {
     "data": {
      "text/plain": [
       "2"
      ]
     },
     "execution_count": 2,
     "metadata": {},
     "output_type": "execute_result"
    }
   ],
   "source": [
    "5 - 3"
   ]
  },
  {
   "cell_type": "code",
   "execution_count": 3,
   "metadata": {},
   "outputs": [
    {
     "data": {
      "text/plain": [
       "21"
      ]
     },
     "execution_count": 3,
     "metadata": {},
     "output_type": "execute_result"
    }
   ],
   "source": [
    "3*7\n"
   ]
  },
  {
   "cell_type": "markdown",
   "metadata": {},
   "source": [
    "8/4"
   ]
  },
  {
   "cell_type": "markdown",
   "metadata": {},
   "source": [
    "#Important to remember"
   ]
  },
  {
   "cell_type": "markdown",
   "metadata": {},
   "source": [
    "Order of execution in python\n",
    "\n",
    "1. Parentheses \n",
    "\n",
    "2 Division/multiplication\n",
    "\n",
    "3 adding and substraction"
   ]
  },
  {
   "cell_type": "code",
   "execution_count": 7,
   "metadata": {},
   "outputs": [
    {
     "data": {
      "text/plain": [
       "20"
      ]
     },
     "execution_count": 7,
     "metadata": {},
     "output_type": "execute_result"
    }
   ],
   "source": [
    "2 + 3 * 6"
   ]
  },
  {
   "cell_type": "code",
   "execution_count": 8,
   "metadata": {},
   "outputs": [
    {
     "data": {
      "text/plain": [
       "30"
      ]
     },
     "execution_count": 8,
     "metadata": {},
     "output_type": "execute_result"
    }
   ],
   "source": [
    "(3 + 2) * 6"
   ]
  },
  {
   "cell_type": "markdown",
   "metadata": {},
   "source": [
    " Operator Operation Example Evaluates to . . .\n",
    "\n",
    "** Exponent >> 2 ** 3 8\n",
    "\n",
    "% Modulus/remainder >> 22 % 8 6\n",
    "\n",
    "// Integer division/floored quotient >> 22 // 8 2\n",
    "\n",
    "/ Division >> 22 / 8 2.75\n",
    "\n",
    "* Multiplication >> 3 * 5 15\n",
    "\n",
    "- Subtraction >> 5 - 2 3\n",
    "\n",
    "+ Addition >> 2 + 2 4"
   ]
  },
  {
   "cell_type": "markdown",
   "metadata": {},
   "source": [
    " The different data types are:\n",
    " \n",
    " Integer 42\n",
    " Float 3.14\n",
    " String 'Hello World'\n",
    " "
   ]
  },
  {
   "cell_type": "markdown",
   "metadata": {},
   "source": [
    "Puthon also supports strings concatination "
   ]
  },
  {
   "cell_type": "code",
   "execution_count": 9,
   "metadata": {},
   "outputs": [
    {
     "data": {
      "text/plain": [
       "'AliceBOB'"
      ]
     },
     "execution_count": 9,
     "metadata": {},
     "output_type": "execute_result"
    }
   ],
   "source": [
    "\"Alice\" + \"BOB\""
   ]
  },
  {
   "cell_type": "markdown",
   "metadata": {},
   "source": [
    "and string multiplication"
   ]
  },
  {
   "cell_type": "code",
   "execution_count": 11,
   "metadata": {},
   "outputs": [
    {
     "data": {
      "text/plain": [
       "'AliceAliceAlice'"
      ]
     },
     "execution_count": 11,
     "metadata": {},
     "output_type": "execute_result"
    }
   ],
   "source": [
    "\"Alice\" * 3"
   ]
  },
  {
   "cell_type": "code",
   "execution_count": 12,
   "metadata": {},
   "outputs": [
    {
     "data": {
      "text/plain": [
       "'Hello Alice!!!!!!!!!!'"
      ]
     },
     "execution_count": 12,
     "metadata": {},
     "output_type": "execute_result"
    }
   ],
   "source": [
    "#And it also supports both\n",
    "\n",
    "\"Hello Alice\" + \"!\"*10"
   ]
  },
  {
   "cell_type": "markdown",
   "metadata": {},
   "source": [
    "#Variables "
   ]
  },
  {
   "cell_type": "code",
   "execution_count": 15,
   "metadata": {},
   "outputs": [],
   "source": [
    "#Variables allow us to store values\n",
    "\n",
    "spam = 4+2"
   ]
  },
  {
   "cell_type": "code",
   "execution_count": 16,
   "metadata": {},
   "outputs": [
    {
     "name": "stdout",
     "output_type": "stream",
     "text": [
      "6\n"
     ]
    }
   ],
   "source": [
    "print(spam)"
   ]
  },
  {
   "cell_type": "markdown",
   "metadata": {},
   "source": [
    "# Practice tasks"
   ]
  },
  {
   "cell_type": "markdown",
   "metadata": {
    "jp-MarkdownHeadingCollapsed": true,
    "tags": []
   },
   "source": [
    "# 1. Which of the following are operators, and which are values?\n",
    "\n",
    "* - operator\n",
    "'hello' - string value\n",
    "-88.8 - numeric value float\n",
    "- - operator\n",
    "/ operator\n",
    "+ operator\n",
    "5 Numeric int\n",
    "\n",
    "\n"
   ]
  },
  {
   "cell_type": "markdown",
   "metadata": {},
   "source": [
    "# 2. Which of the following is a variable, and which is a string?\n",
    "\n",
    "spam - Variable\n",
    "'spam' - string\n"
   ]
  },
  {
   "cell_type": "markdown",
   "metadata": {},
   "source": [
    "# 3. Name three data types.\n",
    "\n",
    "int, float, string, "
   ]
  },
  {
   "cell_type": "markdown",
   "metadata": {},
   "source": [
    "# 4. What is an expression made up of? What do all expressions do?\n",
    "\n",
    "Expression is a combination of operators and data types, which is reduced to single values. Example in the cell below"
   ]
  },
  {
   "cell_type": "code",
   "execution_count": 1,
   "metadata": {},
   "outputs": [
    {
     "name": "stdout",
     "output_type": "stream",
     "text": [
      "1.57\n"
     ]
    }
   ],
   "source": [
    "my_sum = 3.14/2\n",
    "print(my_sum)"
   ]
  },
  {
   "cell_type": "markdown",
   "metadata": {},
   "source": [
    "# 5. This chapter introduced assignment statements, like spam = 10. What is the difference between an expression and a statement?\n",
    "\n",
    "# In summary, expressions are used to compute and return values, while statements are used to perform action. Further explanation below.\n",
    "\n",
    "# Expressions\n",
    "An expression is a combination of values, variables, operators, and function calls that are evaluated to produce a result. Expressions are used to compute values and can be part of a statement.\n",
    "Examples of Expressions\n",
    "2 + 3: This expression evaluates to 5.\n",
    "spam * 2: If spam is 10, this evaluates to 20.\n",
    "len(\"hello\"): This evaluates to 5.\n",
    "Characteristics of Expressions\n",
    "Evaluates to a Value: Expressions always return a value.\n",
    "Can be Part of a Statement: Expressions can be used within statements, such as in assignments or function calls.\n",
    "\n",
    "# Statements\n",
    "A statement is an instruction that the Python interpreter can execute. Statements perform actions and do not necessarily return a value. They can include expressions.\n",
    "Examples of Statements\n",
    "spam = 10: This is an assignment statement that assigns the value 10 to the variable spam.\n",
    "print(\"Hello, World!\"): This is a print statement that outputs text to the console.\n",
    "if x > 5: print(x): This is a conditional statement that executes the print function if the condition is true.\n",
    "Characteristics of Statements\n",
    "Performs an Action: Statements execute actions or commands.\n",
    "Do Not Return a Value: Unlike expressions, statements do not return a value.\n",
    "Can Contain Expressions: Statements often include expressions as part of their execution logic."
   ]
  },
  {
   "cell_type": "markdown",
   "metadata": {
    "tags": []
   },
   "source": [
    "# 6. What does the variable bacon contain after the following code runs?\n",
    "\n",
    "\n",
    "bacon = 20\n",
    "bacon + 1\n",
    "\n",
    "Should print 21"
   ]
  },
  {
   "cell_type": "code",
   "execution_count": 2,
   "metadata": {},
   "outputs": [
    {
     "data": {
      "text/plain": [
       "21"
      ]
     },
     "execution_count": 2,
     "metadata": {},
     "output_type": "execute_result"
    }
   ],
   "source": [
    "bacon = 20\n",
    "bacon + 1\n"
   ]
  },
  {
   "cell_type": "markdown",
   "metadata": {},
   "source": [
    "# 7. What should the following two expressions evaluate to?\n",
    "\n",
    "'spam' + 'spamspam' \n",
    "'spam' * 3 \n",
    "\n",
    "should all equate to spamapamspam\n",
    "\n",
    "Due to String Repetition with *\n",
    "The * operator is used to repeat a string a specified number of times. When you use 'spam' * 3, Python repeats the string 'spam' three times:"
   ]
  },
  {
   "cell_type": "code",
   "execution_count": 5,
   "metadata": {},
   "outputs": [
    {
     "data": {
      "text/plain": [
       "'spamspamspam'"
      ]
     },
     "execution_count": 5,
     "metadata": {},
     "output_type": "execute_result"
    }
   ],
   "source": [
    "'spam' + 'spamspam'\n",
    "'spam' * 3"
   ]
  },
  {
   "cell_type": "markdown",
   "metadata": {},
   "source": [
    "# 8. Why is eggs a valid variable name while 100 is invalid?\n",
    "\n",
    "In python variables cannot begin with a number. "
   ]
  },
  {
   "cell_type": "markdown",
   "metadata": {},
   "source": [
    "# 9. What three functions can be used to get the integer, floating-point number, or string version of a value?\n",
    "\n",
    "str(), int() and float()"
   ]
  },
  {
   "cell_type": "markdown",
   "metadata": {},
   "source": [
    "# 10. Why does this expression cause an error? How can you fix it?\n",
    "\n",
    "'I have eaten ' + 99 + ' burritos.'"
   ]
  },
  {
   "cell_type": "code",
   "execution_count": 6,
   "metadata": {},
   "outputs": [
    {
     "name": "stdout",
     "output_type": "stream",
     "text": [
      "I have eaten 99 burritos.\n"
     ]
    }
   ],
   "source": [
    "# This is the fixed version using the \n",
    "\n",
    "print('I have eaten ' + str(99) + ' burritos.')"
   ]
  },
  {
   "cell_type": "markdown",
   "metadata": {},
   "source": [
    "# Additional ways to fix the error\n",
    "\n",
    "Use string formatting:\n",
    "python\n",
    "'I have eaten {} burritos.'.format(99)\n",
    "\n",
    "Use f-strings (available in Python 3.6+):\n",
    "python\n",
    "f'I have eaten {99} burritos.'\n",
    "\n",
    "Use the % operator (older style, less common now):\n",
    "python\n",
    "'I have eaten %d burritos.' % 99"
   ]
  },
  {
   "cell_type": "markdown",
   "metadata": {},
   "source": [
    "# Extra credit: \n",
    "\n",
    "\n",
    "Search online for the Python documentation for the len()\n",
    "function. It will be on a web page titled “Built-in Functions.” Skim the\n",
    "list of other functions Python has, look up what the round() function\n",
    "does, and experiment with it in the interactive shell."
   ]
  },
  {
   "cell_type": "code",
   "execution_count": null,
   "metadata": {},
   "outputs": [],
   "source": []
  }
 ],
 "metadata": {
  "kernelspec": {
   "display_name": "Python (myenv)",
   "language": "python",
   "name": "myenv"
  },
  "language_info": {
   "codemirror_mode": {
    "name": "ipython",
    "version": 3
   },
   "file_extension": ".py",
   "mimetype": "text/x-python",
   "name": "python",
   "nbconvert_exporter": "python",
   "pygments_lexer": "ipython3",
   "version": "3.9.12"
  }
 },
 "nbformat": 4,
 "nbformat_minor": 4
}
