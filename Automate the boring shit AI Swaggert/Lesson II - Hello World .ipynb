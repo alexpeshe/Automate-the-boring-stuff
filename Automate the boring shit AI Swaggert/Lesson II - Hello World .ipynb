{
 "cells": [
  {
   "cell_type": "code",
   "execution_count": 1,
   "id": "1610c70d-6319-4730-b465-cf48e1c757b7",
   "metadata": {},
   "outputs": [
    {
     "name": "stdout",
     "output_type": "stream",
     "text": [
      "Hello world!\n",
      "What is your name?\n"
     ]
    },
    {
     "name": "stdin",
     "output_type": "stream",
     "text": [
      " ALex\n"
     ]
    },
    {
     "name": "stdout",
     "output_type": "stream",
     "text": [
      "It is good to meet you, ALex\n",
      "The length of your name is:\n",
      "4\n",
      "What is your age?\n"
     ]
    },
    {
     "name": "stdin",
     "output_type": "stream",
     "text": [
      " 33\n"
     ]
    },
    {
     "name": "stdout",
     "output_type": "stream",
     "text": [
      "You will be 34 in a year\n"
     ]
    }
   ],
   "source": [
    "print ('Hello world!') #THe order of execution in python starts at the top\n",
    "\n",
    "print ('What is your name?') # ask for their name\n",
    "myName = input () #Variable combine with the input fuction input lets the user insert text and then pyton\n",
    "print ('It is good to meet you, ' + myName) # this is string concatenation\n",
    "print ('The length of your name is:') \n",
    "print (len(myName)) # Len function counts the number of the text input in the variable\n",
    "\n",
    "print ('What is your age?') # ask for their age\n",
    "myAge = input () # another input, important to note that always return a string\n",
    "print ('You will be ' + str(int(myAge) + 1) + ' in a year')\n",
    "# due to python not being able to join strings with numbers str(int(myAge) + 1) converts the number into a string which allows it to get multiple concatenation\n",
    "# str/int become extremely handy when having to convert between different arguments"
   ]
  },
  {
   "cell_type": "markdown",
   "id": "8e21ada4-0f1b-46e3-b735-c4626fd111c4",
   "metadata": {},
   "source": [
    "# Recap:\n",
    "\n",
    "- Type programs into the file editor\n",
    "\n",
    "- The execution starts at the top and moves down\n",
    "\n",
    "- Comments are ignored by Python\n",
    "\n",
    "- Functions are mini-programs in your program\n",
    "\n",
    "- print) displays the value passed to it\n",
    "\n",
    "- input) lets user type in a value\n",
    "\n",
    "- len() takes a string value and returns an integer\n",
    "\n",
    "value of the string's length\n",
    "\n",
    "- int(), str(), and float() convert values' data type"
   ]
  },
  {
   "cell_type": "code",
   "execution_count": null,
   "id": "cefabaea-17f5-4a1e-913d-1d6dafd2c907",
   "metadata": {},
   "outputs": [],
   "source": []
  }
 ],
 "metadata": {
  "kernelspec": {
   "display_name": "Python 3 (ipykernel)",
   "language": "python",
   "name": "python3"
  },
  "language_info": {
   "codemirror_mode": {
    "name": "ipython",
    "version": 3
   },
   "file_extension": ".py",
   "mimetype": "text/x-python",
   "name": "python",
   "nbconvert_exporter": "python",
   "pygments_lexer": "ipython3",
   "version": "3.9.12"
  }
 },
 "nbformat": 4,
 "nbformat_minor": 5
}
