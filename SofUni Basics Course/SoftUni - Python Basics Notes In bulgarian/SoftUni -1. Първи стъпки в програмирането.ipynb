{
 "cells": [
  {
   "cell_type": "markdown",
   "id": "1bae88bb-404a-4812-abe0-433aa8d89ae3",
   "metadata": {},
   "source": [
    "# Глава 1. Първи стъпки в програмирането"
   ]
  },
  {
   "cell_type": "markdown",
   "id": "b161fb38-09c7-40bc-8d97-76d66a1aaa6d",
   "metadata": {},
   "source": [
    "- Какво означава \"да програмираме\"?\n",
    "\n",
    "Да програмираме означава да даваме команди на компютъра какво да прави, например \"да изсвири някакъв звук\", \"да отпечата нещо на екрана\" или \"да умножи две числа\". Когато командите са няколко една след друга, те се наричат компютърна програма (или скрипт). Текстът на компютърните програми се нарича програмен код (или сорс код, или за по-кратко код)."
   ]
  },
  {
   "cell_type": "markdown",
   "id": "744066aa-250e-4a74-bb22-45b4dd4afe1c",
   "metadata": {},
   "source": [
    "# Сьдържание\n",
    "\n",
    "1. Какво означава да програмираме?\n",
    "\n",
    "2. Първа програма с Python\n",
    "\n",
    "3. Да направим конзолна програма\n",
    "\n",
    "• Създаване на конзолна Python програма\n",
    "\n",
    "• Стартиране на програмата\n",
    "\n",
    "• Тестване в judge"
   ]
  },
  {
   "cell_type": "markdown",
   "id": "7d9c0c9b-6619-491a-b065-cc0e13c8406d",
   "metadata": {},
   "source": [
    "# Какво означава \"програмиране\"?\n",
    "\n",
    "• Да даваме команди на компютьра - да \"комуникираме\"\n",
    "\n",
    "• Командите се подреждат една след друга\n",
    "\n",
    "• В поредица, те образуват \"компютърна"
   ]
  },
  {
   "cell_type": "markdown",
   "id": "92db819c-3c15-4736-bc6f-40f54e11a642",
   "metadata": {},
   "source": [
    "# Компютьрни програми\n",
    "\n",
    "• Програма е последователност от команди\n",
    "\n",
    "• Сьдържа команди, пресмятания, проверки, повторения,\n",
    "\n",
    "• Програмите се пишат в текстов формат\n",
    "\n",
    "• Текстьт на програмата се нарича сорс код\n",
    "\n",
    "• Сорс кодът се компилира до изпълним файл\n",
    "\n",
    "• Например Program. cs се компилира до Program. exe\n",
    "\n",
    "• Сорс кодьт може да се изпълни директно, както например с\n",
    "JavaScript и PHP"
   ]
  },
  {
   "cell_type": "markdown",
   "id": "ad801026-daba-4fb6-ac68-b5e43590a65b",
   "metadata": {},
   "source": [
    "# Семантика на програмирането"
   ]
  },
  {
   "cell_type": "markdown",
   "id": "ab717046-0e65-4cfe-8f3c-5e6dab1861b3",
   "metadata": {},
   "source": [
    "for(int i = 0; i <= 10; i++)\n",
    "\n",
    "Пример за for цикъл в C# \n",
    "\n",
    "for(let i = 0; i <= 10; i++)\n",
    "\n",
    "Семантиката на JS\n"
   ]
  },
  {
   "cell_type": "code",
   "execution_count": 4,
   "id": "d8f41962-746d-4cef-8ac5-f24f82d0814e",
   "metadata": {},
   "outputs": [
    {
     "name": "stdout",
     "output_type": "stream",
     "text": [
      "1\n",
      "2\n",
      "3\n",
      "4\n",
      "5\n",
      "6\n",
      "7\n",
      "8\n",
      "9\n",
      "10\n"
     ]
    }
   ],
   "source": [
    "# Koето в Python е фор цикъл за обхват от 0 до 10\n",
    "\n",
    "for num in range(0, 10):\n",
    "    print(num +1)\n",
    "    \n",
    "# Цикъла продължава додокато принтира всичко от 0 +1 до 9(е 10-то число в пайтън)."
   ]
  },
  {
   "cell_type": "code",
   "execution_count": 5,
   "id": "fd511868-1c8e-46d8-b44f-ab2ef1b01007",
   "metadata": {},
   "outputs": [
    {
     "name": "stdin",
     "output_type": "stream",
     "text": [
      " 2\n",
      " 4\n"
     ]
    },
    {
     "name": "stdout",
     "output_type": "stream",
     "text": [
      "4.0\n"
     ]
    }
   ],
   "source": [
    "# Втори пример формула за лице на триъгълник\n",
    "\n",
    "base = int(input())\n",
    "height = int(input())\n",
    "\n",
    "triangle = (base * height/2)\n",
    "\n",
    "print(triangle)"
   ]
  },
  {
   "cell_type": "code",
   "execution_count": 8,
   "id": "cb53b040-6d13-485e-87b2-4da84fc698b7",
   "metadata": {},
   "outputs": [
    {
     "name": "stdin",
     "output_type": "stream",
     "text": [
      " 33\n"
     ]
    },
    {
     "name": "stdout",
     "output_type": "stream",
     "text": [
      "Вашата сума в Евро е 16.879795396419436\n"
     ]
    }
   ],
   "source": [
    "# Tрети пример елементарен конвертор от левове в Eвро\n",
    "\n",
    "lev = int(input())\n",
    "\n",
    "euro = lev /1.955\n",
    "\n",
    "print('Вашата сума в Евро е ' + str(euro))"
   ]
  },
  {
   "cell_type": "markdown",
   "id": "d5d53ae0-4569-4941-b97b-7bbc3f38943f",
   "metadata": {},
   "source": [
    "# Останалите упражнения ще са в PyCharm"
   ]
  },
  {
   "cell_type": "code",
   "execution_count": null,
   "id": "81d4c567-ef38-450a-afb5-5b08ec17c1c5",
   "metadata": {},
   "outputs": [],
   "source": []
  }
 ],
 "metadata": {
  "kernelspec": {
   "display_name": "Python 3 (ipykernel)",
   "language": "python",
   "name": "python3"
  },
  "language_info": {
   "codemirror_mode": {
    "name": "ipython",
    "version": 3
   },
   "file_extension": ".py",
   "mimetype": "text/x-python",
   "name": "python",
   "nbconvert_exporter": "python",
   "pygments_lexer": "ipython3",
   "version": "3.9.12"
  }
 },
 "nbformat": 4,
 "nbformat_minor": 5
}
