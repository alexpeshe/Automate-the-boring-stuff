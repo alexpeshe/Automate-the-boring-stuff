{
 "cells": [
  {
   "cell_type": "markdown",
   "id": "2813bbca-dcf2-45df-b2ec-dc31db5f151f",
   "metadata": {
    "tags": []
   },
   "source": [
    "# Lessons III, IV & V\n",
    "\n",
    "If Elif Else statements, for and while loops"
   ]
  },
  {
   "cell_type": "markdown",
   "id": "c78a644e-7577-4fe6-96da-d953b4441d8f",
   "metadata": {},
   "source": [
    "# My first Weather recommendation program\n"
   ]
  },
  {
   "cell_type": "code",
   "execution_count": 1,
   "id": "9030d7d9-7c85-45e7-b8ab-bdf7d4a979de",
   "metadata": {},
   "outputs": [
    {
     "name": "stdin",
     "output_type": "stream",
     "text": [
      "What is the weather outside?  Foggy\n"
     ]
    },
    {
     "name": "stdout",
     "output_type": "stream",
     "text": [
      "Go outside and enjoy!\n",
      "The weather is: Foggy\n"
     ]
    }
   ],
   "source": [
    "weather = input('What is the weather outside? ')\n",
    "\n",
    "if weather == 'misty rain':\n",
    "    print('Take an umbrella with you!')\n",
    "elif weather == 'heavy rain':\n",
    "    print('Wait a while!')\n",
    "elif weather == 'stopped raining':\n",
    "    print('Go outside, but bring an umbrella!')\n",
    "else:\n",
    "    print('Go outside and enjoy!')\n",
    "\n",
    "print(\"The weather is:\", weather)"
   ]
  },
  {
   "cell_type": "markdown",
   "id": "55254a04-922c-42d5-94eb-6a2d801e320f",
   "metadata": {
    "jp-MarkdownHeadingCollapsed": true,
    "tags": []
   },
   "source": [
    "# Here are the key takeaways from the issues and solutions discussed regarding your Python code:\n",
    "\n",
    "Variable Initialization:\n",
    "Always initialize variables before using them. Assign values to variables after they have been defined.\n",
    "\n",
    "Indentation:\n",
    "Python uses indentation to define code blocks. Ensure that if, elif, and else statements are properly aligned, and the code within each block is consistently indented.\n",
    "\n",
    "String Literals:\n",
    "Ensure that string literals are enclosed with matching quotation marks (either single ' ' or double \" \" quotes).\n",
    "\n",
    "Conditional Logic:\n",
    "Use if-elif-else chains to handle mutually exclusive conditions. This ensures that only one block of code runs for a given condition.\n",
    "\n",
    "Syntax and Readability:\n",
    "Pay attention to syntax errors, such as mismatched quotes or missing colons, which can prevent your code from running.\n",
    "Write clear and readable code by following Python's conventions and best practices.\n",
    "\n",
    "Testing and Debugging:\n",
    "Test your code frequently to catch errors early. Use print statements or a debugger to understand the flow of your program and identify issues."
   ]
  },
  {
   "cell_type": "markdown",
   "id": "4b11ed6f-1b07-48fa-98d8-49fe923dff08",
   "metadata": {},
   "source": [
    "# Also very important point\n",
    "\n",
    "Key aspects of indentation in Python:\n",
    "\n",
    "Consistency:\n",
    "Use either spaces or tabs for indentation, but never mix them.\n",
    "The standard practice is to use 4 spaces for each indentation level.\n",
    "\n",
    "Block Definition:\n",
    "Indentation starts a new block after statements that end with a colon (:), such as if, for, while, def, and class.\n",
    "\n",
    "Alignment:\n",
    "All lines of code in the same block must be aligned at the same indentation level.\n",
    "\n",
    "Nested Blocks:\n",
    "Each nested block should be indented one level further than its parent block.\n",
    "\n",
    "Continuation Lines:\n",
    "For long statements that span multiple lines, you can use hanging indentation or align with opening delimiter.\n"
   ]
  },
  {
   "cell_type": "markdown",
   "id": "019c665a-31cf-444c-a21b-8d522473428c",
   "metadata": {
    "tags": []
   },
   "source": [
    "\n",
    "# Correct indentation\n",
    "\n",
    "if condition:\n",
    "    # This block is indented\n",
    "    statement1\n",
    "    statement2\n",
    "    if another_condition:\n",
    "        # This is a nested block, further indented\n",
    "        nested_statement\n",
    "else:\n",
    "    # This block aligns with the original if\n",
    "    other_statement\n",
    "\n",
    "# Incorrect indentation\n",
    "\n",
    "if condition:\n",
    "statement1  # This will cause an IndentationError\n",
    "    statement2  # This is correctly indented but inconsistent\n",
    "\n",
    "# Long line indentation\n",
    "\n",
    "long_function_name(\n",
    "    argument1,\n",
    "    argument2,\n",
    "    argument3\n",
    ")\n",
    "\n",
    "my_list = [\n",
    "    1, 2, 3,\n",
    "    4, 5, 6\n",
    "]"
   ]
  },
  {
   "cell_type": "markdown",
   "id": "d9ec50ca-841c-4c77-8f20-b2d896e6dea0",
   "metadata": {},
   "source": [
    "# Blocks of Code\n",
    "\n",
    "Lines of Python code can be grouped together in blocks. You can tell when a\n",
    "block begins and ends from the indentation of the lines of code. There are\n",
    "three rules for blocks.\n",
    "• Blocks begin when the indentation increases.\n",
    "• Blocks can contain other blocks.\n",
    "• Blocks end when the indentation decreases to zero or to a containing\n",
    "block’s indentation.\n",
    "28   Chapter 2\n",
    "Blocks are easier to understand by looking at some indented code, so\n",
    "let’s find the blocks in part of a small game program, shown here:"
   ]
  },
  {
   "cell_type": "code",
   "execution_count": 2,
   "id": "6da3e695-b091-42af-af0b-de17f1f62259",
   "metadata": {},
   "outputs": [
    {
     "name": "stdin",
     "output_type": "stream",
     "text": [
      " Mary\n",
      " kaput\n"
     ]
    },
    {
     "name": "stdout",
     "output_type": "stream",
     "text": [
      "Hello, Mary\n",
      "Wrong password.\n"
     ]
    }
   ],
   "source": [
    "name = input()\n",
    "\n",
    "password = input()\n",
    "\n",
    "if name == 'Mary':\n",
    "    print('Hello, Mary') #The first block of code  starts at the line print('Hello, Mary') and contains all the lines after it.\n",
    "    if password == 'swordfish':\n",
    "        print('Access granted.') # Inside this block is another block , which has only asingle line in it: print('Access Granted.').\n",
    "    else:\n",
    "        print('Wrong password.')\n",
    "    \n",
    "    # The third block  is also one line long: print('Wrong password.')."
   ]
  },
  {
   "cell_type": "markdown",
   "id": "35a876ba-4939-43d4-9740-7cbd639306e4",
   "metadata": {},
   "source": [
    "# Logical Flow"
   ]
  },
  {
   "cell_type": "markdown",
   "id": "7c8cd5b6-d322-4aa9-a068-db22dd0a6b11",
   "metadata": {
    "tags": []
   },
   "source": [
    "# if Statements\n",
    "\n",
    "• The if keyword\n",
    "\n",
    "• A condition (that is, an expression that evaluates to True or False)\n",
    "\n",
    "• A colon\n",
    "\n",
    "• Starting on the next line, an indented block of code (called the if clause)"
   ]
  },
  {
   "cell_type": "markdown",
   "id": "9a19330e-f19d-4202-9aa4-2152c72c0827",
   "metadata": {},
   "source": [
    "# elif Statements\n",
    "\n",
    "• The elif keyword\n",
    "\n",
    "• A condition (that is, an expression that evaluates to True or False)\n",
    "\n",
    "• A colon\n",
    "\n",
    "• Starting on the next line, an indented block of code (called the\n",
    "elif clause)"
   ]
  },
  {
   "cell_type": "markdown",
   "id": "be5721a4-4b1e-4083-95b1-021e05972309",
   "metadata": {},
   "source": [
    "# else Statements\n",
    "\n",
    "• The else keyword\n",
    "\n",
    "• A colon\n",
    "\n",
    "• Starting on the next line, an indented block of code (called the\n",
    "else clause)"
   ]
  },
  {
   "cell_type": "code",
   "execution_count": null,
   "id": "d6e901c0-2325-4b47-a3c0-548acb66c111",
   "metadata": {},
   "outputs": [],
   "source": [
    "# My name vampire.py app\n",
    "\n",
    "name = input() # The program strarts with the imput of a name\n",
    "age = int(input()) \n",
    "\n",
    "if name == 'Alex':\n",
    "    print('Hello Alex') # then it checks if the name is correct\n",
    "elif age < 18:\n",
    "    print('You are not Alex, kiddo.') \n",
    "elif age < 100:\n",
    "    print('hi grandma!')\n",
    "elif age < 1000:\n",
    "    print('Hello Vampire!')\n",
    "else:\n",
    "    print('Unlike you, Alex is not an undead, immortal vampire.')"
   ]
  },
  {
   "cell_type": "markdown",
   "id": "5dc5e667-8794-4e00-adab-d6533384de3c",
   "metadata": {},
   "source": [
    "# I encountered an arror that was comparing string to an integer in the code because the age variable was defined as a string. To fix it age = int(input()) \n"
   ]
  },
  {
   "cell_type": "markdown",
   "id": "8772e58e-1273-4816-8b6f-b855ecae84de",
   "metadata": {},
   "source": [
    "# Improved more interactive vampire.py"
   ]
  },
  {
   "cell_type": "code",
   "execution_count": 5,
   "id": "f5c9e233-46e3-4168-9138-2e8bb2a6e6d9",
   "metadata": {},
   "outputs": [
    {
     "name": "stdout",
     "output_type": "stream",
     "text": [
      "Welcome to the Vampire Detector!\n",
      "\n",
      "What would you like to do?\n",
      "1. Check a name and age\n",
      "2. Exit\n"
     ]
    },
    {
     "name": "stdin",
     "output_type": "stream",
     "text": [
      "Enter your choice (1 or 2):  alex\n"
     ]
    },
    {
     "name": "stdout",
     "output_type": "stream",
     "text": [
      "Invalid choice. Please enter 1 or 2.\n",
      "\n",
      "What would you like to do?\n",
      "1. Check a name and age\n",
      "2. Exit\n"
     ]
    },
    {
     "name": "stdin",
     "output_type": "stream",
     "text": [
      "Enter your choice (1 or 2):  1\n",
      "Enter a name:  Alex\n",
      "Enter an age:  1001\n"
     ]
    },
    {
     "name": "stdout",
     "output_type": "stream",
     "text": [
      "Hello Alex!\n",
      "\n",
      "What would you like to do?\n",
      "1. Check a name and age\n",
      "2. Exit\n"
     ]
    },
    {
     "name": "stdin",
     "output_type": "stream",
     "text": [
      "Enter your choice (1 or 2):  1\n",
      "Enter a name:  Dante\n",
      "Enter an age:  1001\n"
     ]
    },
    {
     "name": "stdout",
     "output_type": "stream",
     "text": [
      "Unlike you, Alex is not an undead, immortal vampire.\n",
      "\n",
      "What would you like to do?\n",
      "1. Check a name and age\n",
      "2. Exit\n"
     ]
    },
    {
     "name": "stdin",
     "output_type": "stream",
     "text": [
      "Enter your choice (1 or 2):  2\n"
     ]
    },
    {
     "name": "stdout",
     "output_type": "stream",
     "text": [
      "Thank you for using the Vampire Detector. Goodbye!\n"
     ]
    }
   ],
   "source": [
    "import colorama\n",
    "from colorama import Fore, Style\n",
    "colorama.init()\n",
    "\n",
    "def get_vampire_status(name, age):\n",
    "    if name.lower() == 'alex':\n",
    "        return f\"{Fore.GREEN}Hello Alex!{Style.RESET_ALL}\"\n",
    "    elif age < 18:\n",
    "        return f\"{Fore.YELLOW}You are not Alex, kiddo.{Style.RESET_ALL}\"\n",
    "    elif age < 100:\n",
    "        return f\"{Fore.BLUE}Hi grandma!{Style.RESET_ALL}\"\n",
    "    elif age < 1000:\n",
    "        return f\"{Fore.RED}Hello Vampire!{Style.RESET_ALL}\"\n",
    "    else:\n",
    "        return f\"{Fore.MAGENTA}Unlike you, Alex is not an undead, immortal vampire.{Style.RESET_ALL}\"\n",
    "\n",
    "def main():\n",
    "    print(f\"{Fore.CYAN}Welcome to the Vampire Detector!{Style.RESET_ALL}\")\n",
    "    \n",
    "    while True:\n",
    "        print(\"\\nWhat would you like to do?\")\n",
    "        print(\"1. Check a name and age\")\n",
    "        print(\"2. Exit\")\n",
    "        \n",
    "        choice = input(\"Enter your choice (1 or 2): \")\n",
    "        \n",
    "        if choice == '1':\n",
    "            name = input(\"Enter a name: \")\n",
    "            try:\n",
    "                age = int(input(\"Enter an age: \"))\n",
    "                result = get_vampire_status(name, age)\n",
    "                print(result)\n",
    "            except ValueError:\n",
    "                print(f\"{Fore.RED}Please enter a valid age (a number).{Style.RESET_ALL}\")\n",
    "        elif choice == '2':\n",
    "            print(f\"{Fore.CYAN}Thank you for using the Vampire Detector. Goodbye!{Style.RESET_ALL}\")\n",
    "            break\n",
    "        else:\n",
    "            print(f\"{Fore.RED}Invalid choice. Please enter 1 or 2.{Style.RESET_ALL}\")\n",
    "\n",
    "if __name__ == \"__main__\":\n",
    "    main()"
   ]
  },
  {
   "cell_type": "code",
   "execution_count": null,
   "id": "d18055d3-da5b-47f1-831b-1dc265ead1d3",
   "metadata": {},
   "outputs": [],
   "source": []
  },
  {
   "cell_type": "code",
   "execution_count": 3,
   "id": "c1a8f7f1-8add-4076-8cb8-d860b5159d8c",
   "metadata": {},
   "outputs": [
    {
     "ename": "SyntaxError",
     "evalue": "unexpected EOF while parsing (1456396679.py, line 49)",
     "output_type": "error",
     "traceback": [
      "\u001b[0;36m  Input \u001b[0;32mIn [3]\u001b[0;36m\u001b[0m\n\u001b[0;31m    age = int(input(\"Enter an age: \"))\u001b[0m\n\u001b[0m                                      ^\u001b[0m\n\u001b[0;31mSyntaxError\u001b[0m\u001b[0;31m:\u001b[0m unexpected EOF while parsing\n"
     ]
    }
   ],
   "source": [
    "import colorama\n",
    "from colorama import Fore, Style\n",
    "\n",
    "# Initialize colorama to enable colored text in the console\n",
    "colorama.init()\n",
    "\n",
    "def get_vampire_status(name, age):\n",
    "    \"\"\"\n",
    "    Determine the vampire status based on the name and age provided.\n",
    "    Returns a string with a message and color formatting.\n",
    "    \"\"\"\n",
    "    if name.lower() == 'alex':\n",
    "        # If the name is 'Alex', return a greeting with green text\n",
    "        return f\"{Fore.GREEN}Hello Alex!{Style.RESET_ALL}\"\n",
    "    elif age < 18:\n",
    "        # If age is less than 18, return a message with yellow text\n",
    "        return f\"{Fore.YELLOW}You are not Alex, kiddo.{Style.RESET_ALL}\"\n",
    "    elif age < 100:\n",
    "        # If age is less than 100, return a message with blue text\n",
    "        return f\"{Fore.BLUE}Hi grandma!{Style.RESET_ALL}\"\n",
    "    elif age < 1000:\n",
    "        # If age is less than 1000, return a message with red text\n",
    "        return f\"{Fore.RED}Hello Vampire!{Style.RESET_ALL}\"\n",
    "    else:\n",
    "        # If age is 1000 or more, return a message with magenta text\n",
    "        return f\"{Fore.MAGENTA}Unlike you, Alex is not an undead, immortal vampire.{Style.RESET_ALL}\"\n",
    "\n",
    "def main():\n",
    "    \"\"\"\n",
    "    Main function to run the interactive vampire detector program.\n",
    "    \"\"\"\n",
    "    # Print a welcome message with cyan text\n",
    "    print(f\"{Fore.CYAN}Welcome to the Vampire Detector!{Style.RESET_ALL}\")\n",
    "    \n",
    "    while True:\n",
    "        # Present a menu to the user\n",
    "        print(\"\\nWhat would you like to do?\")\n",
    "        print(\"1. Check a name and age\")\n",
    "        print(\"2. Exit\")\n",
    "        \n",
    "        # Get the user's choice\n",
    "        choice = input(\"Enter your choice (1 or 2): \")\n",
    "        \n",
    "        if choice == '1':\n",
    "            # If the user chooses 1, prompt for name and age\n",
    "            name = input(\"Enter a name: \")\n",
    "            try:\n",
    "                # Convert the input age to an integer\n",
    "                age = int(input(\"Enter an age: \"))"
   ]
  },
  {
   "cell_type": "markdown",
   "id": "c6f0a739-b832-49d7-ba2c-91555742cca3",
   "metadata": {},
   "source": [
    "# Python libraries for adding interactivity to applications:\n",
    "\n",
    "Taipy - Allows building interactive web apps and data pipelines using just Python, without needing HTML/CSS/JavaScript. It provides widgets, controls and visual elements to create user interfaces.\n",
    "\n",
    "Shiny - A framework for building interactive web applications in Python. It uses a reactive programming model to easily create dynamic, responsive interfaces.\n",
    "\n",
    "Plotly - Creates interactive, web-based visualizations and charts that users can zoom, pan, and interact with.\n",
    "\n",
    "Bokeh - A library for creating interactive visualizations for modern web browsers. It provides a flexible way to create interactive plots, dashboards, and data applications.\n",
    "\n",
    "Dash - Built on top of Flask, Plotly.js and React.js, Dash allows creating analytical web applications with highly custom user interfaces.\n",
    "ipywidgets - Provides interactive HTML widgets for Jupyter notebooks and the IPython kernel, allowing creation of interactive GUIs.\n",
    "\n",
    "Panel - Allows creating custom interactive web apps and dashboards by connecting user-defined widgets to plots, images, tables, or text.\n",
    "Streamlit - Makes it easy to create web apps for machine learning and data science with minimal code.\n",
    "\n",
    "PySimpleGUI - Provides a simple way to create GUIs with Python, simplifying tkinter, Qt and other frameworks.\n",
    "\n",
    "Kivy - An open source library for developing cross-platform applications with natural user interfaces.\n",
    "\n",
    "# These libraries enable Python developers to add various levels of interactivity to their applications, from simple GUI elements to complex web-based dashboards, without necessarily needing web development skills. The choice depends on the specific requirements of the project and the developer's familiarity with the library."
   ]
  },
  {
   "cell_type": "markdown",
   "id": "cf39920b-01f3-4efb-80d4-ee38083a65c9",
   "metadata": {
    "tags": []
   },
   "source": [
    "# If statements recap"
   ]
  },
  {
   "cell_type": "markdown",
   "id": "053965bb-6875-4d76-9c65-47e4ae23f806",
   "metadata": {},
   "source": [
    "To recap:\n",
    "    \n",
    "- An if statement can be used to conditionally execute code, depending on whether or not the if statement's condition is True or False.\n",
    "\n",
    "- An elif (that is, \"else if') statement can follow an if statement. Its block executes if its condition is True and all of the previous conditions have been False.\n",
    "           \n",
    "- An else statement comes at the end. It's block is executed if all of the previous conditions have been False.\n",
    "           \n",
    "- The values 0, 0.0, and the empty string are considered to be Falsey values.\n",
    "           \n",
    "- When used in conditions they are considered False. You can always see for yourself which values are Truthy or Falsey by passing them to the bool)"
   ]
  },
  {
   "cell_type": "markdown",
   "id": "c1cc5b1d-41a9-433f-aa25-16a01a8ddcb5",
   "metadata": {},
   "source": [
    "# Loops"
   ]
  },
  {
   "cell_type": "markdown",
   "id": "af83ecc3-be20-4bac-a5e5-c8243714312e",
   "metadata": {},
   "source": [
    "# while Loop Statements\n",
    "\n",
    "- The code in a while clause will be executed as long as the while statement’s condition is True.\n",
    "\n",
    "• The while keyword\n",
    "\n",
    "• A condition (that is, an expression that evaluates to True or False)\n",
    "\n",
    "• A colon\n",
    "\n",
    "• Starting on the next line, an indented block of code (called the while clause)\n",
    "\n",
    "- Infinite Loops: If the condition never becomes False, you'll have an infinite loop.\n"
   ]
  },
  {
   "cell_type": "markdown",
   "id": "77c076f0-8d60-42d9-811d-f2a0c176d0ca",
   "metadata": {},
   "source": [
    "# Examples\n",
    "\n",
    "- User Input\n",
    "\n",
    "user_input = \"\"\n",
    "while user_input != \"quit\":\n",
    "    user_input = input(\"Enter a command (type 'quit' to exit): \")\n",
    "    print(\"You entered:\", user_input)\n",
    "    \n",
    "- With a Break Statement\n",
    "\n",
    "while True:\n",
    "    response = input(\"Enter 'exit' to quit: \")\n",
    "    if response == 'exit':\n",
    "        break\n",
    "    print(\"You typed:\", response)\n",
    "    \n",
    "    \n",
    "# Common Pitfalls\n",
    "\n",
    "Forgetting to update the condition: This can lead to infinite loops.\n",
    "\n",
    "Off-by-one errors: Be careful about whether you want the loop to run including or excluding the final value."
   ]
  },
  {
   "cell_type": "code",
   "execution_count": null,
   "id": "007a8cc0-59da-4975-ad7e-289aae3e3aa7",
   "metadata": {},
   "outputs": [],
   "source": [
    "import random\n",
    "\n",
    "def generate_account_number():\n",
    "    return random.randint(10000000, 99999999)\n",
    "\n",
    "def display_menu():\n",
    "    print(\"\\n===== Bank Account Menu =====\")\n",
    "    print(\"1. Check Balance\")\n",
    "    print(\"2. Deposit\")\n",
    "    print(\"3. Withdraw\")\n",
    "    print(\"4. Exit\")\n",
    "\n",
    "# Initialize account\n",
    "balance = 1000.0\n",
    "account_number = generate_account_number()\n",
    "transaction_count = 0\n",
    "MAX_TRANSACTIONS = 5\n",
    "\n",
    "print(f\"Welcome! Your account number is: {account_number}\")\n",
    "\n",
    "while True:\n",
    "    display_menu()\n",
    "    choice = input(\"Enter your choice (1-4): \")\n",
    "\n",
    "    if choice == '4':\n",
    "        print(\"Thank you for using our banking system. Goodbye!\")\n",
    "        break\n",
    "\n",
    "    if transaction_count >= MAX_TRANSACTIONS:\n",
    "        print(\"You've reached the maximum number of transactions. Please try again later.\")\n",
    "        continue\n",
    "\n",
    "    if choice == '1':\n",
    "        print(f\"Your current balance is: ${balance:.2f}\")\n",
    "    elif choice == '2':\n",
    "        try:\n",
    "            amount = float(input(\"Enter amount to deposit: $\"))\n",
    "            if amount <= 0:\n",
    "                raise ValueError(\"Amount must be positive\")\n",
    "            balance += amount\n",
    "            print(f\"Deposit successful. New balance: ${balance:.2f}\")\n",
    "            transaction_count += 1\n",
    "        except ValueError as e:\n",
    "            print(f\"Invalid input: {e}\")\n",
    "    elif choice == '3':\n",
    "        try:\n",
    "            amount = float(input(\"Enter amount to withdraw: $\"))\n",
    "            if amount <= 0:\n",
    "                raise ValueError(\"Amount must be positive\")\n",
    "            if amount > balance:\n",
    "                raise ValueError(\"Insufficient funds\")\n",
    "            balance -= amount\n",
    "            print(f\"Withdrawal successful. New balance: ${balance:.2f}\")\n",
    "            transaction_count += 1\n",
    "        except ValueError as e:\n",
    "            print(f\"Invalid input: {e}\")\n",
    "    else:\n",
    "        print(\"Invalid choice. Please enter a number between 1 and 4.\")\n",
    "\n",
    "    print(f\"Transactions remaining: {MAX_TRANSACTIONS - transaction_count}\")"
   ]
  },
  {
   "cell_type": "markdown",
   "id": "c132a29c-bb87-4283-b5f1-3907cea8ba79",
   "metadata": {
    "tags": []
   },
   "source": [
    "# Explanation:\n",
    "\n",
    "Imports and Function Definitions:\n",
    "We import random to generate account numbers.\n",
    "generate_account_number() creates a random 8-digit number.\n",
    "display_menu() shows the user interface options.\n",
    "Account Initialization:\n",
    "We set an initial balance and generate an account number.\n",
    "transaction_count keeps track of the number of transactions.\n",
    "MAX_TRANSACTIONS limits the number of operations per session.\n",
    "Main While Loop:\n",
    "The loop runs indefinitely (while True) until explicitly broken.\n",
    "It displays the menu and processes user input in each iteration.\n",
    "Menu Options:\n",
    "Option 4 (Exit) breaks the loop, ending the program.\n",
    "Other options are processed within the loop.\n",
    "Transaction Limit Check:\n",
    "Before processing options 1-3, it checks if the max transaction limit is reached.\n",
    "If so, it uses continue to skip to the next iteration.\n",
    "Balance Check and Transactions:\n",
    "Option 1 simply displays the balance.\n",
    "Options 2 (Deposit) and 3 (Withdraw) modify the balance.\n",
    "Error Handling:\n",
    "try/except blocks catch and handle invalid inputs (e.g., negative amounts, insufficient funds).\n",
    "Transaction Counting:\n",
    "Successful transactions increment the transaction_count.\n",
    "User Feedback:\n",
    "After each operation, it shows the remaining number of transactions.\n",
    "This example demonstrates:\n",
    "A practical application of while loops\n",
    "Nested conditional statements\n",
    "Error handling\n",
    "User input processing\n",
    "State management (balance and transaction count)\n",
    "Use of break and continue statements"
   ]
  },
  {
   "cell_type": "code",
   "execution_count": 1,
   "id": "52201b1c-d83b-4f9f-bcbe-fea2f58c0ded",
   "metadata": {},
   "outputs": [
    {
     "name": "stdout",
     "output_type": "stream",
     "text": [
      "Hello, world.\n",
      "Hello, world.\n",
      "Hello, world.\n",
      "Hello, world.\n"
     ]
    }
   ],
   "source": [
    "spam = 0\n",
    "while spam < 4:\n",
    "    print('Hello, world.')\n",
    "    spam = spam + 1"
   ]
  },
  {
   "cell_type": "code",
   "execution_count": 2,
   "id": "56e23dd5-6da1-41d2-bfd1-bd1294aea26a",
   "metadata": {},
   "outputs": [
    {
     "name": "stdout",
     "output_type": "stream",
     "text": [
      "Hello, world.\n"
     ]
    }
   ],
   "source": [
    "spam = 0\n",
    "if spam < 5:\n",
    "    print('Hello, world.')\n",
    "    spam = spam + 1"
   ]
  },
  {
   "cell_type": "code",
   "execution_count": null,
   "id": "56f78997-5c8e-47c2-bf9e-b5a94f2aa3ca",
   "metadata": {},
   "outputs": [],
   "source": [
    "# INFINATE LOOP EXAMPLE\n",
    "\n",
    "''' name = ''\n",
    "\n",
    "while name != 'your name':\n",
    "    print('Please type your name.')\n",
    "    name = input()\n",
    "\n",
    "print('Thank you!')'''"
   ]
  },
  {
   "cell_type": "markdown",
   "id": "ab8ef3b8-eacd-46b3-8304-87ce499cf97c",
   "metadata": {
    "tags": []
   },
   "source": [
    "# break Statements\n",
    "\n",
    "There is a shortcut to getting the program execution to break out of a while\n",
    "loop’s clause early.\n",
    "\n",
    "while True:\n",
    "    print('Please type your name.')\n",
    "    name = input()\n",
    "    if name == 'your name':\n",
    "    break\n",
    "    \n",
    "print('Thank you!')"
   ]
  },
  {
   "cell_type": "markdown",
   "id": "f8e6a01c-6849-491d-9923-7f55b0702a58",
   "metadata": {
    "tags": []
   },
   "source": [
    "# continue Statements\n",
    "\n",
    "\n",
    "while True:\n",
    "    print('Who are you?')\n",
    "    name = input()\n",
    "    if name != 'Joe':\n",
    "        continue\n",
    "    print('Hello, Joe. What is the password? (It is a fish.)')\n",
    "    password = input()\n",
    "    if password == 'swordfish':\n",
    "        break\n",
    "\n",
    "print('Access granted.')\n",
    "\n"
   ]
  },
  {
   "cell_type": "markdown",
   "id": "7ce5cf1c-3545-49d8-86e0-a4c3a25ea7aa",
   "metadata": {},
   "source": [
    "# while statements recap:\n",
    "\n",
    "- When the execution reaches the end of a while statement's block, it jumps back to the start to re-check the condition.\n",
    "\n",
    "- Press CtrI-C to interrupt an infinite loop.\n",
    "\n",
    "- A break statement causes the execution to immediately leave the loop, without re-checking the condition.\n",
    "\n",
    "- A continue statement causes the execution to immediately jump back to the start of the loop and re-check the"
   ]
  },
  {
   "cell_type": "markdown",
   "id": "b1a59b9c-efed-43e0-944a-2ec9983b17da",
   "metadata": {},
   "source": [
    "# For Loops"
   ]
  },
  {
   "cell_type": "markdown",
   "id": "7b007fc9-b006-4e1c-8421-c12a52e69115",
   "metadata": {},
   "source": [
    "The while loop keeps looping while its condition is True (which is the reason for its name), but what if you want to execute a block of code only a certain number of times? You can do this with a for loop statement and the range() function.\n",
    "\n",
    "In code, a for statement looks something like for i in range(5): and includes the following:\n",
    "\n",
    "• The for keyword\n",
    "\n",
    "• A variable name\n",
    "\n",
    "• The in keyword\n",
    "\n",
    "• A call to the range() method with up to three integers passed to it\n",
    "\n",
    "• A colon\n",
    "\n",
    "• Starting on the next line, an indented block of code (called the for clause)"
   ]
  },
  {
   "cell_type": "markdown",
   "id": "2fbe4d5a-27e7-4b51-ae96-d1f4c68d2e9f",
   "metadata": {},
   "source": [
    "# Important! In comparison to while loop which is looping while certain condition is true, for loop would loop a number of times."
   ]
  },
  {
   "cell_type": "code",
   "execution_count": null,
   "id": "2b582594-5a0e-4733-a453-21306b1ae719",
   "metadata": {},
   "outputs": [],
   "source": [
    "# print('My name is')\n",
    "\n",
    "# for i in range(5):\n",
    "\n",
    "# i = 0\n",
    "\n",
    "#while i < 5:\n",
    "    # print('Alexis Five Times (' + str(i) + ')')"
   ]
  },
  {
   "cell_type": "code",
   "execution_count": 2,
   "id": "3fe0f130-280a-4cd2-9693-2fea415758f1",
   "metadata": {},
   "outputs": [
    {
     "name": "stdout",
     "output_type": "stream",
     "text": [
      "5050\n"
     ]
    }
   ],
   "source": [
    "# adding all numbers from 1 to 1oo .py\n",
    "\n",
    "total = 0\n",
    "\n",
    "for num in range(101):\n",
    "    total = total + num\n",
    "\n",
    "print(total)\n",
    "\n"
   ]
  },
  {
   "cell_type": "markdown",
   "id": "16a69855-0871-4b2c-a92e-1ed20772e3c8",
   "metadata": {},
   "source": [
    "# To recap:\n",
    "\n",
    "- for loops will loop a specific number of times.\n",
    "\n",
    "- The range) function called with one, two, or three arguments.\n",
    "\n",
    "- break and continue can be used in for loops."
   ]
  },
  {
   "cell_type": "markdown",
   "id": "9170b99e-255a-4c7e-b176-29379158e8dc",
   "metadata": {},
   "source": [
    "# Exercises"
   ]
  },
  {
   "cell_type": "markdown",
   "id": "21e6f3b6-bf52-4dff-baae-d603e7060509",
   "metadata": {},
   "source": [
    "- Q1 What are the two values of the Boolean data type? How do you write them\n",
    "\n",
    "True and False"
   ]
  },
  {
   "cell_type": "markdown",
   "id": "7a566d04-42fe-4e15-852c-5270ed5f55d7",
   "metadata": {},
   "source": [
    "- Q2 2. What are the three Boolean operators?\n",
    "\n",
    "and, or and not"
   ]
  },
  {
   "cell_type": "markdown",
   "id": "7b214efc-960d-4cc5-8f1d-67d2ba498408",
   "metadata": {},
   "source": [
    "# Q3 Write out the truth tables of each Boolean operator (that is, every possible combination of Boolean values for the operator and what they evaluate to).\n",
    "\n",
    "- and operator \n",
    "\n",
    "True and True is True.\n",
    "\n",
    "True and False is False.\n",
    "\n",
    "False and True is False.\n",
    "\n",
    "False and False is False\n",
    "\n",
    "- or operator\n",
    "\n",
    "True or True is True.\n",
    "\n",
    "True or False is True.\n",
    "\n",
    "False or True is True.\n",
    "\n",
    "False or False is False.\n",
    "\n",
    "- not operator\n",
    "\n",
    "not True is False.\n",
    "\n",
    "not False is True."
   ]
  },
  {
   "cell_type": "markdown",
   "id": "966509d7-5388-4275-83c4-dab554b15cda",
   "metadata": {},
   "source": [
    "# Q4 4. What do the following expressions evaluate to?\n",
    "\n",
    "(5 > 4) and (3 == 5) - False\n",
    "\n",
    "not (5 > 4) - False \n",
    "\n",
    "(5 > 4) or (3 == 5) - True \n",
    "\n",
    "not ((5 > 4) or (3 == 5)) - False \n",
    "\n",
    "(True and True) and (True == False) - False \n",
    "\n",
    "(not False) or (not True) - True "
   ]
  },
  {
   "cell_type": "markdown",
   "id": "b98b28d1-47d5-4b25-9834-3b4d9c7c25e1",
   "metadata": {},
   "source": [
    "# Q5 5. What are the six comparison operators?\n",
    "\n",
    "==\n",
    "\n",
    "!=\n",
    "\n",
    ">\n",
    "\n",
    "<\n",
    "\n",
    "<=\n",
    "\n",
    ">="
   ]
  },
  {
   "cell_type": "markdown",
   "id": "a174063e-1700-475d-bd00-4a21cff65ba5",
   "metadata": {},
   "source": [
    "# Q6 6. What is the difference between the equal to operator and the assignment operator?\n",
    "\n",
    "= - the assignment to is used to assign value\n",
    "\n",
    "== the equal to is used to cmpare two values to a Boolean"
   ]
  },
  {
   "cell_type": "markdown",
   "id": "9031e3e5-8dbe-48e4-b602-b5d901500326",
   "metadata": {},
   "source": [
    "# Q7. 7. Explain what a condition is and where you would use one.\n",
    "\n",
    "Condition is used for evaluation to a Boolean value in flow control"
   ]
  },
  {
   "cell_type": "markdown",
   "id": "e90f20fa-eda5-4239-8df8-eb9ade47fed0",
   "metadata": {},
   "source": [
    "# Q8 8. Identify the three blocks in this code:\n",
    "\n",
    "spam = 0\n",
    "\n",
    "if spam == 10:\n",
    "    print('eggs')\n",
    "    if spam > 5:\n",
    "        print('bacon')\n",
    "    else:\n",
    "        print('ham')\n",
    "    print('spam')\n",
    "\n",
    "print('spam')"
   ]
  },
  {
   "cell_type": "markdown",
   "id": "07dfbe44-1552-44c6-bc3a-7fb62247a5d7",
   "metadata": {},
   "source": [
    "# Q9. 9. Write code that prints Hello if 1 is stored in spam, prints Howdy if 2 is stored in spam, and prints Greetings! if anything else is stored in spam.\n",
    "\n",
    "spam = int(input())\n",
    "\n",
    "if spam == 1:\n",
    "    print('Hello')\n",
    "elif spam == 2:\n",
    "    print('Howdy')\n",
    "else:\n",
    "    print('Greetings')"
   ]
  },
  {
   "cell_type": "markdown",
   "id": "8629775e-6167-42c3-9772-d8c762ea42ce",
   "metadata": {},
   "source": [
    "# Q10 10. What keys can you press if your program is stuck in an infinite loop?\n",
    "\n",
    "Ctrl + C windows\n",
    "Ctri + Z MacOS\n",
    "Control + C Linux"
   ]
  },
  {
   "cell_type": "markdown",
   "id": "e56572b8-a953-45c8-bb91-08576a6afeeb",
   "metadata": {},
   "source": [
    "# Q11 11. What is the difference between break and continue?\n",
    "\n",
    "\"Break\" immediately exits the entire loop it's in, stopping any further iterations. \"Continue\" skips the rest of the current iteration and moves to the next iteration of the loop, allowing the loop to continue running"
   ]
  },
  {
   "cell_type": "markdown",
   "id": "da6efaa5-967c-411e-8a3c-c52718940b49",
   "metadata": {},
   "source": [
    "# Q12 What is the difference between range(10), range(0, 10), and range(0, 10, 1) in a for loop?\n",
    "\n",
    "They basically do the same thiing. However, range(10) call ranges from 0 up to (but\n",
    "not including) 10, range(0, 10) explicitly tells the loop to start at 0, and\n",
    "range(0, 10, 1) explicitly tells the loop to increase the variable by 1 on\n",
    "each iteration."
   ]
  },
  {
   "cell_type": "markdown",
   "id": "1330ab85-ad71-4dd9-be79-0f0dcf20bd06",
   "metadata": {},
   "source": [
    "# Q13 13. Write a short program that prints the numbers 1 to 10 using a for loop. Then write an equivalent program that prints the numbers 1 to 10 using a while loop.\n",
    "\n",
    "for i in range (1, 11):\n",
    "    print(i)"
   ]
  },
  {
   "cell_type": "markdown",
   "id": "7c616226-99b2-42a5-8e27-14616ad3a85a",
   "metadata": {},
   "source": [
    "# Q14 14. If you had a function named bacon() inside a module named spam, how would you call it after importing spam?\n",
    "\n",
    "spam.bacon()"
   ]
  },
  {
   "cell_type": "markdown",
   "id": "7108c498-7fda-47cd-93e0-1adf8420f9fb",
   "metadata": {},
   "source": [
    "# The End and To Be reviewd Regularly"
   ]
  },
  {
   "cell_type": "code",
   "execution_count": null,
   "id": "ddfe8c57-a5d0-4c68-b779-34f00ff0283f",
   "metadata": {},
   "outputs": [],
   "source": []
  }
 ],
 "metadata": {
  "kernelspec": {
   "display_name": "Python 3 (ipykernel)",
   "language": "python",
   "name": "python3"
  },
  "language_info": {
   "codemirror_mode": {
    "name": "ipython",
    "version": 3
   },
   "file_extension": ".py",
   "mimetype": "text/x-python",
   "name": "python",
   "nbconvert_exporter": "python",
   "pygments_lexer": "ipython3",
   "version": "3.9.12"
  }
 },
 "nbformat": 4,
 "nbformat_minor": 5
}
