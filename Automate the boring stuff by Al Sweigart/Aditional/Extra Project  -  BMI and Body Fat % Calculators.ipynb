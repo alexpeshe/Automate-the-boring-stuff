{
 "cells": [
  {
   "cell_type": "markdown",
   "id": "316a8de3-6822-435d-9cda-21b5d47570d3",
   "metadata": {
    "jp-MarkdownHeadingCollapsed": true,
    "tags": []
   },
   "source": [
    "# Extra Project\n",
    "\n",
    "# BMI and Body Fat % Calculators"
   ]
  },
  {
   "cell_type": "markdown",
   "id": "22b0a219-7ba5-4821-bf40-4d94fbaed965",
   "metadata": {
    "tags": []
   },
   "source": [
    "# BMI calculator"
   ]
  },
  {
   "cell_type": "code",
   "execution_count": 10,
   "id": "b047ca4f-b97b-47ad-ae66-a30f65586d5c",
   "metadata": {},
   "outputs": [
    {
     "name": "stdout",
     "output_type": "stream",
     "text": [
      "Please insert your body weight in kg below: \n"
     ]
    },
    {
     "name": "stdin",
     "output_type": "stream",
     "text": [
      " 101\n"
     ]
    },
    {
     "name": "stdout",
     "output_type": "stream",
     "text": [
      "Please insert your body height in m below: \n"
     ]
    },
    {
     "name": "stdin",
     "output_type": "stream",
     "text": [
      " 1.98\n"
     ]
    },
    {
     "name": "stdout",
     "output_type": "stream",
     "text": [
      "Your BMI is: 25.762677277828793\n"
     ]
    }
   ],
   "source": [
    "\n",
    "print(\"Please insert your body weight in kg below: \")\n",
    "w = float(input())\n",
    "print(\"Please insert your body height in m below: \")\n",
    "h = float(input())\n",
    "\n",
    "BMI = w  / (h **2)\n",
    "\n",
    "print(\"Your BMI is: \" + str(BMI))\n"
   ]
  },
  {
   "cell_type": "markdown",
   "id": "52f49f6c-d480-42a2-baf5-fda7d1cb23c0",
   "metadata": {
    "tags": []
   },
   "source": [
    "# Body Fat % Adults Only"
   ]
  },
  {
   "cell_type": "code",
   "execution_count": 16,
   "id": "4c989c80-edcf-4a21-99a6-eb24142eb651",
   "metadata": {
    "tags": []
   },
   "outputs": [
    {
     "name": "stdout",
     "output_type": "stream",
     "text": [
      "Please insert your BMI below: \n"
     ]
    },
    {
     "name": "stdin",
     "output_type": "stream",
     "text": [
      " 25.75\n"
     ]
    },
    {
     "name": "stdout",
     "output_type": "stream",
     "text": [
      "Please insert your age below: \n"
     ]
    },
    {
     "name": "stdin",
     "output_type": "stream",
     "text": [
      " 33\n"
     ]
    },
    {
     "name": "stdout",
     "output_type": "stream",
     "text": [
      "Press f for a female or m for a male. Please insert your gender below: \n"
     ]
    },
    {
     "name": "stdin",
     "output_type": "stream",
     "text": [
      " m\n"
     ]
    },
    {
     "name": "stdout",
     "output_type": "stream",
     "text": [
      "Your estimated body fat percentage is 22.29%\n"
     ]
    }
   ],
   "source": [
    "print(\"Please insert your BMI below: \")\n",
    "BMI = float(input())\n",
    "print(\"Please insert your age below: \")\n",
    "age = int(input())\n",
    "\n",
    "print(\"Press f for a female or m for a male. Please insert your gender below: \")\n",
    "gender = input().lower()\n",
    "    \n",
    "def body_fat(BMI, age, gender):\n",
    "    if gender == 'm':\n",
    "        # Apply the formula for males\n",
    "        percentage = 1.20 * BMI + 0.23 * age - 16.2\n",
    "    elif gender == 'f':\n",
    "        # Apply the formula for females\n",
    "        percentage = 1.20 * BMI + 0.23 * age - 5.4\n",
    "    else:\n",
    "        return \"Your input is invalid\"\n",
    "    \n",
    "    return f\"Your estimated body fat percentage is {percentage:.2f}%\"\n",
    "\n",
    "\n",
    "#This function takes the BMI, age and gender as parameters.\n",
    "\n",
    "\n",
    "result = body_fat(BMI, age, gender)\n",
    "print(result)"
   ]
  },
  {
   "cell_type": "markdown",
   "id": "c0a02090-ec69-407c-b7f2-b94bca3c1ad2",
   "metadata": {
    "tags": []
   },
   "source": [
    "# U.S. Navy Method\n"
   ]
  },
  {
   "cell_type": "markdown",
   "id": "9031edc7-8e57-428b-98cc-88b0b9ebcd3c",
   "metadata": {},
   "source": [
    "This method uses body circumference measurements and is considered fairly accurate for most people:\n",
    "\n",
    "- For men:\n",
    "\n",
    "Body Fat % = 86.010 × log10(abdomen - neck) - 70.041 × log10(height) + 36.76\n",
    "\n",
    "- For women:\n",
    "\n",
    "Body Fat % = 163.205 × log10(waist + hip - neck) - 97.684 × log10(height) - 78.387\n",
    "\n",
    "Where measurements are in inches for the U.S. customary system."
   ]
  },
  {
   "cell_type": "code",
   "execution_count": 19,
   "id": "7a3fd78e-a886-423e-a3b8-27ee0036faa1",
   "metadata": {},
   "outputs": [
    {
     "name": "stdout",
     "output_type": "stream",
     "text": [
      "Please insert your waist in cm below: \n"
     ]
    },
    {
     "name": "stdin",
     "output_type": "stream",
     "text": [
      " 70\n"
     ]
    },
    {
     "name": "stdout",
     "output_type": "stream",
     "text": [
      "Please insert your neck in cm below: \n"
     ]
    },
    {
     "name": "stdin",
     "output_type": "stream",
     "text": [
      " 32\n"
     ]
    },
    {
     "name": "stdout",
     "output_type": "stream",
     "text": [
      "Please insert your height in cm below: \n"
     ]
    },
    {
     "name": "stdin",
     "output_type": "stream",
     "text": [
      " 169\n"
     ]
    },
    {
     "name": "stdout",
     "output_type": "stream",
     "text": [
      "Press f for female or m for male. Please insert your gender below: \n"
     ]
    },
    {
     "name": "stdin",
     "output_type": "stream",
     "text": [
      " f\n"
     ]
    },
    {
     "name": "stdout",
     "output_type": "stream",
     "text": [
      "Please insert your hip measurement in cm: \n"
     ]
    },
    {
     "name": "stdin",
     "output_type": "stream",
     "text": [
      " 92\n"
     ]
    },
    {
     "name": "stdout",
     "output_type": "stream",
     "text": [
      "Your estimated body fat percentage is 22.24%\n"
     ]
    }
   ],
   "source": [
    "import math\n",
    "\n",
    "print(\"Please insert your waist in cm below: \")\n",
    "waist = float(input())\n",
    "print(\"Please insert your neck in cm below: \")\n",
    "neck = float(input())\n",
    "print(\"Please insert your height in cm below: \")\n",
    "height = float(input())\n",
    "# prompts the user to enter their measurements\n",
    "\n",
    "print(\"Press f for female or m for male. Please insert your gender below: \")\n",
    "gender = input().lower()\n",
    "# This asks for gender input and converts it to lowercase to handle both 'F' and 'f' or 'M' and \n",
    "\n",
    "def calculate_body_fat_percentage(waist, neck, height, gender):\n",
    "    if gender == 'm':\n",
    "        # Formula for men\n",
    "        log_waist_neck = math.log10(waist - neck) \n",
    "        log_height = math.log10(height) #this checks if the gender input is male.\n",
    "        body_fat = (495 / (1.0324 - 0.19077 * log_waist_neck + 0.15456 * log_height)) - 450\n",
    "    elif gender == 'f':\n",
    "        # Formula for women\n",
    "        print(\"Please insert your hip measurement in cm: \")\n",
    "        hip = float(input())\n",
    "        log_waist_hip_neck = math.log10(waist + hip - neck)\n",
    "        log_height = math.log10(height) #this checks if the gender input is female.\n",
    "        body_fat = (495 / (1.29579 - 0.35004 * log_waist_hip_neck + 0.22100 * log_height)) - 450\n",
    "    else:\n",
    "        return \"Invalid gender input\"\n",
    "    \n",
    "    return f\"Your estimated body fat percentage is {body_fat:.2f}%\"\n",
    "\n",
    "#This function takes the waist, neck, height, and gender as parameters.\n",
    "\n",
    "\n",
    "result = calculate_body_fat_percentage(waist, neck, height, gender)\n",
    "print(result)"
   ]
  },
  {
   "cell_type": "code",
   "execution_count": null,
   "id": "f744af76-90ba-4e91-9545-035db667bc9b",
   "metadata": {},
   "outputs": [],
   "source": []
  }
 ],
 "metadata": {
  "kernelspec": {
   "display_name": "Python 3 (ipykernel)",
   "language": "python",
   "name": "python3"
  },
  "language_info": {
   "codemirror_mode": {
    "name": "ipython",
    "version": 3
   },
   "file_extension": ".py",
   "mimetype": "text/x-python",
   "name": "python",
   "nbconvert_exporter": "python",
   "pygments_lexer": "ipython3",
   "version": "3.9.12"
  }
 },
 "nbformat": 4,
 "nbformat_minor": 5
}
