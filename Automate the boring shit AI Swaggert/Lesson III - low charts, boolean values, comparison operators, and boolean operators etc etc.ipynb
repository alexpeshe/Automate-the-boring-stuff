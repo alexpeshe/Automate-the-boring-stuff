{
 "cells": [
  {
   "cell_type": "markdown",
   "id": "cf9da954-91d5-42a8-950a-14075ec19330",
   "metadata": {},
   "source": [
    "# Lesson 3\n",
    "covers Flow charts, boolean values, comparison operators, and boolean operators."
   ]
  },
  {
   "cell_type": "markdown",
   "id": "28712ce0-b1e9-483c-8f44-233bb3202426",
   "metadata": {},
   "source": [
    "Three important things to concentrate on in this lesson\n",
    "\n",
    "- Boolean Values\n",
    "- Comparison Operators\n",
    "- Boolean Operators"
   ]
  },
  {
   "cell_type": "markdown",
   "id": "d0101646-18ab-4ad2-8923-7a9f404157a2",
   "metadata": {},
   "source": [
    " # Boolean Values \n",
    " \n",
    " They consist only of True and False.\n",
    " \n",
    " They can also be stored in variables. \n",
    " \n",
    " Make sure to right them with capital first letter only."
   ]
  },
  {
   "cell_type": "markdown",
   "id": "1b6aa998-09c8-4cae-a65d-4e93b38857b1",
   "metadata": {
    "tags": []
   },
   "source": [
    "# Comparison Operators\n",
    "\n",
    "SIx in total\n",
    "\n",
    "Operator   Meaning\n",
    "\n",
    "==         Equal to\n",
    "!=         Not equal to\n",
    "<          Less than\n",
    ">          Greater than\n",
    "<=         Less than or equal to\n",
    ">=         Greater than or equal to"
   ]
  },
  {
   "cell_type": "code",
   "execution_count": 1,
   "id": "df35ce4a-4101-4b51-93c1-28f7e7458364",
   "metadata": {},
   "outputs": [
    {
     "data": {
      "text/plain": [
       "True"
      ]
     },
     "execution_count": 1,
     "metadata": {},
     "output_type": "execute_result"
    }
   ],
   "source": [
    "42 == 42"
   ]
  },
  {
   "cell_type": "code",
   "execution_count": 5,
   "id": "96177665-ef15-4a54-967e-6e52b0a6cf54",
   "metadata": {},
   "outputs": [
    {
     "data": {
      "text/plain": [
       "False"
      ]
     },
     "execution_count": 5,
     "metadata": {},
     "output_type": "execute_result"
    }
   ],
   "source": [
    "42 == 33"
   ]
  },
  {
   "cell_type": "code",
   "execution_count": 6,
   "id": "92cb4be0-604e-48ff-a3cc-e0b2338a1c16",
   "metadata": {},
   "outputs": [
    {
     "data": {
      "text/plain": [
       "True"
      ]
     },
     "execution_count": 6,
     "metadata": {},
     "output_type": "execute_result"
    }
   ],
   "source": [
    "2 != 3"
   ]
  },
  {
   "cell_type": "code",
   "execution_count": 7,
   "id": "817e8d05-5b35-4bfb-bbda-9c1c18db6e2f",
   "metadata": {},
   "outputs": [
    {
     "data": {
      "text/plain": [
       "True"
      ]
     },
     "execution_count": 7,
     "metadata": {},
     "output_type": "execute_result"
    }
   ],
   "source": [
    "42 < 100"
   ]
  },
  {
   "cell_type": "code",
   "execution_count": 8,
   "id": "c2335c7a-bbad-42e9-8975-99390b82fe93",
   "metadata": {},
   "outputs": [
    {
     "data": {
      "text/plain": [
       "False"
      ]
     },
     "execution_count": 8,
     "metadata": {},
     "output_type": "execute_result"
    }
   ],
   "source": [
    "42 >= 100"
   ]
  },
  {
   "cell_type": "code",
   "execution_count": 9,
   "id": "2f8a001e-0e11-466b-a233-8b68d8ff2c30",
   "metadata": {},
   "outputs": [
    {
     "data": {
      "text/plain": [
       "False"
      ]
     },
     "execution_count": 9,
     "metadata": {},
     "output_type": "execute_result"
    }
   ],
   "source": [
    "42 < 42"
   ]
  },
  {
   "cell_type": "code",
   "execution_count": 10,
   "id": "df51d784-16c2-4010-b888-f76dfd71a9b0",
   "metadata": {},
   "outputs": [
    {
     "data": {
      "text/plain": [
       "False"
      ]
     },
     "execution_count": 10,
     "metadata": {},
     "output_type": "execute_result"
    }
   ],
   "source": [
    "42 <= 34"
   ]
  },
  {
   "cell_type": "code",
   "execution_count": 11,
   "id": "618d97f9-14fe-441a-9d75-2c6f2a30c3c1",
   "metadata": {},
   "outputs": [],
   "source": [
    "myage = 26"
   ]
  },
  {
   "cell_type": "code",
   "execution_count": 12,
   "id": "ffad8392-b4cb-4dae-992d-03ef46c5159f",
   "metadata": {},
   "outputs": [
    {
     "data": {
      "text/plain": [
       "True"
      ]
     },
     "execution_count": 12,
     "metadata": {},
     "output_type": "execute_result"
    }
   ],
   "source": [
    "myage < 30"
   ]
  },
  {
   "cell_type": "code",
   "execution_count": 13,
   "id": "c0776a6e-e5fa-41be-b9d6-3c52edc1301e",
   "metadata": {},
   "outputs": [
    {
     "data": {
      "text/plain": [
       "False"
      ]
     },
     "execution_count": 13,
     "metadata": {},
     "output_type": "execute_result"
    }
   ],
   "source": [
    "42 == '42'#notice that int will never be equal to strings\n"
   ]
  },
  {
   "cell_type": "code",
   "execution_count": 14,
   "id": "2c54cd20-178d-4242-9921-d2d1fab9dc61",
   "metadata": {},
   "outputs": [
    {
     "data": {
      "text/plain": [
       "True"
      ]
     },
     "execution_count": 14,
     "metadata": {},
     "output_type": "execute_result"
    }
   ],
   "source": [
    "42 == 42.0 # while floats are equal to ints"
   ]
  },
  {
   "cell_type": "code",
   "execution_count": 15,
   "id": "b315ff6e-9228-49b2-94de-1e7c615a80c5",
   "metadata": {},
   "outputs": [],
   "source": [
    "spam = 42"
   ]
  },
  {
   "cell_type": "markdown",
   "id": "cb2c3220-234c-44b1-9855-389e2dfcaade",
   "metadata": {},
   "source": [
    "# Boolean Operators\n",
    "\n",
    "and, or, and not are three in total"
   ]
  },
  {
   "cell_type": "code",
   "execution_count": 16,
   "id": "9a174a99-99a4-4b44-9b50-83e7b044d72b",
   "metadata": {},
   "outputs": [
    {
     "data": {
      "text/plain": [
       "True"
      ]
     },
     "execution_count": 16,
     "metadata": {},
     "output_type": "execute_result"
    }
   ],
   "source": [
    "True and True"
   ]
  },
  {
   "cell_type": "code",
   "execution_count": 17,
   "id": "0b61f4a3-ca03-4d62-8309-9f66d670495b",
   "metadata": {},
   "outputs": [
    {
     "data": {
      "text/plain": [
       "False"
      ]
     },
     "execution_count": 17,
     "metadata": {},
     "output_type": "execute_result"
    }
   ],
   "source": [
    "False and True"
   ]
  },
  {
   "cell_type": "markdown",
   "id": "264cab9a-d5a2-41e8-b23d-d14648932de3",
   "metadata": {
    "tags": []
   },
   "source": [
    "# The and Operator's  Truth Table\n",
    "\n",
    "Expression             Evaluates....\n",
    "True and True          True\n",
    "False and True         False\n",
    "True and False         False\n",
    "False and False        False"
   ]
  },
  {
   "cell_type": "code",
   "execution_count": 20,
   "id": "aa7f9b63-287d-4b67-9f85-501b8ad50302",
   "metadata": {},
   "outputs": [
    {
     "data": {
      "text/plain": [
       "True"
      ]
     },
     "execution_count": 20,
     "metadata": {},
     "output_type": "execute_result"
    }
   ],
   "source": [
    "True and True "
   ]
  },
  {
   "cell_type": "code",
   "execution_count": 21,
   "id": "4dbfe50e-ad5a-4942-b42b-d386eef03220",
   "metadata": {},
   "outputs": [
    {
     "data": {
      "text/plain": [
       "False"
      ]
     },
     "execution_count": 21,
     "metadata": {},
     "output_type": "execute_result"
    }
   ],
   "source": [
    "True and False    "
   ]
  },
  {
   "cell_type": "markdown",
   "id": "9b4aa0d9-0d47-48ae-92d0-0325fc2e259a",
   "metadata": {
    "jp-MarkdownHeadingCollapsed": true,
    "tags": []
   },
   "source": [
    "# The  Operator's and Truth Table\n",
    "\n",
    "Expression             Evaluates....\n",
    "True and True          True\n",
    "False and True         True\n",
    "True and False         True\n",
    "False and False        False"
   ]
  },
  {
   "cell_type": "markdown",
   "id": "72006118-410d-46ca-8d5f-8fa81bcd68ab",
   "metadata": {},
   "source": [
    "# The Not Operator only operates in one value\n",
    "\n",
    "Expression             Evaluates....\n",
    "not True               False\n",
    "not False              True"
   ]
  },
  {
   "cell_type": "markdown",
   "id": "e276eb10-a060-4fe6-95cb-eb846831a6ba",
   "metadata": {},
   "source": [
    "# Recap:\n",
    "\n",
    "- Boolean Data Type: True, False\n",
    "- Comparison Operators: ==,!=, <, >, <=, >=\n",
    "-== is comparison, = is assignment\n",
    "- Boolean Operators: and, or, not"
   ]
  },
  {
   "cell_type": "code",
   "execution_count": null,
   "id": "2d053213-04a4-479d-bc15-06e91f5ecca2",
   "metadata": {},
   "outputs": [],
   "source": []
  }
 ],
 "metadata": {
  "kernelspec": {
   "display_name": "Python 3 (ipykernel)",
   "language": "python",
   "name": "python3"
  },
  "language_info": {
   "codemirror_mode": {
    "name": "ipython",
    "version": 3
   },
   "file_extension": ".py",
   "mimetype": "text/x-python",
   "name": "python",
   "nbconvert_exporter": "python",
   "pygments_lexer": "ipython3",
   "version": "3.9.12"
  }
 },
 "nbformat": 4,
 "nbformat_minor": 5
}
